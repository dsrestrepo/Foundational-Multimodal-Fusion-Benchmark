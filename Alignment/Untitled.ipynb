{
 "cells": [
  {
   "cell_type": "markdown",
   "id": "7f54dd17",
   "metadata": {},
   "source": [
    "### Data Alignment"
   ]
  },
  {
   "cell_type": "code",
   "execution_count": 1,
   "id": "dda7f57c",
   "metadata": {},
   "outputs": [],
   "source": [
    "import pandas as pd"
   ]
  },
  {
   "cell_type": "code",
   "execution_count": 4,
   "id": "cf721a0a",
   "metadata": {},
   "outputs": [
    {
     "data": {
      "text/plain": [
       "'An image from city Ibagué taken in date 2016-06-12.jpg with, 5.92% of the population is aged 0-4, 13.83% aged 5-14, 0.45% are Afro-Colombian, and 0.61% are of Indian descent.'"
      ]
     },
     "execution_count": 4,
     "metadata": {},
     "output_type": "execute_result"
    }
   ],
   "source": [
    "pd.read_csv('../datasets/satellitedata/labels.csv')['text'][0]"
   ]
  },
  {
   "cell_type": "code",
   "execution_count": null,
   "id": "424f03a8",
   "metadata": {},
   "outputs": [],
   "source": []
  }
 ],
 "metadata": {
  "kernelspec": {
   "display_name": "Python [conda env:data_fusion_v0_0_1]",
   "language": "python",
   "name": "conda-env-data_fusion_v0_0_1-py"
  },
  "language_info": {
   "codemirror_mode": {
    "name": "ipython",
    "version": 3
   },
   "file_extension": ".py",
   "mimetype": "text/x-python",
   "name": "python",
   "nbconvert_exporter": "python",
   "pygments_lexer": "ipython3",
   "version": "3.8.17"
  }
 },
 "nbformat": 4,
 "nbformat_minor": 5
}
