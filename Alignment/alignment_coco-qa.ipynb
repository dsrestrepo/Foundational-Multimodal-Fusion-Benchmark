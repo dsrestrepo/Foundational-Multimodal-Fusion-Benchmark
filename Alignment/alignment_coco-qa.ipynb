{
 "cells": [
  {
   "cell_type": "markdown",
   "metadata": {},
   "source": [
    "### Data Shifting Experiment"
   ]
  },
  {
   "cell_type": "markdown",
   "metadata": {},
   "source": [
    "### COCO - QA\n",
    "* [Review](https://arxiv.org/abs/1610.01465)"
   ]
  },
  {
   "cell_type": "code",
   "execution_count": 1,
   "metadata": {},
   "outputs": [
    {
     "name": "stdout",
     "output_type": "stream",
     "text": [
      "/home/datascience/Data Fusion\n"
     ]
    }
   ],
   "source": [
    "%cd .."
   ]
  },
  {
   "cell_type": "code",
   "execution_count": 2,
   "metadata": {},
   "outputs": [],
   "source": [
    "import os\n",
    "import numpy as np\n",
    "import pandas as pd\n",
    "\n",
    "from src.classifiers import preprocess_data, process_labels, split_data\n",
    "from src.classifiers import VQADataset\n",
    "from torch.utils.data import DataLoader\n",
    "from src.classifiers import train_early_fusion, train_late_fusion\n",
    "\n",
    "from utils import normalize_embeddings, modify_and_normalize_embeddings, visualize_embeddings"
   ]
  },
  {
   "cell_type": "code",
   "execution_count": 3,
   "metadata": {},
   "outputs": [],
   "source": [
    "PATH = 'Embeddings_vlm/coco-qa/'\n",
    "FILE = 'embeddings_clip.csv'\n",
    "DATASET = 'COCO-QA'\n",
    "\n",
    "batch_size = 64\n",
    "\n",
    "multilabel = False\n",
    "\n",
    "num_epochs = 50"
   ]
  },
  {
   "cell_type": "code",
   "execution_count": null,
   "metadata": {},
   "outputs": [],
   "source": [
    "df = pd.read_csv(os.path.join(PATH, FILE))\n",
    "df.drop(columns=['image_id'], inplace=True)\n",
    "df.head()"
   ]
  },
  {
   "cell_type": "code",
   "execution_count": null,
   "metadata": {},
   "outputs": [],
   "source": [
    "# Select features and labels vectors\n",
    "text_columns = [column for column in df.columns if 'text' in column]\n",
    "image_columns = [column for column in df.columns if 'image' in column]\n",
    "label_columns = 'answers'\n",
    "output_size = len(pd.unique(df[label_columns]))"
   ]
  },
  {
   "cell_type": "markdown",
   "metadata": {},
   "source": [
    "### Run Experiments"
   ]
  },
  {
   "cell_type": "code",
   "execution_count": null,
   "metadata": {},
   "outputs": [],
   "source": [
    "# Assuming df is your DataFrame\n",
    "lambda_shift_values = [-1, -0.5, 0, 0.5, 1]  # Negative values bring embeddings closer, positive values push them apart\n",
    "\n",
    "# Normalize initial embeddings\n",
    "df[text_columns] = normalize_embeddings(df[text_columns].values)\n",
    "df[image_columns] = normalize_embeddings(df[image_columns].values)\n",
    "\n",
    "# Dataframe with shifted values:\n",
    "df_shifted = df.copy()\n",
    "\n",
    "results = {}\n",
    "\n",
    "for lambda_shift in lambda_shift_values:\n",
    "    \n",
    "    print('#'*50, f' Shift {lambda_shift} ', '#'*50)\n",
    "    \n",
    "    # Extract embeddings\n",
    "    text_embeddings = df[text_columns].values\n",
    "    image_embeddings = df[image_columns].values\n",
    "    \n",
    "    # Modify and normalize embeddings\n",
    "    text_embeddings_shifted, image_embeddings_shifted = modify_and_normalize_embeddings(text_embeddings, image_embeddings, lambda_shift)\n",
    "    \n",
    "    # Update DataFrame with shifted embeddings\n",
    "    df_shifted[text_columns] = text_embeddings_shifted\n",
    "    df_shifted[image_columns] = image_embeddings_shifted\n",
    "    \n",
    "    # Visualize shifted embeddings\n",
    "    visualize_embeddings(text_embeddings_shifted, image_embeddings_shifted, f'Embeddings with Lambda Shift {lambda_shift} for {DATASET}', lambda_shift, DATASET)\n",
    "    \n",
    "    # Split the data\n",
    "    train_df, test_df = split_data(df_shifted)\n",
    "    \n",
    "    \n",
    "    # Process and one-hot encode labels for training set\n",
    "    train_labels, mlb, train_columns = process_labels(train_df, col=label_columns)\n",
    "    test_labels = process_labels(test_df, col=label_columns, train_columns=train_columns)\n",
    "\n",
    "    train_dataset = VQADataset(train_df, text_columns, image_columns, label_columns, mlb, train_columns)\n",
    "    test_dataset = VQADataset(test_df, text_columns, image_columns, label_columns, mlb, train_columns)\n",
    "\n",
    "    train_loader = DataLoader(train_dataset, batch_size=batch_size, shuffle=True, num_workers=2)\n",
    "    test_loader = DataLoader(test_dataset, batch_size=batch_size, shuffle=False, num_workers=2)\n",
    "\n",
    "    text_input_size = len(text_columns)\n",
    "    image_input_size = len(image_columns)\n",
    "\n",
    "    ### Models:\n",
    "\n",
    "    # Train early fusion model\n",
    "    print(\"Training Early Fusion Model:\")\n",
    "    accuracy, precision, recall, f1, best = train_early_fusion(train_loader, test_loader, text_input_size, image_input_size, output_size, num_epochs=num_epochs, multilabel=multilabel, report=True, V=False)\n",
    "    print(f\"Best Accuracy: {best['Acc']}\")\n",
    "    print(f\"Best Macro-F1: {best['Macro-F1']}\")\n",
    "    \n",
    "    results[f\"early_({lambda_shift})\"] = best\n",
    "    \n",
    "    # Train late fusion model\n",
    "    print(\"Training Late Fusion Model:\")\n",
    "    accuracy, precision, recall, f1, best = train_late_fusion(train_loader, test_loader, text_input_size, image_input_size, output_size, num_epochs=num_epochs, multilabel=multilabel, report=True, V=False)\n",
    "    print(f\"Best Accuracy: {best['Acc']}\")\n",
    "    print(f\"Best Macro-F1: {best['Macro-F1']}\")\n",
    "    \n",
    "    results[f\"late_({lambda_shift})\"] = best"
   ]
  },
  {
   "cell_type": "code",
   "execution_count": null,
   "metadata": {},
   "outputs": [],
   "source": [
    "print('Results Early Fusion: ')\n",
    "for lambda_shift in lambda_shift_values:\n",
    "    print(f'Shift = {lambda_shift}')\n",
    "    print(f\"Best Accuracy: {results[f'early_({lambda_shift})']['Acc']}\")\n",
    "    print(f\"Best F1: {results[f'early_({lambda_shift})']['Macro-F1']}\")\n",
    "    \n",
    "print('Results Late Fusion: ')\n",
    "for lambda_shift in lambda_shift_values:\n",
    "    print(f'Shift = {lambda_shift}')\n",
    "    print(f\"Best Accuracy: {results[f'late_({lambda_shift})']['Acc']}\")\n",
    "    print(f\"Best F1: {results[f'late_({lambda_shift})']['Macro-F1']}\")"
   ]
  },
  {
   "cell_type": "code",
   "execution_count": null,
   "metadata": {},
   "outputs": [],
   "source": []
  }
 ],
 "metadata": {
  "interpreter": {
   "hash": "bf49421d02fb18daac2fe024769d7389ca36bccb970e26253e571efb021ca22f"
  },
  "kernelspec": {
   "display_name": "Python [conda env:data_fusion_v0_0_1]",
   "language": "python",
   "name": "conda-env-data_fusion_v0_0_1-py"
  },
  "language_info": {
   "codemirror_mode": {
    "name": "ipython",
    "version": 3
   },
   "file_extension": ".py",
   "mimetype": "text/x-python",
   "name": "python",
   "nbconvert_exporter": "python",
   "pygments_lexer": "ipython3",
   "version": "3.8.17"
  }
 },
 "nbformat": 4,
 "nbformat_minor": 4
}
