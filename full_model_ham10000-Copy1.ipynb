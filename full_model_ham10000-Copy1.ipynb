{
 "cells": [
  {
   "cell_type": "markdown",
   "id": "f887f511",
   "metadata": {},
   "source": [
    "### HAM 10000\n",
    "\n",
    "* [Dataset](https://dataverse.harvard.edu/dataset.xhtml?persistentId=doi:10.7910/DVN/DBW86T)\n",
    "\n",
    "* [Original Paper](https://www.nature.com/articles/sdata2018161)"
   ]
  },
  {
   "cell_type": "markdown",
   "id": "78b074cf",
   "metadata": {},
   "source": [
    "### Setup Environment:"
   ]
  },
  {
   "cell_type": "code",
   "execution_count": 1,
   "id": "1e5e1537",
   "metadata": {},
   "outputs": [],
   "source": [
    "import os\n",
    "import pandas as pd\n",
    "\n",
    "from src.classifiers import process_labels, split_data\n",
    "from src.classifiers_base import preprocess_df\n",
    "\n",
    "from transformers import BertTokenizer\n",
    "\n",
    "from src.multimodal_data_loader import VQADataset\n",
    "from torch.utils.data import DataLoader\n",
    "\n",
    "from src.classifiers_base import train_early_fusion, train_late_fusion"
   ]
  },
  {
   "cell_type": "code",
   "execution_count": 2,
   "id": "28c35371",
   "metadata": {},
   "outputs": [],
   "source": [
    "PATH = 'datasets/ham10000/'"
   ]
  },
  {
   "cell_type": "code",
   "execution_count": 3,
   "id": "ddbda613",
   "metadata": {},
   "outputs": [],
   "source": [
    "text_path = os.path.join(PATH, 'labels.csv')\n",
    "images_path = os.path.join(PATH, 'images')"
   ]
  },
  {
   "cell_type": "markdown",
   "id": "9c9bb5df",
   "metadata": {},
   "source": [
    "## Get data"
   ]
  },
  {
   "cell_type": "code",
   "execution_count": 4,
   "id": "ab4b87e9",
   "metadata": {},
   "outputs": [
    {
     "data": {
      "text/html": [
       "<div>\n",
       "<style scoped>\n",
       "    .dataframe tbody tr th:only-of-type {\n",
       "        vertical-align: middle;\n",
       "    }\n",
       "\n",
       "    .dataframe tbody tr th {\n",
       "        vertical-align: top;\n",
       "    }\n",
       "\n",
       "    .dataframe thead th {\n",
       "        text-align: right;\n",
       "    }\n",
       "</style>\n",
       "<table border=\"1\" class=\"dataframe\">\n",
       "  <thead>\n",
       "    <tr style=\"text-align: right;\">\n",
       "      <th></th>\n",
       "      <th>image_id</th>\n",
       "      <th>dx</th>\n",
       "      <th>text</th>\n",
       "      <th>split</th>\n",
       "    </tr>\n",
       "  </thead>\n",
       "  <tbody>\n",
       "    <tr>\n",
       "      <th>0</th>\n",
       "      <td>ISIC_0033319</td>\n",
       "      <td>nv</td>\n",
       "      <td>Patient diagnosed via histo. Age: 35 years. Se...</td>\n",
       "      <td>train</td>\n",
       "    </tr>\n",
       "    <tr>\n",
       "      <th>1</th>\n",
       "      <td>ISIC_0030823</td>\n",
       "      <td>nv</td>\n",
       "      <td>Patient diagnosed via follow_up. Age: 40 years...</td>\n",
       "      <td>train</td>\n",
       "    </tr>\n",
       "    <tr>\n",
       "      <th>2</th>\n",
       "      <td>ISIC_0028730</td>\n",
       "      <td>akiec</td>\n",
       "      <td>Patient diagnosed via histo. Age: 65 years. Se...</td>\n",
       "      <td>train</td>\n",
       "    </tr>\n",
       "    <tr>\n",
       "      <th>3</th>\n",
       "      <td>ISIC_0027299</td>\n",
       "      <td>nv</td>\n",
       "      <td>Patient diagnosed via follow_up. Age: 40 years...</td>\n",
       "      <td>train</td>\n",
       "    </tr>\n",
       "    <tr>\n",
       "      <th>4</th>\n",
       "      <td>ISIC_0032444</td>\n",
       "      <td>nv</td>\n",
       "      <td>Patient diagnosed via histo. Age: 65 years. Se...</td>\n",
       "      <td>train</td>\n",
       "    </tr>\n",
       "    <tr>\n",
       "      <th>...</th>\n",
       "      <td>...</td>\n",
       "      <td>...</td>\n",
       "      <td>...</td>\n",
       "      <td>...</td>\n",
       "    </tr>\n",
       "    <tr>\n",
       "      <th>10010</th>\n",
       "      <td>ISIC_0034116</td>\n",
       "      <td>nv</td>\n",
       "      <td>Patient diagnosed via histo. Age: 35 years. Se...</td>\n",
       "      <td>test</td>\n",
       "    </tr>\n",
       "    <tr>\n",
       "      <th>10011</th>\n",
       "      <td>ISIC_0026453</td>\n",
       "      <td>bcc</td>\n",
       "      <td>Patient diagnosed via histo. Age: 55 years. Se...</td>\n",
       "      <td>test</td>\n",
       "    </tr>\n",
       "    <tr>\n",
       "      <th>10012</th>\n",
       "      <td>ISIC_0029885</td>\n",
       "      <td>mel</td>\n",
       "      <td>Patient diagnosed via histo. Age: 35 years. Se...</td>\n",
       "      <td>test</td>\n",
       "    </tr>\n",
       "    <tr>\n",
       "      <th>10013</th>\n",
       "      <td>ISIC_0033226</td>\n",
       "      <td>mel</td>\n",
       "      <td>Patient diagnosed via histo. Age: 65 years. Se...</td>\n",
       "      <td>test</td>\n",
       "    </tr>\n",
       "    <tr>\n",
       "      <th>10014</th>\n",
       "      <td>ISIC_0033065</td>\n",
       "      <td>nv</td>\n",
       "      <td>Patient diagnosed via consensus. Age: No data ...</td>\n",
       "      <td>test</td>\n",
       "    </tr>\n",
       "  </tbody>\n",
       "</table>\n",
       "<p>10015 rows × 4 columns</p>\n",
       "</div>"
      ],
      "text/plain": [
       "           image_id     dx                                               text  \\\n",
       "0      ISIC_0033319     nv  Patient diagnosed via histo. Age: 35 years. Se...   \n",
       "1      ISIC_0030823     nv  Patient diagnosed via follow_up. Age: 40 years...   \n",
       "2      ISIC_0028730  akiec  Patient diagnosed via histo. Age: 65 years. Se...   \n",
       "3      ISIC_0027299     nv  Patient diagnosed via follow_up. Age: 40 years...   \n",
       "4      ISIC_0032444     nv  Patient diagnosed via histo. Age: 65 years. Se...   \n",
       "...             ...    ...                                                ...   \n",
       "10010  ISIC_0034116     nv  Patient diagnosed via histo. Age: 35 years. Se...   \n",
       "10011  ISIC_0026453    bcc  Patient diagnosed via histo. Age: 55 years. Se...   \n",
       "10012  ISIC_0029885    mel  Patient diagnosed via histo. Age: 35 years. Se...   \n",
       "10013  ISIC_0033226    mel  Patient diagnosed via histo. Age: 65 years. Se...   \n",
       "10014  ISIC_0033065     nv  Patient diagnosed via consensus. Age: No data ...   \n",
       "\n",
       "       split  \n",
       "0      train  \n",
       "1      train  \n",
       "2      train  \n",
       "3      train  \n",
       "4      train  \n",
       "...      ...  \n",
       "10010   test  \n",
       "10011   test  \n",
       "10012   test  \n",
       "10013   test  \n",
       "10014   test  \n",
       "\n",
       "[10015 rows x 4 columns]"
      ]
     },
     "execution_count": 4,
     "metadata": {},
     "output_type": "execute_result"
    }
   ],
   "source": [
    "df = pd.read_csv(text_path)\n",
    "df"
   ]
  },
  {
   "cell_type": "markdown",
   "id": "382ee9e9",
   "metadata": {},
   "source": [
    "## Data Perparation"
   ]
  },
  {
   "cell_type": "code",
   "execution_count": 5,
   "id": "5f67d1dc",
   "metadata": {},
   "outputs": [
    {
     "name": "stderr",
     "output_type": "stream",
     "text": [
      "100%|██████████| 10015/10015 [00:01<00:00, 6617.11it/s]\n",
      "100%|██████████| 10015/10015 [00:01<00:00, 7913.59it/s]\n"
     ]
    },
    {
     "name": "stdout",
     "output_type": "stream",
     "text": [
      "Train Shape: (8012, 4)\n",
      "Test Shape: (2003, 4)\n"
     ]
    }
   ],
   "source": [
    "# Select features and labels vectors\n",
    "text_columns = 'text'\n",
    "image_columns = 'image_id'\n",
    "label_columns = 'dx'\n",
    "\n",
    "df = preprocess_df(df, image_columns, images_path)\n",
    "\n",
    "# Split the data\n",
    "train_df, test_df = split_data(df)\n",
    "\n",
    "# Process and one-hot encode labels for training set\n",
    "train_labels, mlb, train_columns = process_labels(train_df, col=label_columns)\n",
    "test_labels = process_labels(test_df, col=label_columns, train_columns=train_columns)"
   ]
  },
  {
   "cell_type": "code",
   "execution_count": 6,
   "id": "6cf16f87",
   "metadata": {},
   "outputs": [
    {
     "data": {
      "text/html": [
       "<div>\n",
       "<style scoped>\n",
       "    .dataframe tbody tr th:only-of-type {\n",
       "        vertical-align: middle;\n",
       "    }\n",
       "\n",
       "    .dataframe tbody tr th {\n",
       "        vertical-align: top;\n",
       "    }\n",
       "\n",
       "    .dataframe thead th {\n",
       "        text-align: right;\n",
       "    }\n",
       "</style>\n",
       "<table border=\"1\" class=\"dataframe\">\n",
       "  <thead>\n",
       "    <tr style=\"text-align: right;\">\n",
       "      <th></th>\n",
       "      <th>image_id</th>\n",
       "      <th>dx</th>\n",
       "      <th>text</th>\n",
       "      <th>split</th>\n",
       "    </tr>\n",
       "  </thead>\n",
       "  <tbody>\n",
       "    <tr>\n",
       "      <th>0</th>\n",
       "      <td>datasets/ham10000/images/ISIC_0033319.jpg</td>\n",
       "      <td>nv</td>\n",
       "      <td>Patient diagnosed via histo. Age: 35 years. Se...</td>\n",
       "      <td>train</td>\n",
       "    </tr>\n",
       "    <tr>\n",
       "      <th>1</th>\n",
       "      <td>datasets/ham10000/images/ISIC_0030823.jpg</td>\n",
       "      <td>nv</td>\n",
       "      <td>Patient diagnosed via follow_up. Age: 40 years...</td>\n",
       "      <td>train</td>\n",
       "    </tr>\n",
       "    <tr>\n",
       "      <th>2</th>\n",
       "      <td>datasets/ham10000/images/ISIC_0028730.jpg</td>\n",
       "      <td>akiec</td>\n",
       "      <td>Patient diagnosed via histo. Age: 65 years. Se...</td>\n",
       "      <td>train</td>\n",
       "    </tr>\n",
       "    <tr>\n",
       "      <th>3</th>\n",
       "      <td>datasets/ham10000/images/ISIC_0027299.jpg</td>\n",
       "      <td>nv</td>\n",
       "      <td>Patient diagnosed via follow_up. Age: 40 years...</td>\n",
       "      <td>train</td>\n",
       "    </tr>\n",
       "    <tr>\n",
       "      <th>4</th>\n",
       "      <td>datasets/ham10000/images/ISIC_0032444.jpg</td>\n",
       "      <td>nv</td>\n",
       "      <td>Patient diagnosed via histo. Age: 65 years. Se...</td>\n",
       "      <td>train</td>\n",
       "    </tr>\n",
       "    <tr>\n",
       "      <th>...</th>\n",
       "      <td>...</td>\n",
       "      <td>...</td>\n",
       "      <td>...</td>\n",
       "      <td>...</td>\n",
       "    </tr>\n",
       "    <tr>\n",
       "      <th>8007</th>\n",
       "      <td>datasets/ham10000/images/ISIC_0032692.jpg</td>\n",
       "      <td>vasc</td>\n",
       "      <td>Patient diagnosed via histo. Age: 35 years. Se...</td>\n",
       "      <td>train</td>\n",
       "    </tr>\n",
       "    <tr>\n",
       "      <th>8008</th>\n",
       "      <td>datasets/ham10000/images/ISIC_0029317.jpg</td>\n",
       "      <td>nv</td>\n",
       "      <td>Patient diagnosed via follow_up. Age: 45 years...</td>\n",
       "      <td>train</td>\n",
       "    </tr>\n",
       "    <tr>\n",
       "      <th>8009</th>\n",
       "      <td>datasets/ham10000/images/ISIC_0025983.jpg</td>\n",
       "      <td>nv</td>\n",
       "      <td>Patient diagnosed via histo. Age: 20 years. Se...</td>\n",
       "      <td>train</td>\n",
       "    </tr>\n",
       "    <tr>\n",
       "      <th>8010</th>\n",
       "      <td>datasets/ham10000/images/ISIC_0027256.jpg</td>\n",
       "      <td>vasc</td>\n",
       "      <td>Patient diagnosed via consensus. Age: 0 years....</td>\n",
       "      <td>train</td>\n",
       "    </tr>\n",
       "    <tr>\n",
       "      <th>8011</th>\n",
       "      <td>datasets/ham10000/images/ISIC_0026312.jpg</td>\n",
       "      <td>nv</td>\n",
       "      <td>Patient diagnosed via follow_up. Age: 50 years...</td>\n",
       "      <td>train</td>\n",
       "    </tr>\n",
       "  </tbody>\n",
       "</table>\n",
       "<p>8012 rows × 4 columns</p>\n",
       "</div>"
      ],
      "text/plain": [
       "                                       image_id     dx  \\\n",
       "0     datasets/ham10000/images/ISIC_0033319.jpg     nv   \n",
       "1     datasets/ham10000/images/ISIC_0030823.jpg     nv   \n",
       "2     datasets/ham10000/images/ISIC_0028730.jpg  akiec   \n",
       "3     datasets/ham10000/images/ISIC_0027299.jpg     nv   \n",
       "4     datasets/ham10000/images/ISIC_0032444.jpg     nv   \n",
       "...                                         ...    ...   \n",
       "8007  datasets/ham10000/images/ISIC_0032692.jpg   vasc   \n",
       "8008  datasets/ham10000/images/ISIC_0029317.jpg     nv   \n",
       "8009  datasets/ham10000/images/ISIC_0025983.jpg     nv   \n",
       "8010  datasets/ham10000/images/ISIC_0027256.jpg   vasc   \n",
       "8011  datasets/ham10000/images/ISIC_0026312.jpg     nv   \n",
       "\n",
       "                                                   text  split  \n",
       "0     Patient diagnosed via histo. Age: 35 years. Se...  train  \n",
       "1     Patient diagnosed via follow_up. Age: 40 years...  train  \n",
       "2     Patient diagnosed via histo. Age: 65 years. Se...  train  \n",
       "3     Patient diagnosed via follow_up. Age: 40 years...  train  \n",
       "4     Patient diagnosed via histo. Age: 65 years. Se...  train  \n",
       "...                                                 ...    ...  \n",
       "8007  Patient diagnosed via histo. Age: 35 years. Se...  train  \n",
       "8008  Patient diagnosed via follow_up. Age: 45 years...  train  \n",
       "8009  Patient diagnosed via histo. Age: 20 years. Se...  train  \n",
       "8010  Patient diagnosed via consensus. Age: 0 years....  train  \n",
       "8011  Patient diagnosed via follow_up. Age: 50 years...  train  \n",
       "\n",
       "[8012 rows x 4 columns]"
      ]
     },
     "execution_count": 6,
     "metadata": {},
     "output_type": "execute_result"
    }
   ],
   "source": [
    "train_df"
   ]
  },
  {
   "cell_type": "code",
   "execution_count": 7,
   "id": "2ecfbc7e",
   "metadata": {},
   "outputs": [],
   "source": [
    "# Instantiate tokenizer\n",
    "tokenizer = BertTokenizer.from_pretrained('bert-base-uncased')"
   ]
  },
  {
   "cell_type": "code",
   "execution_count": 8,
   "id": "a07e6acf",
   "metadata": {},
   "outputs": [],
   "source": [
    "train_dataset = VQADataset(train_df, text_columns, image_columns, label_columns, mlb, train_columns, tokenizer)\n",
    "test_dataset = VQADataset(test_df, text_columns, image_columns, label_columns, mlb, train_columns, tokenizer)\n",
    "\n",
    "train_loader = DataLoader(train_dataset, batch_size=64, shuffle=True, num_workers=2)\n",
    "test_loader = DataLoader(test_dataset, batch_size=64, shuffle=False, num_workers=2)"
   ]
  },
  {
   "cell_type": "markdown",
   "id": "f2edc836",
   "metadata": {},
   "source": [
    "### Models"
   ]
  },
  {
   "cell_type": "code",
   "execution_count": 9,
   "id": "b06ec99b",
   "metadata": {},
   "outputs": [],
   "source": [
    "if label_columns == 'DR_2':\n",
    "    output_size = 1\n",
    "else:\n",
    "    output_size = len(pd.unique(train_df[label_columns]))\n",
    "multilabel = False"
   ]
  },
  {
   "cell_type": "code",
   "execution_count": null,
   "id": "749fe0b7",
   "metadata": {},
   "outputs": [
    {
     "name": "stdout",
     "output_type": "stream",
     "text": [
      "Training Early Fusion Model:\n",
      "The number of parameters of the model are: 197895\n"
     ]
    }
   ],
   "source": [
    "# Train early fusion model\n",
    "print(\"Training Early Fusion Model:\")\n",
    "train_early_fusion(train_loader, test_loader, output_size, num_epochs=15, multilabel=multilabel, report=True, lr=0.001, freeze_backbone=True)"
   ]
  },
  {
   "cell_type": "code",
   "execution_count": null,
   "id": "48eeabf7",
   "metadata": {},
   "outputs": [],
   "source": [
    "# Train late fusion model\n",
    "print(\"Training Late Fusion Model:\")\n",
    "train_late_fusion(train_loader, test_loader, output_size, num_epochs=15, multilabel=multilabel, report=True, freeze_backbone=True)"
   ]
  },
  {
   "cell_type": "code",
   "execution_count": null,
   "id": "77a6914d",
   "metadata": {},
   "outputs": [],
   "source": []
  }
 ],
 "metadata": {
  "kernelspec": {
   "display_name": "Python [conda env:data_fusion_v0_0_1]",
   "language": "python",
   "name": "conda-env-data_fusion_v0_0_1-py"
  },
  "language_info": {
   "codemirror_mode": {
    "name": "ipython",
    "version": 3
   },
   "file_extension": ".py",
   "mimetype": "text/x-python",
   "name": "python",
   "nbconvert_exporter": "python",
   "pygments_lexer": "ipython3",
   "version": "3.8.17"
  }
 },
 "nbformat": 4,
 "nbformat_minor": 5
}
