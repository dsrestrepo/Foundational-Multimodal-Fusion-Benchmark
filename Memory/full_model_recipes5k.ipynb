{
 "cells": [
  {
   "cell_type": "markdown",
   "id": "a9338ddf",
   "metadata": {},
   "source": [
    "### Recipes 5k\n",
    "\n",
    "* [Dataset](http://www.ub.edu/cvub/recipes5k/)\n",
    "\n",
    "* [Original Paper](https://www.researchgate.net/publication/318729535_Food_Ingredients_Recognition_through_Multi-label_Learning)"
   ]
  },
  {
   "cell_type": "code",
   "execution_count": null,
   "id": "6d519298",
   "metadata": {},
   "outputs": [],
   "source": [
    "%cd .."
   ]
  },
  {
   "cell_type": "markdown",
   "id": "8b5374d6",
   "metadata": {},
   "source": [
    "### Setup Environment:"
   ]
  },
  {
   "cell_type": "code",
   "execution_count": 2,
   "id": "1b944342",
   "metadata": {},
   "outputs": [],
   "source": [
    "import os\n",
    "import pandas as pd\n",
    "\n",
    "from src.classifiers import process_labels, split_data\n",
    "from src.classifiers_base import preprocess_df\n",
    "\n",
    "from transformers import BertTokenizer\n",
    "\n",
    "from src.multimodal_data_loader import VQADataset\n",
    "from torch.utils.data import DataLoader\n",
    "\n",
    "from src.classifiers_base_cpu_metrics import calculate_memory"
   ]
  },
  {
   "cell_type": "code",
   "execution_count": 3,
   "id": "32fd7662",
   "metadata": {},
   "outputs": [],
   "source": [
    "PATH = 'datasets/Recipes5k/'"
   ]
  },
  {
   "cell_type": "code",
   "execution_count": 4,
   "id": "f418fb8b",
   "metadata": {},
   "outputs": [],
   "source": [
    "text_path = os.path.join(PATH, 'labels.csv')\n",
    "images_path = os.path.join(PATH, 'images')"
   ]
  },
  {
   "cell_type": "markdown",
   "id": "9e4db644",
   "metadata": {},
   "source": [
    "## Get data"
   ]
  },
  {
   "cell_type": "code",
   "execution_count": 5,
   "id": "06bb1341",
   "metadata": {},
   "outputs": [
    {
     "data": {
      "text/html": [
       "<div>\n",
       "<style scoped>\n",
       "    .dataframe tbody tr th:only-of-type {\n",
       "        vertical-align: middle;\n",
       "    }\n",
       "\n",
       "    .dataframe tbody tr th {\n",
       "        vertical-align: top;\n",
       "    }\n",
       "\n",
       "    .dataframe thead th {\n",
       "        text-align: right;\n",
       "    }\n",
       "</style>\n",
       "<table border=\"1\" class=\"dataframe\">\n",
       "  <thead>\n",
       "    <tr style=\"text-align: right;\">\n",
       "      <th></th>\n",
       "      <th>image</th>\n",
       "      <th>class</th>\n",
       "      <th>split</th>\n",
       "      <th>ingredients</th>\n",
       "    </tr>\n",
       "  </thead>\n",
       "  <tbody>\n",
       "    <tr>\n",
       "      <th>0</th>\n",
       "      <td>onion_rings/0_einkorn_onion_rings_hostedLargeU...</td>\n",
       "      <td>onion_rings</td>\n",
       "      <td>val</td>\n",
       "      <td>yellow onion,flour,baking powder,seasoning sal...</td>\n",
       "    </tr>\n",
       "    <tr>\n",
       "      <th>1</th>\n",
       "      <td>onion_rings/1_crispy_onion_rings_hostedLargeUr...</td>\n",
       "      <td>onion_rings</td>\n",
       "      <td>train</td>\n",
       "      <td>white onion,panko,cornmeal,ground paprika,onio...</td>\n",
       "    </tr>\n",
       "    <tr>\n",
       "      <th>2</th>\n",
       "      <td>onion_rings/2_onion_rings_hostedLargeUrl.jpg</td>\n",
       "      <td>onion_rings</td>\n",
       "      <td>train</td>\n",
       "      <td>yellow onion,all-purpose flour,baking powder,l...</td>\n",
       "    </tr>\n",
       "    <tr>\n",
       "      <th>3</th>\n",
       "      <td>onion_rings/3_onion_rings_hostedLargeUrl.jpg</td>\n",
       "      <td>onion_rings</td>\n",
       "      <td>train</td>\n",
       "      <td>oil,pancake mix,spanish onion</td>\n",
       "    </tr>\n",
       "    <tr>\n",
       "      <th>4</th>\n",
       "      <td>onion_rings/4_onion_rings_hostedLargeUrl.jpg</td>\n",
       "      <td>onion_rings</td>\n",
       "      <td>train</td>\n",
       "      <td>peanut oil,sweet onion,flour,eggs,celery salt,...</td>\n",
       "    </tr>\n",
       "    <tr>\n",
       "      <th>...</th>\n",
       "      <td>...</td>\n",
       "      <td>...</td>\n",
       "      <td>...</td>\n",
       "      <td>...</td>\n",
       "    </tr>\n",
       "    <tr>\n",
       "      <th>4821</th>\n",
       "      <td>chocolate_ice_cream/45_chocolate_ice_cream_hos...</td>\n",
       "      <td>chocolate_ice_cream</td>\n",
       "      <td>train</td>\n",
       "      <td>dark chocolate,whole milk,unsweetened cocoa po...</td>\n",
       "    </tr>\n",
       "    <tr>\n",
       "      <th>4822</th>\n",
       "      <td>chocolate_ice_cream/46_dark_chocolate_ice_crea...</td>\n",
       "      <td>chocolate_ice_cream</td>\n",
       "      <td>train</td>\n",
       "      <td>half &amp; half,whole milk,heavy cream,sugar,sea s...</td>\n",
       "    </tr>\n",
       "    <tr>\n",
       "      <th>4823</th>\n",
       "      <td>chocolate_ice_cream/47_the_darkest_chocolate_i...</td>\n",
       "      <td>chocolate_ice_cream</td>\n",
       "      <td>train</td>\n",
       "      <td>unsweetened cocoa powder,brewed coffee,granula...</td>\n",
       "    </tr>\n",
       "    <tr>\n",
       "      <th>4824</th>\n",
       "      <td>chocolate_ice_cream/48_homemade_chocolate_ice_...</td>\n",
       "      <td>chocolate_ice_cream</td>\n",
       "      <td>train</td>\n",
       "      <td>unsweetened cocoa powder,sugar,firmly packed b...</td>\n",
       "    </tr>\n",
       "    <tr>\n",
       "      <th>4825</th>\n",
       "      <td>chocolate_ice_cream/49_mint_chocolate_ice_crea...</td>\n",
       "      <td>chocolate_ice_cream</td>\n",
       "      <td>train</td>\n",
       "      <td>fresh mint,heavy cream,whole milk,dark chocola...</td>\n",
       "    </tr>\n",
       "  </tbody>\n",
       "</table>\n",
       "<p>4826 rows × 4 columns</p>\n",
       "</div>"
      ],
      "text/plain": [
       "                                                  image                class  \\\n",
       "0     onion_rings/0_einkorn_onion_rings_hostedLargeU...          onion_rings   \n",
       "1     onion_rings/1_crispy_onion_rings_hostedLargeUr...          onion_rings   \n",
       "2          onion_rings/2_onion_rings_hostedLargeUrl.jpg          onion_rings   \n",
       "3          onion_rings/3_onion_rings_hostedLargeUrl.jpg          onion_rings   \n",
       "4          onion_rings/4_onion_rings_hostedLargeUrl.jpg          onion_rings   \n",
       "...                                                 ...                  ...   \n",
       "4821  chocolate_ice_cream/45_chocolate_ice_cream_hos...  chocolate_ice_cream   \n",
       "4822  chocolate_ice_cream/46_dark_chocolate_ice_crea...  chocolate_ice_cream   \n",
       "4823  chocolate_ice_cream/47_the_darkest_chocolate_i...  chocolate_ice_cream   \n",
       "4824  chocolate_ice_cream/48_homemade_chocolate_ice_...  chocolate_ice_cream   \n",
       "4825  chocolate_ice_cream/49_mint_chocolate_ice_crea...  chocolate_ice_cream   \n",
       "\n",
       "      split                                        ingredients  \n",
       "0       val  yellow onion,flour,baking powder,seasoning sal...  \n",
       "1     train  white onion,panko,cornmeal,ground paprika,onio...  \n",
       "2     train  yellow onion,all-purpose flour,baking powder,l...  \n",
       "3     train                      oil,pancake mix,spanish onion  \n",
       "4     train  peanut oil,sweet onion,flour,eggs,celery salt,...  \n",
       "...     ...                                                ...  \n",
       "4821  train  dark chocolate,whole milk,unsweetened cocoa po...  \n",
       "4822  train  half & half,whole milk,heavy cream,sugar,sea s...  \n",
       "4823  train  unsweetened cocoa powder,brewed coffee,granula...  \n",
       "4824  train  unsweetened cocoa powder,sugar,firmly packed b...  \n",
       "4825  train  fresh mint,heavy cream,whole milk,dark chocola...  \n",
       "\n",
       "[4826 rows x 4 columns]"
      ]
     },
     "execution_count": 5,
     "metadata": {},
     "output_type": "execute_result"
    }
   ],
   "source": [
    "df = pd.read_csv(text_path)\n",
    "df"
   ]
  },
  {
   "cell_type": "markdown",
   "id": "7e33ffe3",
   "metadata": {},
   "source": [
    "## Data Perparation"
   ]
  },
  {
   "cell_type": "code",
   "execution_count": 6,
   "id": "5022ece1",
   "metadata": {},
   "outputs": [
    {
     "name": "stderr",
     "output_type": "stream",
     "text": [
      "100%|██████████| 4826/4826 [00:00<00:00, 13443.84it/s]\n",
      "100%|██████████| 4826/4826 [00:00<00:00, 15914.57it/s]\n"
     ]
    },
    {
     "name": "stdout",
     "output_type": "stream",
     "text": [
      "Train Shape: (3409, 4)\n",
      "Test Shape: (783, 4)\n"
     ]
    }
   ],
   "source": [
    "# Select features and labels vectors\n",
    "text_columns = 'ingredients'\n",
    "image_columns = 'image'\n",
    "label_columns = 'class'\n",
    "\n",
    "df = preprocess_df(df, image_columns, images_path)\n",
    "\n",
    "# Split the data\n",
    "train_df, test_df = split_data(df)\n",
    "\n",
    "# Process and one-hot encode labels for training set\n",
    "train_labels, mlb, train_columns = process_labels(train_df, col=label_columns)\n",
    "test_labels = process_labels(test_df, col=label_columns, train_columns=train_columns)"
   ]
  },
  {
   "cell_type": "code",
   "execution_count": 7,
   "id": "2a47e6eb",
   "metadata": {},
   "outputs": [],
   "source": [
    "# Instantiate tokenizer\n",
    "tokenizer = BertTokenizer.from_pretrained('bert-base-uncased')"
   ]
  },
  {
   "cell_type": "code",
   "execution_count": 11,
   "id": "574930c5",
   "metadata": {},
   "outputs": [],
   "source": [
    "train_dataset = VQADataset(train_df, text_columns, image_columns, label_columns, mlb, train_columns, tokenizer)\n",
    "test_dataset = VQADataset(test_df, text_columns, image_columns, label_columns, mlb, train_columns, tokenizer)\n",
    "\n",
    "train_loader = DataLoader(train_dataset, batch_size=64, shuffle=True, num_workers=1)\n",
    "test_loader = DataLoader(test_dataset, batch_size=64, shuffle=False, num_workers=1)"
   ]
  },
  {
   "cell_type": "markdown",
   "id": "cfc04e65",
   "metadata": {},
   "source": [
    "### Models"
   ]
  },
  {
   "cell_type": "code",
   "execution_count": 12,
   "id": "489770d0",
   "metadata": {},
   "outputs": [],
   "source": [
    "output_size = len(mlb.classes_)\n",
    "multilabel = False"
   ]
  },
  {
   "cell_type": "code",
   "execution_count": 10,
   "id": "3bf3e264",
   "metadata": {},
   "outputs": [
    {
     "name": "stdout",
     "output_type": "stream",
     "text": [
      "Early fusion:\n",
      "Average Memory per Batch in Train: 36.27 MB\n",
      "Total Memory Usage per Epoch Train: 1958.83 MB (excluding model parameters)\n",
      "Test:\n",
      "Average Memory per Batch in Test: 8.33 MB\n",
      "Total Memory Usage per Epoch Test: 108.31 MB (excluding model parameters)\n",
      "Model: \n",
      "Model Memory Usage: 747.99 MB\n",
      "Late fusion:\n",
      "Average Memory per Batch in Train: 36.27 MB\n",
      "Total Memory Usage per Epoch Train: 1958.83 MB (excluding model parameters)\n",
      "Test:\n",
      "Average Memory per Batch in Test: 8.33 MB\n",
      "Total Memory Usage per Epoch Test: 108.31 MB (excluding model parameters)\n",
      "Model: \n",
      "Model Memory Usage: 747.62 MB\n"
     ]
    }
   ],
   "source": [
    "calculate_memory(train_loader, test_loader, output_size)"
   ]
  },
  {
   "cell_type": "code",
   "execution_count": null,
   "id": "4e4caa7d",
   "metadata": {},
   "outputs": [],
   "source": []
  }
 ],
 "metadata": {
  "kernelspec": {
   "display_name": "Python [conda env:retina_embeddings_v0_0_1]",
   "language": "python",
   "name": "conda-env-retina_embeddings_v0_0_1-py"
  },
  "language_info": {
   "codemirror_mode": {
    "name": "ipython",
    "version": 3
   },
   "file_extension": ".py",
   "mimetype": "text/x-python",
   "name": "python",
   "nbconvert_exporter": "python",
   "pygments_lexer": "ipython3",
   "version": "3.8.17"
  }
 },
 "nbformat": 4,
 "nbformat_minor": 5
}
