{
 "cells": [
  {
   "cell_type": "markdown",
   "id": "41ff7fd8",
   "metadata": {},
   "source": [
    "### Modeling DAQUAR\n",
    "* [Dataset](https://www.mpi-inf.mpg.de/departments/computer-vision-and-machine-learning/research/vision-and-language/visual-turing-challenge)\n",
    "\n",
    "* [Original Paper](chrome-extension://efaidnbmnnnibpcajpcglclefindmkaj/https://proceedings.neurips.cc/paper_files/paper/2014/file/d516b13671a4179d9b7b458a6ebdeb92-Paper.pdf)"
   ]
  },
  {
   "cell_type": "code",
   "execution_count": 1,
   "id": "7ac34988",
   "metadata": {},
   "outputs": [
    {
     "name": "stdout",
     "output_type": "stream",
     "text": [
      "/home/datascience/Data Fusion\n"
     ]
    }
   ],
   "source": [
    "%cd .."
   ]
  },
  {
   "cell_type": "markdown",
   "id": "5cefefdc",
   "metadata": {},
   "source": [
    "### Setup Environment:"
   ]
  },
  {
   "cell_type": "code",
   "execution_count": 2,
   "id": "d88179cc",
   "metadata": {},
   "outputs": [],
   "source": [
    "import os\n",
    "import pandas as pd\n",
    "\n",
    "from src.classifiers import process_labels, split_data\n",
    "from src.classifiers_base import preprocess_df\n",
    "\n",
    "from transformers import BertTokenizer\n",
    "\n",
    "from src.multimodal_data_loader import VQADataset\n",
    "from torch.utils.data import DataLoader\n",
    "\n",
    "from src.classifiers_base_cpu_metrics import calculate_memory"
   ]
  },
  {
   "cell_type": "code",
   "execution_count": 3,
   "id": "86e6931a",
   "metadata": {},
   "outputs": [],
   "source": [
    "PATH = 'datasets/daquar/'"
   ]
  },
  {
   "cell_type": "code",
   "execution_count": 4,
   "id": "2f1bbb12",
   "metadata": {},
   "outputs": [],
   "source": [
    "text_path = os.path.join(PATH, 'labels.csv')\n",
    "images_path = os.path.join(PATH, 'images')"
   ]
  },
  {
   "cell_type": "markdown",
   "id": "cc713e1d",
   "metadata": {},
   "source": [
    "## Get data"
   ]
  },
  {
   "cell_type": "code",
   "execution_count": 5,
   "id": "73bf3dfd",
   "metadata": {},
   "outputs": [
    {
     "data": {
      "text/html": [
       "<div>\n",
       "<style scoped>\n",
       "    .dataframe tbody tr th:only-of-type {\n",
       "        vertical-align: middle;\n",
       "    }\n",
       "\n",
       "    .dataframe tbody tr th {\n",
       "        vertical-align: top;\n",
       "    }\n",
       "\n",
       "    .dataframe thead th {\n",
       "        text-align: right;\n",
       "    }\n",
       "</style>\n",
       "<table border=\"1\" class=\"dataframe\">\n",
       "  <thead>\n",
       "    <tr style=\"text-align: right;\">\n",
       "      <th></th>\n",
       "      <th>question</th>\n",
       "      <th>image_id</th>\n",
       "      <th>answer</th>\n",
       "      <th>split</th>\n",
       "    </tr>\n",
       "  </thead>\n",
       "  <tbody>\n",
       "    <tr>\n",
       "      <th>0</th>\n",
       "      <td>what is on the right side of the black telepho...</td>\n",
       "      <td>image3</td>\n",
       "      <td>desk</td>\n",
       "      <td>train</td>\n",
       "    </tr>\n",
       "    <tr>\n",
       "      <th>1</th>\n",
       "      <td>what is in front of the white door on the left...</td>\n",
       "      <td>image3</td>\n",
       "      <td>telephone</td>\n",
       "      <td>train</td>\n",
       "    </tr>\n",
       "    <tr>\n",
       "      <th>2</th>\n",
       "      <td>what is on the desk in the image3 ?</td>\n",
       "      <td>image3</td>\n",
       "      <td>book, scissor, papers, tape_dispenser</td>\n",
       "      <td>train</td>\n",
       "    </tr>\n",
       "    <tr>\n",
       "      <th>3</th>\n",
       "      <td>what is the largest brown objects in this imag...</td>\n",
       "      <td>image3</td>\n",
       "      <td>carton</td>\n",
       "      <td>train</td>\n",
       "    </tr>\n",
       "    <tr>\n",
       "      <th>4</th>\n",
       "      <td>what color is the chair in front of the white ...</td>\n",
       "      <td>image3</td>\n",
       "      <td>red</td>\n",
       "      <td>train</td>\n",
       "    </tr>\n",
       "    <tr>\n",
       "      <th>...</th>\n",
       "      <td>...</td>\n",
       "      <td>...</td>\n",
       "      <td>...</td>\n",
       "      <td>...</td>\n",
       "    </tr>\n",
       "    <tr>\n",
       "      <th>12463</th>\n",
       "      <td>what is found below the chandelier in the imag...</td>\n",
       "      <td>image1448</td>\n",
       "      <td>table</td>\n",
       "      <td>test</td>\n",
       "    </tr>\n",
       "    <tr>\n",
       "      <th>12464</th>\n",
       "      <td>what is on the floor in the image1449 ?</td>\n",
       "      <td>image1449</td>\n",
       "      <td>rug</td>\n",
       "      <td>test</td>\n",
       "    </tr>\n",
       "    <tr>\n",
       "      <th>12465</th>\n",
       "      <td>what are around dining table in the image1449 ?</td>\n",
       "      <td>image1449</td>\n",
       "      <td>chair</td>\n",
       "      <td>test</td>\n",
       "    </tr>\n",
       "    <tr>\n",
       "      <th>12466</th>\n",
       "      <td>what is at the opposite side of the dining tab...</td>\n",
       "      <td>image1449</td>\n",
       "      <td>decoration_item</td>\n",
       "      <td>test</td>\n",
       "    </tr>\n",
       "    <tr>\n",
       "      <th>12467</th>\n",
       "      <td>what is behind the wall divider in the image14...</td>\n",
       "      <td>image1449</td>\n",
       "      <td>table</td>\n",
       "      <td>test</td>\n",
       "    </tr>\n",
       "  </tbody>\n",
       "</table>\n",
       "<p>12468 rows × 4 columns</p>\n",
       "</div>"
      ],
      "text/plain": [
       "                                                question   image_id  \\\n",
       "0      what is on the right side of the black telepho...     image3   \n",
       "1      what is in front of the white door on the left...     image3   \n",
       "2                    what is on the desk in the image3 ?     image3   \n",
       "3      what is the largest brown objects in this imag...     image3   \n",
       "4      what color is the chair in front of the white ...     image3   \n",
       "...                                                  ...        ...   \n",
       "12463  what is found below the chandelier in the imag...  image1448   \n",
       "12464            what is on the floor in the image1449 ?  image1449   \n",
       "12465    what are around dining table in the image1449 ?  image1449   \n",
       "12466  what is at the opposite side of the dining tab...  image1449   \n",
       "12467  what is behind the wall divider in the image14...  image1449   \n",
       "\n",
       "                                      answer  split  \n",
       "0                                       desk  train  \n",
       "1                                  telephone  train  \n",
       "2      book, scissor, papers, tape_dispenser  train  \n",
       "3                                     carton  train  \n",
       "4                                        red  train  \n",
       "...                                      ...    ...  \n",
       "12463                                  table   test  \n",
       "12464                                    rug   test  \n",
       "12465                                  chair   test  \n",
       "12466                        decoration_item   test  \n",
       "12467                                  table   test  \n",
       "\n",
       "[12468 rows x 4 columns]"
      ]
     },
     "execution_count": 5,
     "metadata": {},
     "output_type": "execute_result"
    }
   ],
   "source": [
    "df = pd.read_csv(text_path)\n",
    "df"
   ]
  },
  {
   "cell_type": "markdown",
   "id": "952d6366",
   "metadata": {},
   "source": [
    "## Data Perparation"
   ]
  },
  {
   "cell_type": "code",
   "execution_count": 6,
   "id": "16b187f4",
   "metadata": {},
   "outputs": [
    {
     "name": "stderr",
     "output_type": "stream",
     "text": [
      "100%|██████████| 12468/12468 [00:00<00:00, 16865.30it/s]\n",
      "100%|██████████| 12468/12468 [00:08<00:00, 1491.12it/s]\n"
     ]
    },
    {
     "name": "stdout",
     "output_type": "stream",
     "text": [
      "Train Shape: (6795, 4)\n",
      "Test Shape: (5673, 4)\n"
     ]
    }
   ],
   "source": [
    "# Select features and labels vectors\n",
    "text_columns = 'question'\n",
    "image_columns = 'image_id'\n",
    "label_columns = 'answer'\n",
    "\n",
    "df = preprocess_df(df, image_columns, images_path)\n",
    "\n",
    "# Split the data\n",
    "train_df, test_df = split_data(df)\n",
    "\n",
    "# Process and one-hot encode labels for training set\n",
    "train_labels, mlb, train_columns = process_labels(train_df, col=label_columns)\n",
    "test_labels = process_labels(test_df, col=label_columns, train_columns=train_columns)"
   ]
  },
  {
   "cell_type": "code",
   "execution_count": 7,
   "id": "e9cef864",
   "metadata": {},
   "outputs": [
    {
     "data": {
      "text/html": [
       "<div>\n",
       "<style scoped>\n",
       "    .dataframe tbody tr th:only-of-type {\n",
       "        vertical-align: middle;\n",
       "    }\n",
       "\n",
       "    .dataframe tbody tr th {\n",
       "        vertical-align: top;\n",
       "    }\n",
       "\n",
       "    .dataframe thead th {\n",
       "        text-align: right;\n",
       "    }\n",
       "</style>\n",
       "<table border=\"1\" class=\"dataframe\">\n",
       "  <thead>\n",
       "    <tr style=\"text-align: right;\">\n",
       "      <th></th>\n",
       "      <th>question</th>\n",
       "      <th>image_id</th>\n",
       "      <th>answer</th>\n",
       "      <th>split</th>\n",
       "    </tr>\n",
       "  </thead>\n",
       "  <tbody>\n",
       "    <tr>\n",
       "      <th>0</th>\n",
       "      <td>what is on the right side of the black telepho...</td>\n",
       "      <td>datasets/daquar/images/image3.png</td>\n",
       "      <td>desk</td>\n",
       "      <td>train</td>\n",
       "    </tr>\n",
       "    <tr>\n",
       "      <th>1</th>\n",
       "      <td>what is in front of the white door on the left...</td>\n",
       "      <td>datasets/daquar/images/image3.png</td>\n",
       "      <td>telephone</td>\n",
       "      <td>train</td>\n",
       "    </tr>\n",
       "    <tr>\n",
       "      <th>2</th>\n",
       "      <td>what is on the desk in the image3 ?</td>\n",
       "      <td>datasets/daquar/images/image3.png</td>\n",
       "      <td>book, scissor, papers, tape_dispenser</td>\n",
       "      <td>train</td>\n",
       "    </tr>\n",
       "    <tr>\n",
       "      <th>3</th>\n",
       "      <td>what is the largest brown objects in this imag...</td>\n",
       "      <td>datasets/daquar/images/image3.png</td>\n",
       "      <td>carton</td>\n",
       "      <td>train</td>\n",
       "    </tr>\n",
       "    <tr>\n",
       "      <th>4</th>\n",
       "      <td>what color is the chair in front of the white ...</td>\n",
       "      <td>datasets/daquar/images/image3.png</td>\n",
       "      <td>red</td>\n",
       "      <td>train</td>\n",
       "    </tr>\n",
       "    <tr>\n",
       "      <th>...</th>\n",
       "      <td>...</td>\n",
       "      <td>...</td>\n",
       "      <td>...</td>\n",
       "      <td>...</td>\n",
       "    </tr>\n",
       "    <tr>\n",
       "      <th>6790</th>\n",
       "      <td>what are stuck on the wall in the image1440 ?</td>\n",
       "      <td>datasets/daquar/images/image1440.png</td>\n",
       "      <td>photo</td>\n",
       "      <td>train</td>\n",
       "    </tr>\n",
       "    <tr>\n",
       "      <th>6791</th>\n",
       "      <td>what is in the top right corner in the image14...</td>\n",
       "      <td>datasets/daquar/images/image1440.png</td>\n",
       "      <td>window</td>\n",
       "      <td>train</td>\n",
       "    </tr>\n",
       "    <tr>\n",
       "      <th>6792</th>\n",
       "      <td>what is in front of the window in the image1440 ?</td>\n",
       "      <td>datasets/daquar/images/image1440.png</td>\n",
       "      <td>cabinet</td>\n",
       "      <td>train</td>\n",
       "    </tr>\n",
       "    <tr>\n",
       "      <th>6793</th>\n",
       "      <td>what are the things on the cabinet in the imag...</td>\n",
       "      <td>datasets/daquar/images/image1440.png</td>\n",
       "      <td>candelabra, book</td>\n",
       "      <td>train</td>\n",
       "    </tr>\n",
       "    <tr>\n",
       "      <th>6794</th>\n",
       "      <td>what are around the dining table in the image1...</td>\n",
       "      <td>datasets/daquar/images/image1440.png</td>\n",
       "      <td>chair</td>\n",
       "      <td>train</td>\n",
       "    </tr>\n",
       "  </tbody>\n",
       "</table>\n",
       "<p>6795 rows × 4 columns</p>\n",
       "</div>"
      ],
      "text/plain": [
       "                                               question  \\\n",
       "0     what is on the right side of the black telepho...   \n",
       "1     what is in front of the white door on the left...   \n",
       "2                   what is on the desk in the image3 ?   \n",
       "3     what is the largest brown objects in this imag...   \n",
       "4     what color is the chair in front of the white ...   \n",
       "...                                                 ...   \n",
       "6790      what are stuck on the wall in the image1440 ?   \n",
       "6791  what is in the top right corner in the image14...   \n",
       "6792  what is in front of the window in the image1440 ?   \n",
       "6793  what are the things on the cabinet in the imag...   \n",
       "6794  what are around the dining table in the image1...   \n",
       "\n",
       "                                  image_id  \\\n",
       "0        datasets/daquar/images/image3.png   \n",
       "1        datasets/daquar/images/image3.png   \n",
       "2        datasets/daquar/images/image3.png   \n",
       "3        datasets/daquar/images/image3.png   \n",
       "4        datasets/daquar/images/image3.png   \n",
       "...                                    ...   \n",
       "6790  datasets/daquar/images/image1440.png   \n",
       "6791  datasets/daquar/images/image1440.png   \n",
       "6792  datasets/daquar/images/image1440.png   \n",
       "6793  datasets/daquar/images/image1440.png   \n",
       "6794  datasets/daquar/images/image1440.png   \n",
       "\n",
       "                                     answer  split  \n",
       "0                                      desk  train  \n",
       "1                                 telephone  train  \n",
       "2     book, scissor, papers, tape_dispenser  train  \n",
       "3                                    carton  train  \n",
       "4                                       red  train  \n",
       "...                                     ...    ...  \n",
       "6790                                  photo  train  \n",
       "6791                                 window  train  \n",
       "6792                                cabinet  train  \n",
       "6793                       candelabra, book  train  \n",
       "6794                                  chair  train  \n",
       "\n",
       "[6795 rows x 4 columns]"
      ]
     },
     "execution_count": 7,
     "metadata": {},
     "output_type": "execute_result"
    }
   ],
   "source": [
    "train_df"
   ]
  },
  {
   "cell_type": "code",
   "execution_count": 8,
   "id": "fd144de5",
   "metadata": {},
   "outputs": [],
   "source": [
    "# Instantiate tokenizer\n",
    "tokenizer = BertTokenizer.from_pretrained('bert-base-uncased')"
   ]
  },
  {
   "cell_type": "code",
   "execution_count": 9,
   "id": "1b7adb75",
   "metadata": {},
   "outputs": [],
   "source": [
    "train_dataset = VQADataset(train_df, text_columns, image_columns, label_columns, mlb, train_columns, tokenizer)\n",
    "test_dataset = VQADataset(test_df, text_columns, image_columns, label_columns, mlb, train_columns, tokenizer)\n",
    "\n",
    "train_loader = DataLoader(train_dataset, batch_size=64, shuffle=True, num_workers=2)\n",
    "test_loader = DataLoader(test_dataset, batch_size=64, shuffle=False, num_workers=2)"
   ]
  },
  {
   "cell_type": "markdown",
   "id": "b052deca",
   "metadata": {},
   "source": [
    "### Models"
   ]
  },
  {
   "cell_type": "code",
   "execution_count": 10,
   "id": "238c5ece",
   "metadata": {},
   "outputs": [],
   "source": [
    "output_size = len(mlb.classes_)\n",
    "multilabel = True"
   ]
  },
  {
   "cell_type": "code",
   "execution_count": 11,
   "id": "a5462aaa",
   "metadata": {},
   "outputs": [
    {
     "name": "stdout",
     "output_type": "stream",
     "text": [
      "Early fusion:\n",
      "Average Memory per Batch in Train: 36.59 MB\n",
      "Total Memory Usage per Epoch Train: 3914.75 MB (excluding model parameters)\n",
      "Test:\n",
      "Average Memory per Batch in Test: 30.55 MB\n",
      "Total Memory Usage per Epoch Test: 2718.53 MB (excluding model parameters)\n",
      "Model: \n",
      "Model Memory Usage: 748.19 MB\n",
      "Late fusion:\n",
      "Average Memory per Batch in Train: 36.59 MB\n",
      "Total Memory Usage per Epoch Train: 3914.75 MB (excluding model parameters)\n",
      "Test:\n",
      "Average Memory per Batch in Test: 30.55 MB\n",
      "Total Memory Usage per Epoch Test: 2718.53 MB (excluding model parameters)\n",
      "Model: \n",
      "Model Memory Usage: 747.81 MB\n"
     ]
    }
   ],
   "source": [
    "calculate_memory(train_loader, test_loader, output_size)"
   ]
  },
  {
   "cell_type": "code",
   "execution_count": null,
   "id": "d1e711ac",
   "metadata": {},
   "outputs": [],
   "source": []
  }
 ],
 "metadata": {
  "kernelspec": {
   "display_name": "Python [conda env:retina_embeddings_v0_0_1]",
   "language": "python",
   "name": "conda-env-retina_embeddings_v0_0_1-py"
  },
  "language_info": {
   "codemirror_mode": {
    "name": "ipython",
    "version": 3
   },
   "file_extension": ".py",
   "mimetype": "text/x-python",
   "name": "python",
   "nbconvert_exporter": "python",
   "pygments_lexer": "ipython3",
   "version": "3.8.17"
  }
 },
 "nbformat": 4,
 "nbformat_minor": 5
}
