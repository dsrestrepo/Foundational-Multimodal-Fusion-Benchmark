{
 "cells": [
  {
   "cell_type": "markdown",
   "id": "7b5fc35e",
   "metadata": {},
   "source": [
    "### MIMIC CXR\n",
    "\n",
    "* [Dataset](https://physionet.org/content/mimic-cxr/2.0.0/)\n",
    "\n",
    "* [Original Paper](https://www.nature.com/articles/s41597-019-0322-0)"
   ]
  },
  {
   "cell_type": "code",
   "execution_count": 1,
   "id": "d1546132",
   "metadata": {},
   "outputs": [
    {
     "name": "stdout",
     "output_type": "stream",
     "text": [
      "/home/datascience/Data Fusion\n"
     ]
    }
   ],
   "source": [
    "%cd .."
   ]
  },
  {
   "cell_type": "markdown",
   "id": "64897aaf",
   "metadata": {},
   "source": [
    "### Setup Environment:"
   ]
  },
  {
   "cell_type": "code",
   "execution_count": 2,
   "id": "12e8e2c2",
   "metadata": {},
   "outputs": [],
   "source": [
    "import os\n",
    "import pandas as pd\n",
    "\n",
    "from src.classifiers import preprocess_data, process_labels,split_data\n",
    "\n",
    "from src.classifiers import VQADataset\n",
    "from torch.utils.data import DataLoader\n",
    "\n",
    "from src.classifiers_cpu_metrics import calculate_memory"
   ]
  },
  {
   "cell_type": "code",
   "execution_count": 3,
   "id": "aaca739b",
   "metadata": {},
   "outputs": [],
   "source": [
    "PATH = 'Embeddings/mimic/'\n",
    "FILE = 'embeddings.csv'"
   ]
  },
  {
   "cell_type": "markdown",
   "id": "0dc51201",
   "metadata": {},
   "source": [
    "## Get data"
   ]
  },
  {
   "cell_type": "code",
   "execution_count": 4,
   "id": "4f8a2e1c",
   "metadata": {},
   "outputs": [
    {
     "data": {
      "text/html": [
       "<div>\n",
       "<style scoped>\n",
       "    .dataframe tbody tr th:only-of-type {\n",
       "        vertical-align: middle;\n",
       "    }\n",
       "\n",
       "    .dataframe tbody tr th {\n",
       "        vertical-align: top;\n",
       "    }\n",
       "\n",
       "    .dataframe thead th {\n",
       "        text-align: right;\n",
       "    }\n",
       "</style>\n",
       "<table border=\"1\" class=\"dataframe\">\n",
       "  <thead>\n",
       "    <tr style=\"text-align: right;\">\n",
       "      <th></th>\n",
       "      <th>path</th>\n",
       "      <th>race_label</th>\n",
       "      <th>sex_label</th>\n",
       "      <th>disease_label</th>\n",
       "      <th>subject_id</th>\n",
       "      <th>study_id</th>\n",
       "      <th>split</th>\n",
       "      <th>file_path</th>\n",
       "      <th>text_1</th>\n",
       "      <th>text_2</th>\n",
       "      <th>...</th>\n",
       "      <th>image_758</th>\n",
       "      <th>image_759</th>\n",
       "      <th>image_760</th>\n",
       "      <th>image_761</th>\n",
       "      <th>image_762</th>\n",
       "      <th>image_763</th>\n",
       "      <th>image_764</th>\n",
       "      <th>image_765</th>\n",
       "      <th>image_766</th>\n",
       "      <th>image_767</th>\n",
       "    </tr>\n",
       "  </thead>\n",
       "  <tbody>\n",
       "    <tr>\n",
       "      <th>0</th>\n",
       "      <td>p19/p19702416/s51321189/d85c9f15-f0f84927-761f...</td>\n",
       "      <td>0</td>\n",
       "      <td>0</td>\n",
       "      <td>3</td>\n",
       "      <td>19702416</td>\n",
       "      <td>51321189</td>\n",
       "      <td>train</td>\n",
       "      <td>datasets/mimic/files/p19/p19702416/s51321189.txt</td>\n",
       "      <td>0.019312</td>\n",
       "      <td>-0.016845</td>\n",
       "      <td>...</td>\n",
       "      <td>-1.977094</td>\n",
       "      <td>0.664772</td>\n",
       "      <td>-2.003561</td>\n",
       "      <td>0.063048</td>\n",
       "      <td>0.218469</td>\n",
       "      <td>-2.259382</td>\n",
       "      <td>-1.804749</td>\n",
       "      <td>-3.272988</td>\n",
       "      <td>1.671752</td>\n",
       "      <td>-2.163086</td>\n",
       "    </tr>\n",
       "    <tr>\n",
       "      <th>1</th>\n",
       "      <td>p13/p13339704/s51292704/0024603b-12db30e2-ab32...</td>\n",
       "      <td>2</td>\n",
       "      <td>0</td>\n",
       "      <td>3</td>\n",
       "      <td>13339704</td>\n",
       "      <td>51292704</td>\n",
       "      <td>train</td>\n",
       "      <td>datasets/mimic/files/p13/p13339704/s51292704.txt</td>\n",
       "      <td>0.012198</td>\n",
       "      <td>-0.027218</td>\n",
       "      <td>...</td>\n",
       "      <td>-2.502330</td>\n",
       "      <td>-0.262871</td>\n",
       "      <td>-2.777717</td>\n",
       "      <td>1.082299</td>\n",
       "      <td>1.273291</td>\n",
       "      <td>-1.900938</td>\n",
       "      <td>-1.250531</td>\n",
       "      <td>-3.238538</td>\n",
       "      <td>1.466622</td>\n",
       "      <td>-3.243235</td>\n",
       "    </tr>\n",
       "    <tr>\n",
       "      <th>2</th>\n",
       "      <td>p13/p13339704/s51292704/7953848d-2411f0df-859f...</td>\n",
       "      <td>2</td>\n",
       "      <td>0</td>\n",
       "      <td>3</td>\n",
       "      <td>13339704</td>\n",
       "      <td>51292704</td>\n",
       "      <td>train</td>\n",
       "      <td>datasets/mimic/files/p13/p13339704/s51292704.txt</td>\n",
       "      <td>0.012198</td>\n",
       "      <td>-0.027218</td>\n",
       "      <td>...</td>\n",
       "      <td>-2.352660</td>\n",
       "      <td>0.049591</td>\n",
       "      <td>-2.599992</td>\n",
       "      <td>0.709397</td>\n",
       "      <td>0.635155</td>\n",
       "      <td>-2.035155</td>\n",
       "      <td>-1.170720</td>\n",
       "      <td>-3.293882</td>\n",
       "      <td>1.306690</td>\n",
       "      <td>-2.955477</td>\n",
       "    </tr>\n",
       "    <tr>\n",
       "      <th>3</th>\n",
       "      <td>p12/p12668169/s54048859/8a4aaaee-55fcf98f-a036...</td>\n",
       "      <td>0</td>\n",
       "      <td>0</td>\n",
       "      <td>3</td>\n",
       "      <td>12668169</td>\n",
       "      <td>54048859</td>\n",
       "      <td>train</td>\n",
       "      <td>datasets/mimic/files/p12/p12668169/s54048859.txt</td>\n",
       "      <td>0.023151</td>\n",
       "      <td>-0.003735</td>\n",
       "      <td>...</td>\n",
       "      <td>-2.531913</td>\n",
       "      <td>0.778623</td>\n",
       "      <td>-3.406011</td>\n",
       "      <td>0.288661</td>\n",
       "      <td>1.660015</td>\n",
       "      <td>-2.785958</td>\n",
       "      <td>-1.350666</td>\n",
       "      <td>-2.999661</td>\n",
       "      <td>2.809513</td>\n",
       "      <td>-3.075176</td>\n",
       "    </tr>\n",
       "    <tr>\n",
       "      <th>4</th>\n",
       "      <td>p10/p10309415/s58144222/9886b0fe-9121c65e-c8d7...</td>\n",
       "      <td>0</td>\n",
       "      <td>0</td>\n",
       "      <td>3</td>\n",
       "      <td>10309415</td>\n",
       "      <td>58144222</td>\n",
       "      <td>train</td>\n",
       "      <td>datasets/mimic/files/p10/p10309415/s58144222.txt</td>\n",
       "      <td>0.022132</td>\n",
       "      <td>-0.021821</td>\n",
       "      <td>...</td>\n",
       "      <td>-1.868888</td>\n",
       "      <td>0.562119</td>\n",
       "      <td>-1.824777</td>\n",
       "      <td>0.069089</td>\n",
       "      <td>1.093687</td>\n",
       "      <td>-1.628035</td>\n",
       "      <td>-1.373444</td>\n",
       "      <td>-3.014874</td>\n",
       "      <td>1.524349</td>\n",
       "      <td>-2.403681</td>\n",
       "    </tr>\n",
       "  </tbody>\n",
       "</table>\n",
       "<p>5 rows × 4872 columns</p>\n",
       "</div>"
      ],
      "text/plain": [
       "                                                path  race_label  sex_label  \\\n",
       "0  p19/p19702416/s51321189/d85c9f15-f0f84927-761f...           0          0   \n",
       "1  p13/p13339704/s51292704/0024603b-12db30e2-ab32...           2          0   \n",
       "2  p13/p13339704/s51292704/7953848d-2411f0df-859f...           2          0   \n",
       "3  p12/p12668169/s54048859/8a4aaaee-55fcf98f-a036...           0          0   \n",
       "4  p10/p10309415/s58144222/9886b0fe-9121c65e-c8d7...           0          0   \n",
       "\n",
       "  disease_label  subject_id  study_id  split  \\\n",
       "0             3    19702416  51321189  train   \n",
       "1             3    13339704  51292704  train   \n",
       "2             3    13339704  51292704  train   \n",
       "3             3    12668169  54048859  train   \n",
       "4             3    10309415  58144222  train   \n",
       "\n",
       "                                          file_path    text_1    text_2  ...  \\\n",
       "0  datasets/mimic/files/p19/p19702416/s51321189.txt  0.019312 -0.016845  ...   \n",
       "1  datasets/mimic/files/p13/p13339704/s51292704.txt  0.012198 -0.027218  ...   \n",
       "2  datasets/mimic/files/p13/p13339704/s51292704.txt  0.012198 -0.027218  ...   \n",
       "3  datasets/mimic/files/p12/p12668169/s54048859.txt  0.023151 -0.003735  ...   \n",
       "4  datasets/mimic/files/p10/p10309415/s58144222.txt  0.022132 -0.021821  ...   \n",
       "\n",
       "   image_758  image_759  image_760  image_761  image_762  image_763  \\\n",
       "0  -1.977094   0.664772  -2.003561   0.063048   0.218469  -2.259382   \n",
       "1  -2.502330  -0.262871  -2.777717   1.082299   1.273291  -1.900938   \n",
       "2  -2.352660   0.049591  -2.599992   0.709397   0.635155  -2.035155   \n",
       "3  -2.531913   0.778623  -3.406011   0.288661   1.660015  -2.785958   \n",
       "4  -1.868888   0.562119  -1.824777   0.069089   1.093687  -1.628035   \n",
       "\n",
       "   image_764  image_765  image_766  image_767  \n",
       "0  -1.804749  -3.272988   1.671752  -2.163086  \n",
       "1  -1.250531  -3.238538   1.466622  -3.243235  \n",
       "2  -1.170720  -3.293882   1.306690  -2.955477  \n",
       "3  -1.350666  -2.999661   2.809513  -3.075176  \n",
       "4  -1.373444  -3.014874   1.524349  -2.403681  \n",
       "\n",
       "[5 rows x 4872 columns]"
      ]
     },
     "execution_count": 4,
     "metadata": {},
     "output_type": "execute_result"
    }
   ],
   "source": [
    "df = pd.read_csv(os.path.join(PATH, FILE))\n",
    "df.disease_label = df.disease_label.astype(str)\n",
    "df.head()"
   ]
  },
  {
   "cell_type": "markdown",
   "id": "235bc062",
   "metadata": {},
   "source": [
    "## Data Perparation"
   ]
  },
  {
   "cell_type": "code",
   "execution_count": 5,
   "id": "e12a55a6",
   "metadata": {},
   "outputs": [
    {
     "name": "stdout",
     "output_type": "stream",
     "text": [
      "Train Shape: (107695, 4872)\n",
      "Test Shape: (30360, 4872)\n"
     ]
    }
   ],
   "source": [
    "# Split the data\n",
    "train_df, test_df = split_data(df)\n",
    "\n",
    "# Select features and labels vectors\n",
    "text_columns = [column for column in df.columns if 'text' in column] #[f'text_{i}']\n",
    "image_columns = [column for column in df.columns if 'image' in column] #[f'image_{i}']\n",
    "label_columns = 'disease_label'\n",
    "\n",
    "\n",
    "# Process and one-hot encode labels for training set\n",
    "train_labels, mlb, train_columns = process_labels(train_df, col=label_columns)\n",
    "test_labels = process_labels(test_df, col=label_columns, train_columns=train_columns)\n",
    "\n",
    "\n",
    "train_dataset = VQADataset(train_df, text_columns, image_columns, label_columns, mlb, train_columns)\n",
    "test_dataset = VQADataset(test_df, text_columns, image_columns, label_columns, mlb, train_columns)\n",
    "\n",
    "\n",
    "train_loader = DataLoader(train_dataset, batch_size=64, shuffle=True, num_workers=2)\n",
    "test_loader = DataLoader(test_dataset, batch_size=64, shuffle=False, num_workers=2)"
   ]
  },
  {
   "cell_type": "markdown",
   "id": "7c008a8b",
   "metadata": {},
   "source": [
    "### Models"
   ]
  },
  {
   "cell_type": "code",
   "execution_count": 6,
   "id": "5f81ac3e",
   "metadata": {},
   "outputs": [],
   "source": [
    "text_input_size = len(text_columns)\n",
    "image_input_size = len(image_columns)\n",
    "if label_columns == 'DR_2':\n",
    "    output_size = 1\n",
    "else:\n",
    "    output_size = len(pd.unique(train_df[label_columns]))\n",
    "multilabel = False"
   ]
  },
  {
   "cell_type": "code",
   "execution_count": 7,
   "id": "2a806ee9",
   "metadata": {},
   "outputs": [
    {
     "name": "stdout",
     "output_type": "stream",
     "text": [
      "Early fusion:\n",
      "Average Memory per Batch in Train: 1.19 MB\n",
      "Total Memory Usage per Epoch Train: 1999.89 MB (excluding model parameters)\n",
      "Test:\n",
      "Average Memory per Batch in Test: 0.33 MB\n",
      "Total Memory Usage per Epoch Test: 159.12 MB (excluding model parameters)\n",
      "Model: \n",
      "Model Memory Usage: 2.38 MB\n",
      "\n",
      "Late fusion:\n",
      "Average Memory per Batch in Train: 1.19 MB\n",
      "Total Memory Usage per Epoch Train: 1999.89 MB (excluding model parameters)\n",
      "Test:\n",
      "Average Memory per Batch in Test: 0.33 MB\n",
      "Total Memory Usage per Epoch Test: 159.12 MB (excluding model parameters)\n",
      "Model: \n",
      "Model Memory Usage: 1.19 MB\n"
     ]
    }
   ],
   "source": [
    "calculate_memory(train_loader, test_loader, text_input_size, image_input_size, output_size)"
   ]
  },
  {
   "cell_type": "code",
   "execution_count": null,
   "id": "48f7a16d",
   "metadata": {},
   "outputs": [],
   "source": []
  }
 ],
 "metadata": {
  "kernelspec": {
   "display_name": "Python [conda env:retina_embeddings_v0_0_1]",
   "language": "python",
   "name": "conda-env-retina_embeddings_v0_0_1-py"
  },
  "language_info": {
   "codemirror_mode": {
    "name": "ipython",
    "version": 3
   },
   "file_extension": ".py",
   "mimetype": "text/x-python",
   "name": "python",
   "nbconvert_exporter": "python",
   "pygments_lexer": "ipython3",
   "version": "3.8.17"
  }
 },
 "nbformat": 4,
 "nbformat_minor": 5
}
