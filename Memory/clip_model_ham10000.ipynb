{
 "cells": [
  {
   "cell_type": "markdown",
   "id": "44bd5060",
   "metadata": {},
   "source": [
    "### HAM 10000\n",
    "\n",
    "* [Dataset](https://dataverse.harvard.edu/dataset.xhtml?persistentId=doi:10.7910/DVN/DBW86T)\n",
    "\n",
    "* [Original Paper](https://www.nature.com/articles/sdata2018161)"
   ]
  },
  {
   "cell_type": "code",
   "execution_count": 1,
   "id": "c4336c2c",
   "metadata": {},
   "outputs": [
    {
     "name": "stdout",
     "output_type": "stream",
     "text": [
      "/home/datascience/Data Fusion\n"
     ]
    }
   ],
   "source": [
    "%cd .."
   ]
  },
  {
   "cell_type": "markdown",
   "id": "f4065cf4",
   "metadata": {},
   "source": [
    "### Setup Environment:"
   ]
  },
  {
   "cell_type": "code",
   "execution_count": 2,
   "id": "0a349909",
   "metadata": {},
   "outputs": [],
   "source": [
    "import os\n",
    "import pandas as pd\n",
    "\n",
    "from src.classifiers import preprocess_data, process_labels,split_data\n",
    "\n",
    "from src.classifiers import VQADataset\n",
    "from torch.utils.data import DataLoader\n",
    "\n",
    "from src.classifiers_cpu_metrics import calculate_memory"
   ]
  },
  {
   "cell_type": "code",
   "execution_count": 3,
   "id": "cd3526b7",
   "metadata": {},
   "outputs": [],
   "source": [
    "PATH = 'Embeddings_vlm/ham10000/'\n",
    "FILE = 'embeddings_clip.csv'\n",
    "\n",
    "FILE_PATH = os.path.join(PATH, FILE)"
   ]
  },
  {
   "cell_type": "markdown",
   "id": "50f2871a",
   "metadata": {},
   "source": [
    "## Get data"
   ]
  },
  {
   "cell_type": "code",
   "execution_count": 4,
   "id": "2a681a8f",
   "metadata": {},
   "outputs": [
    {
     "data": {
      "text/html": [
       "<div>\n",
       "<style scoped>\n",
       "    .dataframe tbody tr th:only-of-type {\n",
       "        vertical-align: middle;\n",
       "    }\n",
       "\n",
       "    .dataframe tbody tr th {\n",
       "        vertical-align: top;\n",
       "    }\n",
       "\n",
       "    .dataframe thead th {\n",
       "        text-align: right;\n",
       "    }\n",
       "</style>\n",
       "<table border=\"1\" class=\"dataframe\">\n",
       "  <thead>\n",
       "    <tr style=\"text-align: right;\">\n",
       "      <th></th>\n",
       "      <th>dx</th>\n",
       "      <th>split</th>\n",
       "      <th>image_embedding_0</th>\n",
       "      <th>image_embedding_1</th>\n",
       "      <th>image_embedding_2</th>\n",
       "      <th>image_embedding_3</th>\n",
       "      <th>image_embedding_4</th>\n",
       "      <th>image_embedding_5</th>\n",
       "      <th>image_embedding_6</th>\n",
       "      <th>image_embedding_7</th>\n",
       "      <th>...</th>\n",
       "      <th>text_embedding_502</th>\n",
       "      <th>text_embedding_503</th>\n",
       "      <th>text_embedding_504</th>\n",
       "      <th>text_embedding_505</th>\n",
       "      <th>text_embedding_506</th>\n",
       "      <th>text_embedding_507</th>\n",
       "      <th>text_embedding_508</th>\n",
       "      <th>text_embedding_509</th>\n",
       "      <th>text_embedding_510</th>\n",
       "      <th>text_embedding_511</th>\n",
       "    </tr>\n",
       "  </thead>\n",
       "  <tbody>\n",
       "    <tr>\n",
       "      <th>0</th>\n",
       "      <td>nv</td>\n",
       "      <td>train</td>\n",
       "      <td>0.017459</td>\n",
       "      <td>-0.006133</td>\n",
       "      <td>0.042509</td>\n",
       "      <td>0.032119</td>\n",
       "      <td>-0.020298</td>\n",
       "      <td>-0.029999</td>\n",
       "      <td>-0.019345</td>\n",
       "      <td>-0.005980</td>\n",
       "      <td>...</td>\n",
       "      <td>-0.085103</td>\n",
       "      <td>-0.035549</td>\n",
       "      <td>0.022616</td>\n",
       "      <td>0.014842</td>\n",
       "      <td>-0.010682</td>\n",
       "      <td>0.007425</td>\n",
       "      <td>-0.010183</td>\n",
       "      <td>0.059058</td>\n",
       "      <td>0.028891</td>\n",
       "      <td>0.073401</td>\n",
       "    </tr>\n",
       "    <tr>\n",
       "      <th>1</th>\n",
       "      <td>nv</td>\n",
       "      <td>train</td>\n",
       "      <td>0.013314</td>\n",
       "      <td>-0.004718</td>\n",
       "      <td>0.036896</td>\n",
       "      <td>0.013657</td>\n",
       "      <td>-0.018710</td>\n",
       "      <td>-0.000790</td>\n",
       "      <td>-0.018275</td>\n",
       "      <td>0.021898</td>\n",
       "      <td>...</td>\n",
       "      <td>-0.024121</td>\n",
       "      <td>0.001504</td>\n",
       "      <td>0.007381</td>\n",
       "      <td>0.028216</td>\n",
       "      <td>-0.033343</td>\n",
       "      <td>-0.007173</td>\n",
       "      <td>0.025764</td>\n",
       "      <td>0.037911</td>\n",
       "      <td>-0.028967</td>\n",
       "      <td>0.032034</td>\n",
       "    </tr>\n",
       "    <tr>\n",
       "      <th>2</th>\n",
       "      <td>akiec</td>\n",
       "      <td>train</td>\n",
       "      <td>0.023076</td>\n",
       "      <td>-0.006460</td>\n",
       "      <td>0.046531</td>\n",
       "      <td>-0.007525</td>\n",
       "      <td>-0.052272</td>\n",
       "      <td>0.024759</td>\n",
       "      <td>-0.004904</td>\n",
       "      <td>0.024593</td>\n",
       "      <td>...</td>\n",
       "      <td>-0.076046</td>\n",
       "      <td>-0.025927</td>\n",
       "      <td>0.019258</td>\n",
       "      <td>0.013950</td>\n",
       "      <td>-0.013910</td>\n",
       "      <td>0.000220</td>\n",
       "      <td>-0.016514</td>\n",
       "      <td>0.060165</td>\n",
       "      <td>0.028732</td>\n",
       "      <td>0.068683</td>\n",
       "    </tr>\n",
       "    <tr>\n",
       "      <th>3</th>\n",
       "      <td>nv</td>\n",
       "      <td>train</td>\n",
       "      <td>0.002341</td>\n",
       "      <td>-0.042092</td>\n",
       "      <td>0.056254</td>\n",
       "      <td>0.000176</td>\n",
       "      <td>-0.013943</td>\n",
       "      <td>0.011410</td>\n",
       "      <td>0.002411</td>\n",
       "      <td>0.001611</td>\n",
       "      <td>...</td>\n",
       "      <td>-0.017013</td>\n",
       "      <td>-0.020450</td>\n",
       "      <td>0.020093</td>\n",
       "      <td>0.021699</td>\n",
       "      <td>-0.018428</td>\n",
       "      <td>0.018907</td>\n",
       "      <td>0.022027</td>\n",
       "      <td>0.045309</td>\n",
       "      <td>-0.014772</td>\n",
       "      <td>0.017288</td>\n",
       "    </tr>\n",
       "    <tr>\n",
       "      <th>4</th>\n",
       "      <td>nv</td>\n",
       "      <td>train</td>\n",
       "      <td>0.012029</td>\n",
       "      <td>-0.003644</td>\n",
       "      <td>0.028491</td>\n",
       "      <td>0.017455</td>\n",
       "      <td>-0.017562</td>\n",
       "      <td>-0.005040</td>\n",
       "      <td>0.016783</td>\n",
       "      <td>0.031028</td>\n",
       "      <td>...</td>\n",
       "      <td>-0.093017</td>\n",
       "      <td>-0.022929</td>\n",
       "      <td>0.013042</td>\n",
       "      <td>0.007998</td>\n",
       "      <td>-0.020830</td>\n",
       "      <td>-0.015631</td>\n",
       "      <td>-0.007309</td>\n",
       "      <td>0.057171</td>\n",
       "      <td>0.030298</td>\n",
       "      <td>0.068561</td>\n",
       "    </tr>\n",
       "  </tbody>\n",
       "</table>\n",
       "<p>5 rows × 1026 columns</p>\n",
       "</div>"
      ],
      "text/plain": [
       "      dx  split  image_embedding_0  image_embedding_1  image_embedding_2  \\\n",
       "0     nv  train           0.017459          -0.006133           0.042509   \n",
       "1     nv  train           0.013314          -0.004718           0.036896   \n",
       "2  akiec  train           0.023076          -0.006460           0.046531   \n",
       "3     nv  train           0.002341          -0.042092           0.056254   \n",
       "4     nv  train           0.012029          -0.003644           0.028491   \n",
       "\n",
       "   image_embedding_3  image_embedding_4  image_embedding_5  image_embedding_6  \\\n",
       "0           0.032119          -0.020298          -0.029999          -0.019345   \n",
       "1           0.013657          -0.018710          -0.000790          -0.018275   \n",
       "2          -0.007525          -0.052272           0.024759          -0.004904   \n",
       "3           0.000176          -0.013943           0.011410           0.002411   \n",
       "4           0.017455          -0.017562          -0.005040           0.016783   \n",
       "\n",
       "   image_embedding_7  ...  text_embedding_502  text_embedding_503  \\\n",
       "0          -0.005980  ...           -0.085103           -0.035549   \n",
       "1           0.021898  ...           -0.024121            0.001504   \n",
       "2           0.024593  ...           -0.076046           -0.025927   \n",
       "3           0.001611  ...           -0.017013           -0.020450   \n",
       "4           0.031028  ...           -0.093017           -0.022929   \n",
       "\n",
       "   text_embedding_504  text_embedding_505  text_embedding_506  \\\n",
       "0            0.022616            0.014842           -0.010682   \n",
       "1            0.007381            0.028216           -0.033343   \n",
       "2            0.019258            0.013950           -0.013910   \n",
       "3            0.020093            0.021699           -0.018428   \n",
       "4            0.013042            0.007998           -0.020830   \n",
       "\n",
       "   text_embedding_507  text_embedding_508  text_embedding_509  \\\n",
       "0            0.007425           -0.010183            0.059058   \n",
       "1           -0.007173            0.025764            0.037911   \n",
       "2            0.000220           -0.016514            0.060165   \n",
       "3            0.018907            0.022027            0.045309   \n",
       "4           -0.015631           -0.007309            0.057171   \n",
       "\n",
       "   text_embedding_510  text_embedding_511  \n",
       "0            0.028891            0.073401  \n",
       "1           -0.028967            0.032034  \n",
       "2            0.028732            0.068683  \n",
       "3           -0.014772            0.017288  \n",
       "4            0.030298            0.068561  \n",
       "\n",
       "[5 rows x 1026 columns]"
      ]
     },
     "execution_count": 4,
     "metadata": {},
     "output_type": "execute_result"
    }
   ],
   "source": [
    "df = pd.read_csv(FILE_PATH)\n",
    "df.drop(columns=['text', 'image_id'], inplace=True)\n",
    "df.head()"
   ]
  },
  {
   "cell_type": "markdown",
   "id": "bdbee14f",
   "metadata": {},
   "source": [
    "## Data Perparation"
   ]
  },
  {
   "cell_type": "code",
   "execution_count": 5,
   "id": "34e07585",
   "metadata": {},
   "outputs": [
    {
     "name": "stdout",
     "output_type": "stream",
     "text": [
      "Train Shape: (8012, 1026)\n",
      "Test Shape: (2003, 1026)\n"
     ]
    }
   ],
   "source": [
    "# Split the data\n",
    "train_df, test_df = split_data(df)\n",
    "\n",
    "# Select features and labels vectors\n",
    "text_columns = [column for column in df.columns if 'text' in column] #[f'text_{i}']\n",
    "image_columns = [column for column in df.columns if 'image' in column] #[f'image_{i}']\n",
    "label_columns = 'dx'\n",
    "\n",
    "\n",
    "# Process and one-hot encode labels for training set\n",
    "train_labels, mlb, train_columns = process_labels(train_df, col=label_columns)\n",
    "test_labels = process_labels(test_df, col=label_columns, train_columns=train_columns)\n",
    "\n",
    "\n",
    "train_dataset = VQADataset(train_df, text_columns, image_columns, label_columns, mlb, train_columns)\n",
    "test_dataset = VQADataset(test_df, text_columns, image_columns, label_columns, mlb, train_columns)\n",
    "\n",
    "\n",
    "train_loader = DataLoader(train_dataset, batch_size=64, shuffle=True, num_workers=2)\n",
    "test_loader = DataLoader(test_dataset, batch_size=64, shuffle=False, num_workers=2)"
   ]
  },
  {
   "cell_type": "markdown",
   "id": "dd3c5aef",
   "metadata": {},
   "source": [
    "### Models"
   ]
  },
  {
   "cell_type": "code",
   "execution_count": 6,
   "id": "50fb7b28",
   "metadata": {},
   "outputs": [],
   "source": [
    "text_input_size = len(text_columns)\n",
    "image_input_size = len(image_columns)\n",
    "if label_columns == 'DR_2':\n",
    "    output_size = 1\n",
    "else:\n",
    "    output_size = len(pd.unique(train_df[label_columns]))\n",
    "multilabel = False"
   ]
  },
  {
   "cell_type": "code",
   "execution_count": 7,
   "id": "f464b06d",
   "metadata": {},
   "outputs": [
    {
     "name": "stdout",
     "output_type": "stream",
     "text": [
      "Early fusion:\n",
      "Average Memory per Batch in Train: 0.25 MB\n",
      "Total Memory Usage per Epoch Train: 31.51 MB (excluding model parameters)\n",
      "Test:\n",
      "Average Memory per Batch in Test: 0.06 MB\n",
      "Total Memory Usage per Epoch Test: 2.00 MB (excluding model parameters)\n",
      "Model: \n",
      "Model Memory Usage: 0.50 MB\n",
      "\n",
      "Late fusion:\n",
      "Average Memory per Batch in Train: 0.25 MB\n",
      "Total Memory Usage per Epoch Train: 31.51 MB (excluding model parameters)\n",
      "Test:\n",
      "Average Memory per Batch in Test: 0.06 MB\n",
      "Total Memory Usage per Epoch Test: 2.00 MB (excluding model parameters)\n",
      "Model: \n",
      "Model Memory Usage: 0.25 MB\n"
     ]
    }
   ],
   "source": [
    "calculate_memory(train_loader, test_loader, text_input_size, image_input_size, output_size)"
   ]
  },
  {
   "cell_type": "code",
   "execution_count": null,
   "id": "c53b7c14",
   "metadata": {},
   "outputs": [],
   "source": []
  }
 ],
 "metadata": {
  "kernelspec": {
   "display_name": "Python [conda env:retina_embeddings_v0_0_1]",
   "language": "python",
   "name": "conda-env-retina_embeddings_v0_0_1-py"
  },
  "language_info": {
   "codemirror_mode": {
    "name": "ipython",
    "version": 3
   },
   "file_extension": ".py",
   "mimetype": "text/x-python",
   "name": "python",
   "nbconvert_exporter": "python",
   "pygments_lexer": "ipython3",
   "version": "3.8.17"
  }
 },
 "nbformat": 4,
 "nbformat_minor": 5
}
