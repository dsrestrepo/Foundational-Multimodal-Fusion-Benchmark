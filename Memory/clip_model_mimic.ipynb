{
 "cells": [
  {
   "cell_type": "markdown",
   "id": "b607a49a",
   "metadata": {},
   "source": [
    "### MIMIC CXR\n",
    "\n",
    "* [Dataset](https://physionet.org/content/mimic-cxr/2.0.0/)\n",
    "\n",
    "* [Original Paper](https://www.nature.com/articles/s41597-019-0322-0)"
   ]
  },
  {
   "cell_type": "code",
   "execution_count": 1,
   "id": "a21d96bc",
   "metadata": {},
   "outputs": [
    {
     "name": "stdout",
     "output_type": "stream",
     "text": [
      "/home/datascience/Data Fusion\n"
     ]
    }
   ],
   "source": [
    "%cd .."
   ]
  },
  {
   "cell_type": "markdown",
   "id": "386b37ef",
   "metadata": {},
   "source": [
    "### Setup Environment:"
   ]
  },
  {
   "cell_type": "code",
   "execution_count": 2,
   "id": "17f4c852",
   "metadata": {},
   "outputs": [],
   "source": [
    "import os\n",
    "import pandas as pd\n",
    "\n",
    "from src.classifiers import preprocess_data, process_labels,split_data\n",
    "\n",
    "from src.classifiers import VQADataset\n",
    "from torch.utils.data import DataLoader\n",
    "\n",
    "from src.classifiers_cpu_metrics import calculate_memory"
   ]
  },
  {
   "cell_type": "code",
   "execution_count": 3,
   "id": "17a067fe",
   "metadata": {},
   "outputs": [],
   "source": [
    "PATH = 'Embeddings_vlm/mimic/'\n",
    "FILE = 'embeddings_clip.csv'\n",
    "\n",
    "FILE_PATH = os.path.join(PATH, FILE)"
   ]
  },
  {
   "cell_type": "markdown",
   "id": "4b0c55cd",
   "metadata": {},
   "source": [
    "## Get data"
   ]
  },
  {
   "cell_type": "code",
   "execution_count": 4,
   "id": "f045308f",
   "metadata": {},
   "outputs": [
    {
     "data": {
      "text/html": [
       "<div>\n",
       "<style scoped>\n",
       "    .dataframe tbody tr th:only-of-type {\n",
       "        vertical-align: middle;\n",
       "    }\n",
       "\n",
       "    .dataframe tbody tr th {\n",
       "        vertical-align: top;\n",
       "    }\n",
       "\n",
       "    .dataframe thead th {\n",
       "        text-align: right;\n",
       "    }\n",
       "</style>\n",
       "<table border=\"1\" class=\"dataframe\">\n",
       "  <thead>\n",
       "    <tr style=\"text-align: right;\">\n",
       "      <th></th>\n",
       "      <th>path</th>\n",
       "      <th>race_label</th>\n",
       "      <th>sex_label</th>\n",
       "      <th>disease_label</th>\n",
       "      <th>subject_id</th>\n",
       "      <th>study_id</th>\n",
       "      <th>split</th>\n",
       "      <th>file_path</th>\n",
       "      <th>image_embedding_0</th>\n",
       "      <th>image_embedding_1</th>\n",
       "      <th>...</th>\n",
       "      <th>text_embedding_502</th>\n",
       "      <th>text_embedding_503</th>\n",
       "      <th>text_embedding_504</th>\n",
       "      <th>text_embedding_505</th>\n",
       "      <th>text_embedding_506</th>\n",
       "      <th>text_embedding_507</th>\n",
       "      <th>text_embedding_508</th>\n",
       "      <th>text_embedding_509</th>\n",
       "      <th>text_embedding_510</th>\n",
       "      <th>text_embedding_511</th>\n",
       "    </tr>\n",
       "  </thead>\n",
       "  <tbody>\n",
       "    <tr>\n",
       "      <th>0</th>\n",
       "      <td>p19/p19702416/s51321189/d85c9f15-f0f84927-761f...</td>\n",
       "      <td>0</td>\n",
       "      <td>0</td>\n",
       "      <td>3</td>\n",
       "      <td>19702416</td>\n",
       "      <td>51321189</td>\n",
       "      <td>train</td>\n",
       "      <td>datasets/mimic/files/p19/p19702416/s51321189.txt</td>\n",
       "      <td>0.017584</td>\n",
       "      <td>-0.003019</td>\n",
       "      <td>...</td>\n",
       "      <td>-0.052364</td>\n",
       "      <td>-0.018894</td>\n",
       "      <td>0.101141</td>\n",
       "      <td>0.003454</td>\n",
       "      <td>-0.030474</td>\n",
       "      <td>0.013750</td>\n",
       "      <td>-0.007859</td>\n",
       "      <td>0.061135</td>\n",
       "      <td>0.050736</td>\n",
       "      <td>-0.005674</td>\n",
       "    </tr>\n",
       "    <tr>\n",
       "      <th>1</th>\n",
       "      <td>p13/p13339704/s51292704/0024603b-12db30e2-ab32...</td>\n",
       "      <td>2</td>\n",
       "      <td>0</td>\n",
       "      <td>3</td>\n",
       "      <td>13339704</td>\n",
       "      <td>51292704</td>\n",
       "      <td>train</td>\n",
       "      <td>datasets/mimic/files/p13/p13339704/s51292704.txt</td>\n",
       "      <td>0.025167</td>\n",
       "      <td>-0.008093</td>\n",
       "      <td>...</td>\n",
       "      <td>-0.045582</td>\n",
       "      <td>-0.014851</td>\n",
       "      <td>0.052466</td>\n",
       "      <td>-0.013415</td>\n",
       "      <td>-0.023199</td>\n",
       "      <td>0.001723</td>\n",
       "      <td>0.004433</td>\n",
       "      <td>0.036226</td>\n",
       "      <td>0.035885</td>\n",
       "      <td>-0.000904</td>\n",
       "    </tr>\n",
       "    <tr>\n",
       "      <th>2</th>\n",
       "      <td>p13/p13339704/s51292704/7953848d-2411f0df-859f...</td>\n",
       "      <td>2</td>\n",
       "      <td>0</td>\n",
       "      <td>3</td>\n",
       "      <td>13339704</td>\n",
       "      <td>51292704</td>\n",
       "      <td>train</td>\n",
       "      <td>datasets/mimic/files/p13/p13339704/s51292704.txt</td>\n",
       "      <td>0.027844</td>\n",
       "      <td>-0.001912</td>\n",
       "      <td>...</td>\n",
       "      <td>-0.045582</td>\n",
       "      <td>-0.014851</td>\n",
       "      <td>0.052466</td>\n",
       "      <td>-0.013415</td>\n",
       "      <td>-0.023199</td>\n",
       "      <td>0.001723</td>\n",
       "      <td>0.004433</td>\n",
       "      <td>0.036226</td>\n",
       "      <td>0.035885</td>\n",
       "      <td>-0.000904</td>\n",
       "    </tr>\n",
       "    <tr>\n",
       "      <th>3</th>\n",
       "      <td>p12/p12668169/s54048859/8a4aaaee-55fcf98f-a036...</td>\n",
       "      <td>0</td>\n",
       "      <td>0</td>\n",
       "      <td>3</td>\n",
       "      <td>12668169</td>\n",
       "      <td>54048859</td>\n",
       "      <td>train</td>\n",
       "      <td>datasets/mimic/files/p12/p12668169/s54048859.txt</td>\n",
       "      <td>0.041953</td>\n",
       "      <td>0.002593</td>\n",
       "      <td>...</td>\n",
       "      <td>-0.031608</td>\n",
       "      <td>-0.018585</td>\n",
       "      <td>0.020580</td>\n",
       "      <td>0.012898</td>\n",
       "      <td>0.000496</td>\n",
       "      <td>0.035545</td>\n",
       "      <td>0.023832</td>\n",
       "      <td>-0.059201</td>\n",
       "      <td>0.019583</td>\n",
       "      <td>-0.003538</td>\n",
       "    </tr>\n",
       "    <tr>\n",
       "      <th>4</th>\n",
       "      <td>p10/p10309415/s58144222/9886b0fe-9121c65e-c8d7...</td>\n",
       "      <td>0</td>\n",
       "      <td>0</td>\n",
       "      <td>3</td>\n",
       "      <td>10309415</td>\n",
       "      <td>58144222</td>\n",
       "      <td>train</td>\n",
       "      <td>datasets/mimic/files/p10/p10309415/s58144222.txt</td>\n",
       "      <td>0.012712</td>\n",
       "      <td>0.006450</td>\n",
       "      <td>...</td>\n",
       "      <td>-0.038537</td>\n",
       "      <td>-0.009317</td>\n",
       "      <td>0.057783</td>\n",
       "      <td>-0.010010</td>\n",
       "      <td>-0.025244</td>\n",
       "      <td>0.002658</td>\n",
       "      <td>0.010754</td>\n",
       "      <td>0.027053</td>\n",
       "      <td>0.024629</td>\n",
       "      <td>0.007983</td>\n",
       "    </tr>\n",
       "  </tbody>\n",
       "</table>\n",
       "<p>5 rows × 1032 columns</p>\n",
       "</div>"
      ],
      "text/plain": [
       "                                                path  race_label  sex_label  \\\n",
       "0  p19/p19702416/s51321189/d85c9f15-f0f84927-761f...           0          0   \n",
       "1  p13/p13339704/s51292704/0024603b-12db30e2-ab32...           2          0   \n",
       "2  p13/p13339704/s51292704/7953848d-2411f0df-859f...           2          0   \n",
       "3  p12/p12668169/s54048859/8a4aaaee-55fcf98f-a036...           0          0   \n",
       "4  p10/p10309415/s58144222/9886b0fe-9121c65e-c8d7...           0          0   \n",
       "\n",
       "  disease_label  subject_id  study_id  split  \\\n",
       "0             3    19702416  51321189  train   \n",
       "1             3    13339704  51292704  train   \n",
       "2             3    13339704  51292704  train   \n",
       "3             3    12668169  54048859  train   \n",
       "4             3    10309415  58144222  train   \n",
       "\n",
       "                                          file_path  image_embedding_0  \\\n",
       "0  datasets/mimic/files/p19/p19702416/s51321189.txt           0.017584   \n",
       "1  datasets/mimic/files/p13/p13339704/s51292704.txt           0.025167   \n",
       "2  datasets/mimic/files/p13/p13339704/s51292704.txt           0.027844   \n",
       "3  datasets/mimic/files/p12/p12668169/s54048859.txt           0.041953   \n",
       "4  datasets/mimic/files/p10/p10309415/s58144222.txt           0.012712   \n",
       "\n",
       "   image_embedding_1  ...  text_embedding_502  text_embedding_503  \\\n",
       "0          -0.003019  ...           -0.052364           -0.018894   \n",
       "1          -0.008093  ...           -0.045582           -0.014851   \n",
       "2          -0.001912  ...           -0.045582           -0.014851   \n",
       "3           0.002593  ...           -0.031608           -0.018585   \n",
       "4           0.006450  ...           -0.038537           -0.009317   \n",
       "\n",
       "   text_embedding_504  text_embedding_505  text_embedding_506  \\\n",
       "0            0.101141            0.003454           -0.030474   \n",
       "1            0.052466           -0.013415           -0.023199   \n",
       "2            0.052466           -0.013415           -0.023199   \n",
       "3            0.020580            0.012898            0.000496   \n",
       "4            0.057783           -0.010010           -0.025244   \n",
       "\n",
       "   text_embedding_507  text_embedding_508  text_embedding_509  \\\n",
       "0            0.013750           -0.007859            0.061135   \n",
       "1            0.001723            0.004433            0.036226   \n",
       "2            0.001723            0.004433            0.036226   \n",
       "3            0.035545            0.023832           -0.059201   \n",
       "4            0.002658            0.010754            0.027053   \n",
       "\n",
       "   text_embedding_510  text_embedding_511  \n",
       "0            0.050736           -0.005674  \n",
       "1            0.035885           -0.000904  \n",
       "2            0.035885           -0.000904  \n",
       "3            0.019583           -0.003538  \n",
       "4            0.024629            0.007983  \n",
       "\n",
       "[5 rows x 1032 columns]"
      ]
     },
     "execution_count": 4,
     "metadata": {},
     "output_type": "execute_result"
    }
   ],
   "source": [
    "df = pd.read_csv(FILE_PATH)\n",
    "df.disease_label = df.disease_label.astype(str)\n",
    "df.drop(columns=['text', 'image_id'], inplace=True)\n",
    "df.head()"
   ]
  },
  {
   "cell_type": "markdown",
   "id": "171f717c",
   "metadata": {},
   "source": [
    "## Data Perparation"
   ]
  },
  {
   "cell_type": "code",
   "execution_count": 5,
   "id": "aa71db8f",
   "metadata": {},
   "outputs": [
    {
     "name": "stdout",
     "output_type": "stream",
     "text": [
      "Train Shape: (107695, 1032)\n",
      "Test Shape: (30360, 1032)\n"
     ]
    }
   ],
   "source": [
    "# Split the data\n",
    "train_df, test_df = split_data(df)\n",
    "\n",
    "# Select features and labels vectors\n",
    "text_columns = [column for column in df.columns if 'text' in column] #[f'text_{i}']\n",
    "image_columns = [column for column in df.columns if 'image' in column] #[f'image_{i}']\n",
    "label_columns = 'disease_label'\n",
    "\n",
    "\n",
    "# Process and one-hot encode labels for training set\n",
    "train_labels, mlb, train_columns = process_labels(train_df, col=label_columns)\n",
    "test_labels = process_labels(test_df, col=label_columns, train_columns=train_columns)\n",
    "\n",
    "\n",
    "train_dataset = VQADataset(train_df, text_columns, image_columns, label_columns, mlb, train_columns)\n",
    "test_dataset = VQADataset(test_df, text_columns, image_columns, label_columns, mlb, train_columns)\n",
    "\n",
    "\n",
    "train_loader = DataLoader(train_dataset, batch_size=64, shuffle=True, num_workers=2)\n",
    "test_loader = DataLoader(test_dataset, batch_size=64, shuffle=False, num_workers=2)"
   ]
  },
  {
   "cell_type": "markdown",
   "id": "fe65f0ec",
   "metadata": {},
   "source": [
    "### Models"
   ]
  },
  {
   "cell_type": "code",
   "execution_count": 6,
   "id": "50790959",
   "metadata": {},
   "outputs": [],
   "source": [
    "text_input_size = len(text_columns)\n",
    "image_input_size = len(image_columns)\n",
    "if label_columns == 'DR_2':\n",
    "    output_size = 1\n",
    "else:\n",
    "    output_size = len(pd.unique(train_df[label_columns]))\n",
    "multilabel = False"
   ]
  },
  {
   "cell_type": "code",
   "execution_count": 7,
   "id": "bfcc0dde",
   "metadata": {},
   "outputs": [
    {
     "name": "stdout",
     "output_type": "stream",
     "text": [
      "Early fusion:\n",
      "Average Memory per Batch in Train: 0.25 MB\n",
      "Total Memory Usage per Epoch Train: 422.33 MB (excluding model parameters)\n",
      "Test:\n",
      "Average Memory per Batch in Test: 0.07 MB\n",
      "Total Memory Usage per Epoch Test: 33.60 MB (excluding model parameters)\n",
      "Model: \n",
      "Model Memory Usage: 0.50 MB\n",
      "\n",
      "Late fusion:\n",
      "Average Memory per Batch in Train: 0.25 MB\n",
      "Total Memory Usage per Epoch Train: 422.33 MB (excluding model parameters)\n",
      "Test:\n",
      "Average Memory per Batch in Test: 0.07 MB\n",
      "Total Memory Usage per Epoch Test: 33.60 MB (excluding model parameters)\n",
      "Model: \n",
      "Model Memory Usage: 0.25 MB\n"
     ]
    }
   ],
   "source": [
    "calculate_memory(train_loader, test_loader, text_input_size, image_input_size, output_size)"
   ]
  },
  {
   "cell_type": "code",
   "execution_count": null,
   "id": "a9976c04",
   "metadata": {},
   "outputs": [],
   "source": []
  }
 ],
 "metadata": {
  "kernelspec": {
   "display_name": "Python [conda env:retina_embeddings_v0_0_1]",
   "language": "python",
   "name": "conda-env-retina_embeddings_v0_0_1-py"
  },
  "language_info": {
   "codemirror_mode": {
    "name": "ipython",
    "version": 3
   },
   "file_extension": ".py",
   "mimetype": "text/x-python",
   "name": "python",
   "nbconvert_exporter": "python",
   "pygments_lexer": "ipython3",
   "version": "3.8.17"
  }
 },
 "nbformat": 4,
 "nbformat_minor": 5
}
