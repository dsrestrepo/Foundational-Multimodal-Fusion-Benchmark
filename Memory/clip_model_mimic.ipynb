{
 "cells": [
  {
   "cell_type": "markdown",
   "id": "b607a49a",
   "metadata": {},
   "source": [
    "### MIMIC CXR\n",
    "\n",
    "* [Dataset](https://physionet.org/content/mimic-cxr/2.0.0/)\n",
    "\n",
    "* [Original Paper](https://www.nature.com/articles/s41597-019-0322-0)"
   ]
  },
  {
   "cell_type": "code",
   "execution_count": 1,
   "id": "a21d96bc",
   "metadata": {},
   "outputs": [
    {
     "name": "stdout",
     "output_type": "stream",
     "text": [
      "/home/datascience/Data Fusion\n"
     ]
    }
   ],
   "source": [
    "%cd .."
   ]
  },
  {
   "cell_type": "markdown",
   "id": "386b37ef",
   "metadata": {},
   "source": [
    "### Setup Environment:"
   ]
  },
  {
   "cell_type": "code",
   "execution_count": 2,
   "id": "17f4c852",
   "metadata": {},
   "outputs": [],
   "source": [
    "import os\n",
    "import pandas as pd\n",
    "\n",
    "from src.classifiers import preprocess_data, process_labels,split_data\n",
    "\n",
    "from src.classifiers import VQADataset\n",
    "from torch.utils.data import DataLoader\n",
    "\n",
    "from src.classifiers_cpu_metrics import calculate_memory"
   ]
  },
  {
   "cell_type": "code",
   "execution_count": 3,
   "id": "17a067fe",
   "metadata": {},
   "outputs": [],
   "source": [
    "PATH = 'Embeddings_vlm/mimic/'\n",
    "FILE = 'embeddings_clip.csv'\n",
    "\n",
    "FILE_PATH = os.path.join(PATH, FILE)"
   ]
  },
  {
   "cell_type": "markdown",
   "id": "4b0c55cd",
   "metadata": {},
   "source": [
    "## Get data"
   ]
  },
  {
   "cell_type": "code",
   "execution_count": 4,
   "id": "f045308f",
   "metadata": {},
   "outputs": [
    {
     "data": {
      "text/html": [
       "<div>\n",
       "<style scoped>\n",
       "    .dataframe tbody tr th:only-of-type {\n",
       "        vertical-align: middle;\n",
       "    }\n",
       "\n",
       "    .dataframe tbody tr th {\n",
       "        vertical-align: top;\n",
       "    }\n",
       "\n",
       "    .dataframe thead th {\n",
       "        text-align: right;\n",
       "    }\n",
       "</style>\n",
       "<table border=\"1\" class=\"dataframe\">\n",
       "  <thead>\n",
       "    <tr style=\"text-align: right;\">\n",
       "      <th></th>\n",
       "      <th>DR_ICDR</th>\n",
       "      <th>DR_2</th>\n",
       "      <th>DR_3</th>\n",
       "      <th>split</th>\n",
       "      <th>image_embedding_0</th>\n",
       "      <th>image_embedding_1</th>\n",
       "      <th>image_embedding_2</th>\n",
       "      <th>image_embedding_3</th>\n",
       "      <th>image_embedding_4</th>\n",
       "      <th>image_embedding_5</th>\n",
       "      <th>...</th>\n",
       "      <th>text_embedding_502</th>\n",
       "      <th>text_embedding_503</th>\n",
       "      <th>text_embedding_504</th>\n",
       "      <th>text_embedding_505</th>\n",
       "      <th>text_embedding_506</th>\n",
       "      <th>text_embedding_507</th>\n",
       "      <th>text_embedding_508</th>\n",
       "      <th>text_embedding_509</th>\n",
       "      <th>text_embedding_510</th>\n",
       "      <th>text_embedding_511</th>\n",
       "    </tr>\n",
       "  </thead>\n",
       "  <tbody>\n",
       "    <tr>\n",
       "      <th>0</th>\n",
       "      <td>0</td>\n",
       "      <td>0</td>\n",
       "      <td>0</td>\n",
       "      <td>train</td>\n",
       "      <td>0.012998</td>\n",
       "      <td>-0.012632</td>\n",
       "      <td>0.010281</td>\n",
       "      <td>0.016375</td>\n",
       "      <td>-0.040752</td>\n",
       "      <td>-0.018974</td>\n",
       "      <td>...</td>\n",
       "      <td>-0.054316</td>\n",
       "      <td>0.026362</td>\n",
       "      <td>0.062661</td>\n",
       "      <td>0.023066</td>\n",
       "      <td>-0.023967</td>\n",
       "      <td>-0.013421</td>\n",
       "      <td>0.033898</td>\n",
       "      <td>-0.058343</td>\n",
       "      <td>0.027308</td>\n",
       "      <td>0.011322</td>\n",
       "    </tr>\n",
       "    <tr>\n",
       "      <th>1</th>\n",
       "      <td>0</td>\n",
       "      <td>0</td>\n",
       "      <td>0</td>\n",
       "      <td>test</td>\n",
       "      <td>0.013524</td>\n",
       "      <td>-0.017406</td>\n",
       "      <td>0.012482</td>\n",
       "      <td>0.012262</td>\n",
       "      <td>-0.039934</td>\n",
       "      <td>-0.022396</td>\n",
       "      <td>...</td>\n",
       "      <td>-0.054454</td>\n",
       "      <td>0.018202</td>\n",
       "      <td>0.061717</td>\n",
       "      <td>0.022467</td>\n",
       "      <td>-0.011161</td>\n",
       "      <td>-0.011376</td>\n",
       "      <td>0.030134</td>\n",
       "      <td>-0.049021</td>\n",
       "      <td>0.021231</td>\n",
       "      <td>0.010651</td>\n",
       "    </tr>\n",
       "    <tr>\n",
       "      <th>2</th>\n",
       "      <td>0</td>\n",
       "      <td>0</td>\n",
       "      <td>0</td>\n",
       "      <td>train</td>\n",
       "      <td>0.036357</td>\n",
       "      <td>-0.018087</td>\n",
       "      <td>-0.001801</td>\n",
       "      <td>0.010425</td>\n",
       "      <td>-0.036854</td>\n",
       "      <td>-0.019405</td>\n",
       "      <td>...</td>\n",
       "      <td>-0.055949</td>\n",
       "      <td>0.011358</td>\n",
       "      <td>0.072995</td>\n",
       "      <td>0.030307</td>\n",
       "      <td>-0.011789</td>\n",
       "      <td>-0.011042</td>\n",
       "      <td>0.042255</td>\n",
       "      <td>-0.057926</td>\n",
       "      <td>0.033326</td>\n",
       "      <td>0.018503</td>\n",
       "    </tr>\n",
       "    <tr>\n",
       "      <th>3</th>\n",
       "      <td>0</td>\n",
       "      <td>0</td>\n",
       "      <td>0</td>\n",
       "      <td>train</td>\n",
       "      <td>0.022021</td>\n",
       "      <td>-0.011668</td>\n",
       "      <td>0.010509</td>\n",
       "      <td>0.022121</td>\n",
       "      <td>-0.035989</td>\n",
       "      <td>-0.023524</td>\n",
       "      <td>...</td>\n",
       "      <td>-0.055314</td>\n",
       "      <td>0.002594</td>\n",
       "      <td>0.074490</td>\n",
       "      <td>0.034430</td>\n",
       "      <td>-0.000350</td>\n",
       "      <td>-0.007918</td>\n",
       "      <td>0.042707</td>\n",
       "      <td>-0.047150</td>\n",
       "      <td>0.027270</td>\n",
       "      <td>0.020940</td>\n",
       "    </tr>\n",
       "    <tr>\n",
       "      <th>4</th>\n",
       "      <td>0</td>\n",
       "      <td>0</td>\n",
       "      <td>0</td>\n",
       "      <td>test</td>\n",
       "      <td>0.018684</td>\n",
       "      <td>-0.010326</td>\n",
       "      <td>0.004721</td>\n",
       "      <td>0.006435</td>\n",
       "      <td>-0.045767</td>\n",
       "      <td>-0.025992</td>\n",
       "      <td>...</td>\n",
       "      <td>-0.052848</td>\n",
       "      <td>0.021930</td>\n",
       "      <td>0.068045</td>\n",
       "      <td>0.027663</td>\n",
       "      <td>-0.020903</td>\n",
       "      <td>-0.012616</td>\n",
       "      <td>0.037164</td>\n",
       "      <td>-0.051632</td>\n",
       "      <td>0.033358</td>\n",
       "      <td>0.013019</td>\n",
       "    </tr>\n",
       "  </tbody>\n",
       "</table>\n",
       "<p>5 rows × 1028 columns</p>\n",
       "</div>"
      ],
      "text/plain": [
       "   DR_ICDR  DR_2  DR_3  split  image_embedding_0  image_embedding_1  \\\n",
       "0        0     0     0  train           0.012998          -0.012632   \n",
       "1        0     0     0   test           0.013524          -0.017406   \n",
       "2        0     0     0  train           0.036357          -0.018087   \n",
       "3        0     0     0  train           0.022021          -0.011668   \n",
       "4        0     0     0   test           0.018684          -0.010326   \n",
       "\n",
       "   image_embedding_2  image_embedding_3  image_embedding_4  image_embedding_5  \\\n",
       "0           0.010281           0.016375          -0.040752          -0.018974   \n",
       "1           0.012482           0.012262          -0.039934          -0.022396   \n",
       "2          -0.001801           0.010425          -0.036854          -0.019405   \n",
       "3           0.010509           0.022121          -0.035989          -0.023524   \n",
       "4           0.004721           0.006435          -0.045767          -0.025992   \n",
       "\n",
       "   ...  text_embedding_502  text_embedding_503  text_embedding_504  \\\n",
       "0  ...           -0.054316            0.026362            0.062661   \n",
       "1  ...           -0.054454            0.018202            0.061717   \n",
       "2  ...           -0.055949            0.011358            0.072995   \n",
       "3  ...           -0.055314            0.002594            0.074490   \n",
       "4  ...           -0.052848            0.021930            0.068045   \n",
       "\n",
       "   text_embedding_505  text_embedding_506  text_embedding_507  \\\n",
       "0            0.023066           -0.023967           -0.013421   \n",
       "1            0.022467           -0.011161           -0.011376   \n",
       "2            0.030307           -0.011789           -0.011042   \n",
       "3            0.034430           -0.000350           -0.007918   \n",
       "4            0.027663           -0.020903           -0.012616   \n",
       "\n",
       "   text_embedding_508  text_embedding_509  text_embedding_510  \\\n",
       "0            0.033898           -0.058343            0.027308   \n",
       "1            0.030134           -0.049021            0.021231   \n",
       "2            0.042255           -0.057926            0.033326   \n",
       "3            0.042707           -0.047150            0.027270   \n",
       "4            0.037164           -0.051632            0.033358   \n",
       "\n",
       "   text_embedding_511  \n",
       "0            0.011322  \n",
       "1            0.010651  \n",
       "2            0.018503  \n",
       "3            0.020940  \n",
       "4            0.013019  \n",
       "\n",
       "[5 rows x 1028 columns]"
      ]
     },
     "execution_count": 4,
     "metadata": {},
     "output_type": "execute_result"
    }
   ],
   "source": [
    "df = pd.read_csv(FILE_PATH)\n",
    "df.drop(columns=['text', 'image_id'], inplace=True)\n",
    "df.head()"
   ]
  },
  {
   "cell_type": "markdown",
   "id": "171f717c",
   "metadata": {},
   "source": [
    "## Data Perparation"
   ]
  },
  {
   "cell_type": "code",
   "execution_count": 5,
   "id": "aa71db8f",
   "metadata": {},
   "outputs": [
    {
     "name": "stdout",
     "output_type": "stream",
     "text": [
      "Train Shape: (13012, 1028)\n",
      "Test Shape: (3254, 1028)\n"
     ]
    }
   ],
   "source": [
    "# Split the data\n",
    "train_df, test_df = split_data(df)\n",
    "\n",
    "# Select features and labels vectors\n",
    "text_columns = [column for column in df.columns if 'text' in column] #[f'text_{i}']\n",
    "image_columns = [column for column in df.columns if 'image' in column] #[f'image_{i}']\n",
    "label_columns = 'DR_2'\n",
    "\n",
    "\n",
    "# Process and one-hot encode labels for training set\n",
    "train_labels, mlb, train_columns = process_labels(train_df, col=label_columns)\n",
    "test_labels = process_labels(test_df, col=label_columns, train_columns=train_columns)\n",
    "\n",
    "\n",
    "train_dataset = VQADataset(train_df, text_columns, image_columns, label_columns, mlb, train_columns)\n",
    "test_dataset = VQADataset(test_df, text_columns, image_columns, label_columns, mlb, train_columns)\n",
    "\n",
    "\n",
    "train_loader = DataLoader(train_dataset, batch_size=64, shuffle=True, num_workers=2)\n",
    "test_loader = DataLoader(test_dataset, batch_size=64, shuffle=False, num_workers=2)"
   ]
  },
  {
   "cell_type": "markdown",
   "id": "fe65f0ec",
   "metadata": {},
   "source": [
    "### Models"
   ]
  },
  {
   "cell_type": "code",
   "execution_count": 6,
   "id": "50790959",
   "metadata": {},
   "outputs": [],
   "source": [
    "text_input_size = len(text_columns)\n",
    "image_input_size = len(image_columns)\n",
    "if label_columns == 'DR_2':\n",
    "    output_size = 1\n",
    "else:\n",
    "    output_size = len(pd.unique(train_df[label_columns]))\n",
    "multilabel = False"
   ]
  },
  {
   "cell_type": "code",
   "execution_count": 7,
   "id": "bfcc0dde",
   "metadata": {},
   "outputs": [
    {
     "name": "stdout",
     "output_type": "stream",
     "text": [
      "Early fusion:\n",
      "Average Memory per Batch in Train: 0.25 MB\n",
      "Total Memory Usage per Epoch Train: 50.88 MB (excluding model parameters)\n",
      "Test:\n",
      "Average Memory per Batch in Test: 0.06 MB\n",
      "Total Memory Usage per Epoch Test: 3.18 MB (excluding model parameters)\n",
      "Model: \n",
      "Model Memory Usage: 0.50 MB\n",
      "\n",
      "Late fusion:\n",
      "Average Memory per Batch in Train: 0.25 MB\n",
      "Total Memory Usage per Epoch Train: 50.88 MB (excluding model parameters)\n",
      "Test:\n",
      "Average Memory per Batch in Test: 0.06 MB\n",
      "Total Memory Usage per Epoch Test: 3.18 MB (excluding model parameters)\n",
      "Model: \n",
      "Model Memory Usage: 0.25 MB\n"
     ]
    }
   ],
   "source": [
    "calculate_memory(train_loader, test_loader, text_input_size, image_input_size, output_size)"
   ]
  },
  {
   "cell_type": "code",
   "execution_count": null,
   "id": "a9976c04",
   "metadata": {},
   "outputs": [],
   "source": []
  }
 ],
 "metadata": {
  "kernelspec": {
   "display_name": "Python [conda env:retina_embeddings_v0_0_1]",
   "language": "python",
   "name": "conda-env-retina_embeddings_v0_0_1-py"
  },
  "language_info": {
   "codemirror_mode": {
    "name": "ipython",
    "version": 3
   },
   "file_extension": ".py",
   "mimetype": "text/x-python",
   "name": "python",
   "nbconvert_exporter": "python",
   "pygments_lexer": "ipython3",
   "version": "3.8.17"
  }
 },
 "nbformat": 4,
 "nbformat_minor": 5
}
