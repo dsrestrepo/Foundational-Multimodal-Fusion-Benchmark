{
 "cells": [
  {
   "cell_type": "markdown",
   "id": "1cb30655",
   "metadata": {},
   "source": [
    "### Modeling COCO - QA\n",
    "* [Review](https://arxiv.org/abs/1610.01465)"
   ]
  },
  {
   "cell_type": "code",
   "execution_count": 1,
   "id": "4a91f33f",
   "metadata": {},
   "outputs": [
    {
     "name": "stdout",
     "output_type": "stream",
     "text": [
      "/home/datascience/Data Fusion\n"
     ]
    }
   ],
   "source": [
    "%cd .."
   ]
  },
  {
   "cell_type": "markdown",
   "id": "0d1b6828",
   "metadata": {},
   "source": [
    "### Setup Environment:"
   ]
  },
  {
   "cell_type": "code",
   "execution_count": 2,
   "id": "1ba3f859",
   "metadata": {},
   "outputs": [],
   "source": [
    "import os\n",
    "import pandas as pd\n",
    "\n",
    "from src.classifiers import preprocess_data, process_labels,split_data\n",
    "\n",
    "from src.classifiers import VQADataset\n",
    "from torch.utils.data import DataLoader\n",
    "\n",
    "from src.classifiers_cpu_metrics import calculate_memory"
   ]
  },
  {
   "cell_type": "code",
   "execution_count": 3,
   "id": "8dbc536e",
   "metadata": {},
   "outputs": [],
   "source": [
    "PATH = 'Embeddings_vlm/coco-qa/'\n",
    "FILE = 'embeddings_clip.csv'\n",
    "\n",
    "FILE_PATH = os.path.join(PATH, FILE)"
   ]
  },
  {
   "cell_type": "markdown",
   "id": "3d255d07",
   "metadata": {},
   "source": [
    "## Get data"
   ]
  },
  {
   "cell_type": "code",
   "execution_count": 4,
   "id": "c2874e9d",
   "metadata": {},
   "outputs": [
    {
     "data": {
      "text/html": [
       "<div>\n",
       "<style scoped>\n",
       "    .dataframe tbody tr th:only-of-type {\n",
       "        vertical-align: middle;\n",
       "    }\n",
       "\n",
       "    .dataframe tbody tr th {\n",
       "        vertical-align: top;\n",
       "    }\n",
       "\n",
       "    .dataframe thead th {\n",
       "        text-align: right;\n",
       "    }\n",
       "</style>\n",
       "<table border=\"1\" class=\"dataframe\">\n",
       "  <thead>\n",
       "    <tr style=\"text-align: right;\">\n",
       "      <th></th>\n",
       "      <th>questions</th>\n",
       "      <th>answers</th>\n",
       "      <th>types</th>\n",
       "      <th>split</th>\n",
       "      <th>image_embedding_0</th>\n",
       "      <th>image_embedding_1</th>\n",
       "      <th>image_embedding_2</th>\n",
       "      <th>image_embedding_3</th>\n",
       "      <th>image_embedding_4</th>\n",
       "      <th>image_embedding_5</th>\n",
       "      <th>...</th>\n",
       "      <th>text_embedding_502</th>\n",
       "      <th>text_embedding_503</th>\n",
       "      <th>text_embedding_504</th>\n",
       "      <th>text_embedding_505</th>\n",
       "      <th>text_embedding_506</th>\n",
       "      <th>text_embedding_507</th>\n",
       "      <th>text_embedding_508</th>\n",
       "      <th>text_embedding_509</th>\n",
       "      <th>text_embedding_510</th>\n",
       "      <th>text_embedding_511</th>\n",
       "    </tr>\n",
       "  </thead>\n",
       "  <tbody>\n",
       "    <tr>\n",
       "      <th>0</th>\n",
       "      <td>what is using umbrellas as a central theme</td>\n",
       "      <td>sculpture</td>\n",
       "      <td>0</td>\n",
       "      <td>train</td>\n",
       "      <td>-0.002133</td>\n",
       "      <td>0.026865</td>\n",
       "      <td>-0.009941</td>\n",
       "      <td>-0.000407</td>\n",
       "      <td>-0.001535</td>\n",
       "      <td>0.043021</td>\n",
       "      <td>...</td>\n",
       "      <td>0.013656</td>\n",
       "      <td>0.006139</td>\n",
       "      <td>0.018542</td>\n",
       "      <td>-0.027902</td>\n",
       "      <td>-0.010581</td>\n",
       "      <td>0.001189</td>\n",
       "      <td>-0.018054</td>\n",
       "      <td>0.006616</td>\n",
       "      <td>0.039209</td>\n",
       "      <td>-0.052176</td>\n",
       "    </tr>\n",
       "    <tr>\n",
       "      <th>1</th>\n",
       "      <td>what walks toward the rope perimeter fence</td>\n",
       "      <td>elephant</td>\n",
       "      <td>0</td>\n",
       "      <td>train</td>\n",
       "      <td>-0.037488</td>\n",
       "      <td>-0.025273</td>\n",
       "      <td>0.021552</td>\n",
       "      <td>0.056967</td>\n",
       "      <td>0.010018</td>\n",
       "      <td>-0.042177</td>\n",
       "      <td>...</td>\n",
       "      <td>-0.007028</td>\n",
       "      <td>-0.002520</td>\n",
       "      <td>0.001875</td>\n",
       "      <td>-0.028708</td>\n",
       "      <td>0.016469</td>\n",
       "      <td>-0.011620</td>\n",
       "      <td>-0.010105</td>\n",
       "      <td>0.034845</td>\n",
       "      <td>-0.021513</td>\n",
       "      <td>0.029620</td>\n",
       "    </tr>\n",
       "    <tr>\n",
       "      <th>2</th>\n",
       "      <td>what is the color of the horses</td>\n",
       "      <td>brown</td>\n",
       "      <td>2</td>\n",
       "      <td>train</td>\n",
       "      <td>-0.050188</td>\n",
       "      <td>0.034539</td>\n",
       "      <td>0.008536</td>\n",
       "      <td>0.017248</td>\n",
       "      <td>0.027789</td>\n",
       "      <td>-0.020876</td>\n",
       "      <td>...</td>\n",
       "      <td>0.009025</td>\n",
       "      <td>0.000571</td>\n",
       "      <td>-0.022466</td>\n",
       "      <td>0.010579</td>\n",
       "      <td>-0.025592</td>\n",
       "      <td>0.034800</td>\n",
       "      <td>-0.007262</td>\n",
       "      <td>0.010370</td>\n",
       "      <td>-0.009308</td>\n",
       "      <td>0.008854</td>\n",
       "    </tr>\n",
       "    <tr>\n",
       "      <th>3</th>\n",
       "      <td>where is the black cat laying down</td>\n",
       "      <td>sink</td>\n",
       "      <td>3</td>\n",
       "      <td>train</td>\n",
       "      <td>-0.003502</td>\n",
       "      <td>0.007140</td>\n",
       "      <td>0.014187</td>\n",
       "      <td>0.052844</td>\n",
       "      <td>0.012376</td>\n",
       "      <td>-0.005956</td>\n",
       "      <td>...</td>\n",
       "      <td>-0.012388</td>\n",
       "      <td>0.034164</td>\n",
       "      <td>0.007408</td>\n",
       "      <td>0.029274</td>\n",
       "      <td>-0.018850</td>\n",
       "      <td>-0.007775</td>\n",
       "      <td>0.033192</td>\n",
       "      <td>0.001180</td>\n",
       "      <td>-0.041182</td>\n",
       "      <td>0.004494</td>\n",
       "    </tr>\n",
       "    <tr>\n",
       "      <th>4</th>\n",
       "      <td>what is the color of the character</td>\n",
       "      <td>purple</td>\n",
       "      <td>2</td>\n",
       "      <td>train</td>\n",
       "      <td>0.046207</td>\n",
       "      <td>0.050791</td>\n",
       "      <td>-0.010908</td>\n",
       "      <td>0.025887</td>\n",
       "      <td>-0.029377</td>\n",
       "      <td>-0.023032</td>\n",
       "      <td>...</td>\n",
       "      <td>-0.009319</td>\n",
       "      <td>-0.034246</td>\n",
       "      <td>0.002291</td>\n",
       "      <td>-0.004910</td>\n",
       "      <td>-0.025292</td>\n",
       "      <td>0.012616</td>\n",
       "      <td>-0.017789</td>\n",
       "      <td>-0.012675</td>\n",
       "      <td>-0.004709</td>\n",
       "      <td>0.028756</td>\n",
       "    </tr>\n",
       "  </tbody>\n",
       "</table>\n",
       "<p>5 rows × 1028 columns</p>\n",
       "</div>"
      ],
      "text/plain": [
       "                                    questions    answers  types  split  \\\n",
       "0  what is using umbrellas as a central theme  sculpture      0  train   \n",
       "1  what walks toward the rope perimeter fence   elephant      0  train   \n",
       "2             what is the color of the horses      brown      2  train   \n",
       "3          where is the black cat laying down       sink      3  train   \n",
       "4          what is the color of the character     purple      2  train   \n",
       "\n",
       "   image_embedding_0  image_embedding_1  image_embedding_2  image_embedding_3  \\\n",
       "0          -0.002133           0.026865          -0.009941          -0.000407   \n",
       "1          -0.037488          -0.025273           0.021552           0.056967   \n",
       "2          -0.050188           0.034539           0.008536           0.017248   \n",
       "3          -0.003502           0.007140           0.014187           0.052844   \n",
       "4           0.046207           0.050791          -0.010908           0.025887   \n",
       "\n",
       "   image_embedding_4  image_embedding_5  ...  text_embedding_502  \\\n",
       "0          -0.001535           0.043021  ...            0.013656   \n",
       "1           0.010018          -0.042177  ...           -0.007028   \n",
       "2           0.027789          -0.020876  ...            0.009025   \n",
       "3           0.012376          -0.005956  ...           -0.012388   \n",
       "4          -0.029377          -0.023032  ...           -0.009319   \n",
       "\n",
       "   text_embedding_503  text_embedding_504  text_embedding_505  \\\n",
       "0            0.006139            0.018542           -0.027902   \n",
       "1           -0.002520            0.001875           -0.028708   \n",
       "2            0.000571           -0.022466            0.010579   \n",
       "3            0.034164            0.007408            0.029274   \n",
       "4           -0.034246            0.002291           -0.004910   \n",
       "\n",
       "   text_embedding_506  text_embedding_507  text_embedding_508  \\\n",
       "0           -0.010581            0.001189           -0.018054   \n",
       "1            0.016469           -0.011620           -0.010105   \n",
       "2           -0.025592            0.034800           -0.007262   \n",
       "3           -0.018850           -0.007775            0.033192   \n",
       "4           -0.025292            0.012616           -0.017789   \n",
       "\n",
       "   text_embedding_509  text_embedding_510  text_embedding_511  \n",
       "0            0.006616            0.039209           -0.052176  \n",
       "1            0.034845           -0.021513            0.029620  \n",
       "2            0.010370           -0.009308            0.008854  \n",
       "3            0.001180           -0.041182            0.004494  \n",
       "4           -0.012675           -0.004709            0.028756  \n",
       "\n",
       "[5 rows x 1028 columns]"
      ]
     },
     "execution_count": 4,
     "metadata": {},
     "output_type": "execute_result"
    }
   ],
   "source": [
    "df = pd.read_csv(FILE_PATH)\n",
    "df.drop(columns=['image_id'], inplace=True)\n",
    "df.head()"
   ]
  },
  {
   "cell_type": "markdown",
   "id": "60653ecf",
   "metadata": {},
   "source": [
    "## Data Perparation"
   ]
  },
  {
   "cell_type": "code",
   "execution_count": 5,
   "id": "2086b880",
   "metadata": {},
   "outputs": [
    {
     "name": "stdout",
     "output_type": "stream",
     "text": [
      "Train Shape: (78736, 1028)\n",
      "Test Shape: (38948, 1028)\n"
     ]
    }
   ],
   "source": [
    "# Split the data\n",
    "train_df, test_df = split_data(df)\n",
    "\n",
    "# Select features and labels vectors\n",
    "text_columns = [column for column in df.columns if 'text' in column] #[f'text_{i}']\n",
    "image_columns = [column for column in df.columns if 'image' in column] #[f'image_{i}']\n",
    "label_columns = 'answers'\n",
    "\n",
    "\n",
    "# Process and one-hot encode labels for training set\n",
    "train_labels, mlb, train_columns = process_labels(train_df, col=label_columns)\n",
    "test_labels = process_labels(test_df, col=label_columns, train_columns=train_columns)\n",
    "\n",
    "\n",
    "train_dataset = VQADataset(train_df, text_columns, image_columns, label_columns, mlb, train_columns)\n",
    "test_dataset = VQADataset(test_df, text_columns, image_columns, label_columns, mlb, train_columns)\n",
    "\n",
    "\n",
    "train_loader = DataLoader(train_dataset, batch_size=64, shuffle=True, num_workers=2)\n",
    "test_loader = DataLoader(test_dataset, batch_size=64, shuffle=False, num_workers=2)"
   ]
  },
  {
   "cell_type": "markdown",
   "id": "7129866e",
   "metadata": {},
   "source": [
    "### Models"
   ]
  },
  {
   "cell_type": "code",
   "execution_count": 6,
   "id": "5ce2b709",
   "metadata": {},
   "outputs": [],
   "source": [
    "text_input_size = len(text_columns)\n",
    "image_input_size = len(image_columns)\n",
    "output_size = len(mlb.classes_)\n",
    "multilabel = False"
   ]
  },
  {
   "cell_type": "code",
   "execution_count": 7,
   "id": "960a13ee",
   "metadata": {},
   "outputs": [
    {
     "name": "stdout",
     "output_type": "stream",
     "text": [
      "Early fusion:\n",
      "Average Memory per Batch in Train: 0.35 MB\n",
      "Total Memory Usage per Epoch Train: 436.71 MB (excluding model parameters)\n",
      "Test:\n",
      "Average Memory per Batch in Test: 0.18 MB\n",
      "Total Memory Usage per Epoch Test: 106.87 MB (excluding model parameters)\n",
      "Model: \n",
      "Model Memory Usage: 0.71 MB\n",
      "\n",
      "Late fusion:\n",
      "Average Memory per Batch in Train: 0.35 MB\n",
      "Total Memory Usage per Epoch Train: 436.71 MB (excluding model parameters)\n",
      "Test:\n",
      "Average Memory per Batch in Test: 0.18 MB\n",
      "Total Memory Usage per Epoch Test: 106.87 MB (excluding model parameters)\n",
      "Model: \n",
      "Model Memory Usage: 0.46 MB\n"
     ]
    }
   ],
   "source": [
    "calculate_memory(train_loader, test_loader, text_input_size, image_input_size, output_size)"
   ]
  },
  {
   "cell_type": "code",
   "execution_count": null,
   "id": "ba436697",
   "metadata": {},
   "outputs": [],
   "source": []
  }
 ],
 "metadata": {
  "kernelspec": {
   "display_name": "Python [conda env:retina_embeddings_v0_0_1]",
   "language": "python",
   "name": "conda-env-retina_embeddings_v0_0_1-py"
  },
  "language_info": {
   "codemirror_mode": {
    "name": "ipython",
    "version": 3
   },
   "file_extension": ".py",
   "mimetype": "text/x-python",
   "name": "python",
   "nbconvert_exporter": "python",
   "pygments_lexer": "ipython3",
   "version": "3.8.17"
  }
 },
 "nbformat": 4,
 "nbformat_minor": 5
}
