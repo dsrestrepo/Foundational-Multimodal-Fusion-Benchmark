{
 "cells": [
  {
   "cell_type": "markdown",
   "id": "e3e0084e",
   "metadata": {},
   "source": [
    "### Fakeddit"
   ]
  },
  {
   "cell_type": "markdown",
   "id": "873ccdd6",
   "metadata": {},
   "source": [
    "### Setup Environment:\n",
    "* [Paper](https://arxiv.org/pdf/1911.03854.pdf)"
   ]
  },
  {
   "cell_type": "code",
   "execution_count": 1,
   "id": "f68bcfe6",
   "metadata": {},
   "outputs": [
    {
     "name": "stdout",
     "output_type": "stream",
     "text": [
      "/home/datascience/Data Fusion\n"
     ]
    }
   ],
   "source": [
    "%cd .."
   ]
  },
  {
   "cell_type": "code",
   "execution_count": 2,
   "id": "856a6300",
   "metadata": {},
   "outputs": [],
   "source": [
    "import os\n",
    "import pandas as pd\n",
    "\n",
    "from src.classifiers import preprocess_data, process_labels,split_data\n",
    "\n",
    "from src.classifiers import VQADataset\n",
    "from torch.utils.data import DataLoader\n",
    "\n",
    "from src.classifiers_cpu_metrics import calculate_memory"
   ]
  },
  {
   "cell_type": "code",
   "execution_count": 3,
   "id": "0e23fc9a",
   "metadata": {},
   "outputs": [],
   "source": [
    "PATH = 'Embeddings_vlm/fakeddit/'\n",
    "FILE = 'embeddings_clip.csv'\n",
    "\n",
    "FILE_PATH = os.path.join(PATH, FILE)"
   ]
  },
  {
   "cell_type": "markdown",
   "id": "86589305",
   "metadata": {},
   "source": [
    "## Get data"
   ]
  },
  {
   "cell_type": "code",
   "execution_count": 4,
   "id": "883d88e1",
   "metadata": {},
   "outputs": [
    {
     "data": {
      "text/html": [
       "<div>\n",
       "<style scoped>\n",
       "    .dataframe tbody tr th:only-of-type {\n",
       "        vertical-align: middle;\n",
       "    }\n",
       "\n",
       "    .dataframe tbody tr th {\n",
       "        vertical-align: top;\n",
       "    }\n",
       "\n",
       "    .dataframe thead th {\n",
       "        text-align: right;\n",
       "    }\n",
       "</style>\n",
       "<table border=\"1\" class=\"dataframe\">\n",
       "  <thead>\n",
       "    <tr style=\"text-align: right;\">\n",
       "      <th></th>\n",
       "      <th>author</th>\n",
       "      <th>clean_title</th>\n",
       "      <th>created_utc</th>\n",
       "      <th>domain</th>\n",
       "      <th>id</th>\n",
       "      <th>linked_submission_id</th>\n",
       "      <th>num_comments</th>\n",
       "      <th>score</th>\n",
       "      <th>subreddit</th>\n",
       "      <th>title</th>\n",
       "      <th>...</th>\n",
       "      <th>text_embedding_502</th>\n",
       "      <th>text_embedding_503</th>\n",
       "      <th>text_embedding_504</th>\n",
       "      <th>text_embedding_505</th>\n",
       "      <th>text_embedding_506</th>\n",
       "      <th>text_embedding_507</th>\n",
       "      <th>text_embedding_508</th>\n",
       "      <th>text_embedding_509</th>\n",
       "      <th>text_embedding_510</th>\n",
       "      <th>text_embedding_511</th>\n",
       "    </tr>\n",
       "  </thead>\n",
       "  <tbody>\n",
       "    <tr>\n",
       "      <th>0</th>\n",
       "      <td>michaelconfoy</td>\n",
       "      <td>loose talk got there first keep it under your ...</td>\n",
       "      <td>1.429942e+09</td>\n",
       "      <td>i.imgur.com</td>\n",
       "      <td>datasets/fakeddit/images/33snxf.jpg</td>\n",
       "      <td>NaN</td>\n",
       "      <td>6.0</td>\n",
       "      <td>70</td>\n",
       "      <td>propagandaposters</td>\n",
       "      <td>\"Loose talk got there first! Keep it under you...</td>\n",
       "      <td>...</td>\n",
       "      <td>0.017499</td>\n",
       "      <td>0.040466</td>\n",
       "      <td>0.121275</td>\n",
       "      <td>-0.046296</td>\n",
       "      <td>0.051412</td>\n",
       "      <td>0.016091</td>\n",
       "      <td>0.010176</td>\n",
       "      <td>0.065790</td>\n",
       "      <td>-0.091243</td>\n",
       "      <td>-0.035023</td>\n",
       "    </tr>\n",
       "    <tr>\n",
       "      <th>1</th>\n",
       "      <td>SaltMineForeman</td>\n",
       "      <td>this tree at my campsite naturally grew a hear...</td>\n",
       "      <td>1.554421e+09</td>\n",
       "      <td>i.imgur.com</td>\n",
       "      <td>datasets/fakeddit/images/b9k2ta.jpg</td>\n",
       "      <td>NaN</td>\n",
       "      <td>2.0</td>\n",
       "      <td>30</td>\n",
       "      <td>mildlyinteresting</td>\n",
       "      <td>This tree at my campsite naturally grew a hear...</td>\n",
       "      <td>...</td>\n",
       "      <td>-0.035342</td>\n",
       "      <td>0.014651</td>\n",
       "      <td>0.022642</td>\n",
       "      <td>-0.005436</td>\n",
       "      <td>-0.041879</td>\n",
       "      <td>0.019345</td>\n",
       "      <td>-0.020924</td>\n",
       "      <td>0.012200</td>\n",
       "      <td>-0.047352</td>\n",
       "      <td>0.045813</td>\n",
       "    </tr>\n",
       "    <tr>\n",
       "      <th>2</th>\n",
       "      <td>Shawn_666</td>\n",
       "      <td>fdr addressing the nation</td>\n",
       "      <td>1.522982e+09</td>\n",
       "      <td>i.redd.it</td>\n",
       "      <td>datasets/fakeddit/images/8a5wy9.jpg</td>\n",
       "      <td>NaN</td>\n",
       "      <td>1.0</td>\n",
       "      <td>12</td>\n",
       "      <td>fakehistoryporn</td>\n",
       "      <td>FDR addressing the nation (1932)</td>\n",
       "      <td>...</td>\n",
       "      <td>-0.027288</td>\n",
       "      <td>0.020853</td>\n",
       "      <td>-0.003959</td>\n",
       "      <td>0.000404</td>\n",
       "      <td>0.034326</td>\n",
       "      <td>-0.029220</td>\n",
       "      <td>-0.002929</td>\n",
       "      <td>-0.065850</td>\n",
       "      <td>0.016998</td>\n",
       "      <td>0.019142</td>\n",
       "    </tr>\n",
       "    <tr>\n",
       "      <th>3</th>\n",
       "      <td>YOLO2THEMAX</td>\n",
       "      <td>face morph</td>\n",
       "      <td>1.448948e+09</td>\n",
       "      <td>NaN</td>\n",
       "      <td>datasets/fakeddit/images/cxiu2qb.jpg</td>\n",
       "      <td>3urf4a</td>\n",
       "      <td>NaN</td>\n",
       "      <td>2</td>\n",
       "      <td>psbattle_artwork</td>\n",
       "      <td>Face morph</td>\n",
       "      <td>...</td>\n",
       "      <td>-0.011685</td>\n",
       "      <td>-0.003866</td>\n",
       "      <td>0.037784</td>\n",
       "      <td>0.010292</td>\n",
       "      <td>-0.004787</td>\n",
       "      <td>0.003773</td>\n",
       "      <td>-0.012201</td>\n",
       "      <td>-0.028986</td>\n",
       "      <td>-0.010641</td>\n",
       "      <td>-0.032186</td>\n",
       "    </tr>\n",
       "    <tr>\n",
       "      <th>4</th>\n",
       "      <td>FarMojo</td>\n",
       "      <td>a japanese kamikaze pilot of the sixth air arm...</td>\n",
       "      <td>1.559169e+09</td>\n",
       "      <td>i.redd.it</td>\n",
       "      <td>datasets/fakeddit/images/bul96p.jpg</td>\n",
       "      <td>NaN</td>\n",
       "      <td>0.0</td>\n",
       "      <td>8</td>\n",
       "      <td>fakehistoryporn</td>\n",
       "      <td>A Japanese kamikaze pilot of the sixth air arm...</td>\n",
       "      <td>...</td>\n",
       "      <td>0.021707</td>\n",
       "      <td>0.011216</td>\n",
       "      <td>0.022868</td>\n",
       "      <td>-0.023618</td>\n",
       "      <td>-0.039166</td>\n",
       "      <td>-0.000059</td>\n",
       "      <td>0.033039</td>\n",
       "      <td>-0.088854</td>\n",
       "      <td>0.024785</td>\n",
       "      <td>-0.023957</td>\n",
       "    </tr>\n",
       "  </tbody>\n",
       "</table>\n",
       "<p>5 rows × 1039 columns</p>\n",
       "</div>"
      ],
      "text/plain": [
       "            author                                        clean_title  \\\n",
       "0    michaelconfoy  loose talk got there first keep it under your ...   \n",
       "1  SaltMineForeman  this tree at my campsite naturally grew a hear...   \n",
       "2        Shawn_666                          fdr addressing the nation   \n",
       "3      YOLO2THEMAX                                         face morph   \n",
       "4          FarMojo  a japanese kamikaze pilot of the sixth air arm...   \n",
       "\n",
       "    created_utc       domain                                    id  \\\n",
       "0  1.429942e+09  i.imgur.com   datasets/fakeddit/images/33snxf.jpg   \n",
       "1  1.554421e+09  i.imgur.com   datasets/fakeddit/images/b9k2ta.jpg   \n",
       "2  1.522982e+09    i.redd.it   datasets/fakeddit/images/8a5wy9.jpg   \n",
       "3  1.448948e+09          NaN  datasets/fakeddit/images/cxiu2qb.jpg   \n",
       "4  1.559169e+09    i.redd.it   datasets/fakeddit/images/bul96p.jpg   \n",
       "\n",
       "  linked_submission_id  num_comments  score          subreddit  \\\n",
       "0                  NaN           6.0     70  propagandaposters   \n",
       "1                  NaN           2.0     30  mildlyinteresting   \n",
       "2                  NaN           1.0     12    fakehistoryporn   \n",
       "3               3urf4a           NaN      2   psbattle_artwork   \n",
       "4                  NaN           0.0      8    fakehistoryporn   \n",
       "\n",
       "                                               title  ...  text_embedding_502  \\\n",
       "0  \"Loose talk got there first! Keep it under you...  ...            0.017499   \n",
       "1  This tree at my campsite naturally grew a hear...  ...           -0.035342   \n",
       "2                   FDR addressing the nation (1932)  ...           -0.027288   \n",
       "3                                         Face morph  ...           -0.011685   \n",
       "4  A Japanese kamikaze pilot of the sixth air arm...  ...            0.021707   \n",
       "\n",
       "   text_embedding_503  text_embedding_504  text_embedding_505  \\\n",
       "0            0.040466            0.121275           -0.046296   \n",
       "1            0.014651            0.022642           -0.005436   \n",
       "2            0.020853           -0.003959            0.000404   \n",
       "3           -0.003866            0.037784            0.010292   \n",
       "4            0.011216            0.022868           -0.023618   \n",
       "\n",
       "  text_embedding_506  text_embedding_507  text_embedding_508  \\\n",
       "0           0.051412            0.016091            0.010176   \n",
       "1          -0.041879            0.019345           -0.020924   \n",
       "2           0.034326           -0.029220           -0.002929   \n",
       "3          -0.004787            0.003773           -0.012201   \n",
       "4          -0.039166           -0.000059            0.033039   \n",
       "\n",
       "   text_embedding_509  text_embedding_510  text_embedding_511  \n",
       "0            0.065790           -0.091243           -0.035023  \n",
       "1            0.012200           -0.047352            0.045813  \n",
       "2           -0.065850            0.016998            0.019142  \n",
       "3           -0.028986           -0.010641           -0.032186  \n",
       "4           -0.088854            0.024785           -0.023957  \n",
       "\n",
       "[5 rows x 1039 columns]"
      ]
     },
     "execution_count": 4,
     "metadata": {},
     "output_type": "execute_result"
    }
   ],
   "source": [
    "df = pd.read_csv(FILE_PATH)\n",
    "df.drop(columns=['hasImage', 'image_url'], inplace=True)\n",
    "df.head()"
   ]
  },
  {
   "cell_type": "markdown",
   "id": "045733f1",
   "metadata": {},
   "source": [
    "## Data Perparation"
   ]
  },
  {
   "cell_type": "code",
   "execution_count": 5,
   "id": "aacc552d",
   "metadata": {},
   "outputs": [
    {
     "name": "stdout",
     "output_type": "stream",
     "text": [
      "Train Shape: (56214, 1039)\n",
      "Test Shape: (5911, 1039)\n"
     ]
    }
   ],
   "source": [
    "# Split the data\n",
    "train_df, test_df = split_data(df)\n",
    "\n",
    "# Select features and labels vectors\n",
    "text_columns = [column for column in df.columns if 'text' in column] #[f'text_{i}']\n",
    "image_columns = [column for column in df.columns if 'image' in column] #[f'image_{i}']\n",
    "label_columns = '2_way_label'\n",
    "\n",
    "\n",
    "# Process and one-hot encode labels for training set\n",
    "train_labels, mlb, train_columns = process_labels(train_df, col=label_columns)\n",
    "test_labels = process_labels(test_df, col=label_columns, train_columns=train_columns)\n",
    "\n",
    "\n",
    "train_dataset = VQADataset(train_df, text_columns, image_columns, label_columns, mlb, train_columns)\n",
    "test_dataset = VQADataset(test_df, text_columns, image_columns, label_columns, mlb, train_columns)\n",
    "\n",
    "\n",
    "train_loader = DataLoader(train_dataset, batch_size=64, shuffle=True, num_workers=2)\n",
    "test_loader = DataLoader(test_dataset, batch_size=64, shuffle=False, num_workers=2)"
   ]
  },
  {
   "cell_type": "markdown",
   "id": "b698dec0",
   "metadata": {},
   "source": [
    "### Models"
   ]
  },
  {
   "cell_type": "code",
   "execution_count": 6,
   "id": "c3150760",
   "metadata": {},
   "outputs": [],
   "source": [
    "text_input_size = len(text_columns)\n",
    "image_input_size = len(image_columns)\n",
    "if label_columns == '2_way_label':\n",
    "    output_size = 1\n",
    "else:\n",
    "    output_size = len(pd.unique(train_df[label_columns]))\n",
    "multilabel = False"
   ]
  },
  {
   "cell_type": "code",
   "execution_count": 7,
   "id": "a3674ab1",
   "metadata": {},
   "outputs": [
    {
     "name": "stdout",
     "output_type": "stream",
     "text": [
      "Early fusion:\n",
      "Average Memory per Batch in Train: 0.25 MB\n",
      "Total Memory Usage per Epoch Train: 219.80 MB (excluding model parameters)\n",
      "Test:\n",
      "Average Memory per Batch in Test: 0.03 MB\n",
      "Total Memory Usage per Epoch Test: 2.45 MB (excluding model parameters)\n",
      "Model: \n",
      "Model Memory Usage: 0.50 MB\n",
      "\n",
      "Late fusion:\n",
      "Average Memory per Batch in Train: 0.25 MB\n",
      "Total Memory Usage per Epoch Train: 219.80 MB (excluding model parameters)\n",
      "Test:\n",
      "Average Memory per Batch in Test: 0.03 MB\n",
      "Total Memory Usage per Epoch Test: 2.45 MB (excluding model parameters)\n",
      "Model: \n",
      "Model Memory Usage: 0.25 MB\n"
     ]
    }
   ],
   "source": [
    "calculate_memory(train_loader, test_loader, text_input_size, image_input_size, output_size)"
   ]
  },
  {
   "cell_type": "code",
   "execution_count": null,
   "id": "abdbf0a5",
   "metadata": {},
   "outputs": [],
   "source": []
  }
 ],
 "metadata": {
  "kernelspec": {
   "display_name": "Python [conda env:retina_embeddings_v0_0_1]",
   "language": "python",
   "name": "conda-env-retina_embeddings_v0_0_1-py"
  },
  "language_info": {
   "codemirror_mode": {
    "name": "ipython",
    "version": 3
   },
   "file_extension": ".py",
   "mimetype": "text/x-python",
   "name": "python",
   "nbconvert_exporter": "python",
   "pygments_lexer": "ipython3",
   "version": "3.8.17"
  }
 },
 "nbformat": 4,
 "nbformat_minor": 5
}
