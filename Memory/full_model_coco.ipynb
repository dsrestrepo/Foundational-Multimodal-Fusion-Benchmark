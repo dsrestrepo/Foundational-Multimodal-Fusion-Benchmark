{
 "cells": [
  {
   "cell_type": "markdown",
   "id": "3a43dbb8",
   "metadata": {},
   "source": [
    "### Modeling COCO - QA\n",
    "* [Review](https://arxiv.org/abs/1610.01465)"
   ]
  },
  {
   "cell_type": "code",
   "execution_count": 1,
   "id": "1987e992",
   "metadata": {},
   "outputs": [
    {
     "name": "stdout",
     "output_type": "stream",
     "text": [
      "/home/datascience/Data Fusion\n"
     ]
    }
   ],
   "source": [
    "%cd .."
   ]
  },
  {
   "cell_type": "markdown",
   "id": "a09279b7",
   "metadata": {},
   "source": [
    "### Setup Environment:"
   ]
  },
  {
   "cell_type": "code",
   "execution_count": 2,
   "id": "0f8778ae",
   "metadata": {},
   "outputs": [],
   "source": [
    "import os\n",
    "import pandas as pd\n",
    "\n",
    "from src.classifiers import process_labels, split_data\n",
    "from src.classifiers_base import preprocess_df\n",
    "\n",
    "from transformers import BertTokenizer\n",
    "\n",
    "from src.multimodal_data_loader import VQADataset\n",
    "from torch.utils.data import DataLoader\n",
    "\n",
    "from src.classifiers_base_cpu_metrics import calculate_memory"
   ]
  },
  {
   "cell_type": "code",
   "execution_count": 3,
   "id": "235efee9",
   "metadata": {},
   "outputs": [],
   "source": [
    "PATH = 'datasets/coco-qa/'"
   ]
  },
  {
   "cell_type": "code",
   "execution_count": 4,
   "id": "80e97e1d",
   "metadata": {},
   "outputs": [],
   "source": [
    "text_path = os.path.join(PATH, 'labels.csv')\n",
    "images_path = os.path.join(PATH, 'images')"
   ]
  },
  {
   "cell_type": "markdown",
   "id": "d9d0d16b",
   "metadata": {},
   "source": [
    "## Get data"
   ]
  },
  {
   "cell_type": "code",
   "execution_count": 5,
   "id": "88424af9",
   "metadata": {},
   "outputs": [
    {
     "data": {
      "text/html": [
       "<div>\n",
       "<style scoped>\n",
       "    .dataframe tbody tr th:only-of-type {\n",
       "        vertical-align: middle;\n",
       "    }\n",
       "\n",
       "    .dataframe tbody tr th {\n",
       "        vertical-align: top;\n",
       "    }\n",
       "\n",
       "    .dataframe thead th {\n",
       "        text-align: right;\n",
       "    }\n",
       "</style>\n",
       "<table border=\"1\" class=\"dataframe\">\n",
       "  <thead>\n",
       "    <tr style=\"text-align: right;\">\n",
       "      <th></th>\n",
       "      <th>questions</th>\n",
       "      <th>image_id</th>\n",
       "      <th>answers</th>\n",
       "      <th>types</th>\n",
       "      <th>split</th>\n",
       "    </tr>\n",
       "  </thead>\n",
       "  <tbody>\n",
       "    <tr>\n",
       "      <th>0</th>\n",
       "      <td>what is using umbrellas as a central theme</td>\n",
       "      <td>397899</td>\n",
       "      <td>sculpture</td>\n",
       "      <td>0</td>\n",
       "      <td>train</td>\n",
       "    </tr>\n",
       "    <tr>\n",
       "      <th>1</th>\n",
       "      <td>what walks toward the rope perimeter fence</td>\n",
       "      <td>310683</td>\n",
       "      <td>elephant</td>\n",
       "      <td>0</td>\n",
       "      <td>train</td>\n",
       "    </tr>\n",
       "    <tr>\n",
       "      <th>2</th>\n",
       "      <td>what is the color of the horses</td>\n",
       "      <td>23004</td>\n",
       "      <td>brown</td>\n",
       "      <td>2</td>\n",
       "      <td>train</td>\n",
       "    </tr>\n",
       "    <tr>\n",
       "      <th>3</th>\n",
       "      <td>where is the black cat laying down</td>\n",
       "      <td>117931</td>\n",
       "      <td>sink</td>\n",
       "      <td>3</td>\n",
       "      <td>train</td>\n",
       "    </tr>\n",
       "    <tr>\n",
       "      <th>4</th>\n",
       "      <td>what is the color of the character</td>\n",
       "      <td>220218</td>\n",
       "      <td>purple</td>\n",
       "      <td>2</td>\n",
       "      <td>train</td>\n",
       "    </tr>\n",
       "    <tr>\n",
       "      <th>...</th>\n",
       "      <td>...</td>\n",
       "      <td>...</td>\n",
       "      <td>...</td>\n",
       "      <td>...</td>\n",
       "      <td>...</td>\n",
       "    </tr>\n",
       "    <tr>\n",
       "      <th>117679</th>\n",
       "      <td>what are there grouped together here</td>\n",
       "      <td>406426</td>\n",
       "      <td>vegetables</td>\n",
       "      <td>0</td>\n",
       "      <td>test</td>\n",
       "    </tr>\n",
       "    <tr>\n",
       "      <th>117680</th>\n",
       "      <td>what serves as the train trestle</td>\n",
       "      <td>545581</td>\n",
       "      <td>bridge</td>\n",
       "      <td>0</td>\n",
       "      <td>test</td>\n",
       "    </tr>\n",
       "    <tr>\n",
       "      <th>117681</th>\n",
       "      <td>what is the color of the plate</td>\n",
       "      <td>40404</td>\n",
       "      <td>white</td>\n",
       "      <td>2</td>\n",
       "      <td>test</td>\n",
       "    </tr>\n",
       "    <tr>\n",
       "      <th>117682</th>\n",
       "      <td>what is sleeping on the blue couch</td>\n",
       "      <td>570521</td>\n",
       "      <td>cat</td>\n",
       "      <td>0</td>\n",
       "      <td>test</td>\n",
       "    </tr>\n",
       "    <tr>\n",
       "      <th>117683</th>\n",
       "      <td>how many people on a boat rowing in the water</td>\n",
       "      <td>139440</td>\n",
       "      <td>six</td>\n",
       "      <td>1</td>\n",
       "      <td>test</td>\n",
       "    </tr>\n",
       "  </tbody>\n",
       "</table>\n",
       "<p>117684 rows × 5 columns</p>\n",
       "</div>"
      ],
      "text/plain": [
       "                                            questions  image_id     answers  \\\n",
       "0          what is using umbrellas as a central theme    397899   sculpture   \n",
       "1          what walks toward the rope perimeter fence    310683    elephant   \n",
       "2                     what is the color of the horses     23004       brown   \n",
       "3                  where is the black cat laying down    117931        sink   \n",
       "4                  what is the color of the character    220218      purple   \n",
       "...                                               ...       ...         ...   \n",
       "117679           what are there grouped together here    406426  vegetables   \n",
       "117680               what serves as the train trestle    545581      bridge   \n",
       "117681                 what is the color of the plate     40404       white   \n",
       "117682             what is sleeping on the blue couch    570521         cat   \n",
       "117683  how many people on a boat rowing in the water    139440         six   \n",
       "\n",
       "        types  split  \n",
       "0           0  train  \n",
       "1           0  train  \n",
       "2           2  train  \n",
       "3           3  train  \n",
       "4           2  train  \n",
       "...       ...    ...  \n",
       "117679      0   test  \n",
       "117680      0   test  \n",
       "117681      2   test  \n",
       "117682      0   test  \n",
       "117683      1   test  \n",
       "\n",
       "[117684 rows x 5 columns]"
      ]
     },
     "execution_count": 5,
     "metadata": {},
     "output_type": "execute_result"
    }
   ],
   "source": [
    "df = pd.read_csv(text_path)\n",
    "df"
   ]
  },
  {
   "cell_type": "markdown",
   "id": "7fb8b8d0",
   "metadata": {},
   "source": [
    "## Data Perparation"
   ]
  },
  {
   "cell_type": "code",
   "execution_count": null,
   "id": "535a0796",
   "metadata": {},
   "outputs": [
    {
     "name": "stderr",
     "output_type": "stream",
     "text": [
      " 47%|████▋     | 55360/117684 [03:01<02:52, 360.86it/s]"
     ]
    }
   ],
   "source": [
    "# Select features and labels vectors\n",
    "text_columns = 'questions'\n",
    "image_columns = 'image_id'\n",
    "label_columns = 'answers'\n",
    "\n",
    "df = preprocess_df(df, image_columns, images_path)\n",
    "\n",
    "# Split the data\n",
    "train_df, test_df = split_data(df)\n",
    "\n",
    "# Process and one-hot encode labels for training set\n",
    "train_labels, mlb, train_columns = process_labels(train_df, col=label_columns)\n",
    "test_labels = process_labels(test_df, col=label_columns, train_columns=train_columns)"
   ]
  },
  {
   "cell_type": "code",
   "execution_count": null,
   "id": "9d9983e9",
   "metadata": {},
   "outputs": [],
   "source": [
    "train_df"
   ]
  },
  {
   "cell_type": "code",
   "execution_count": null,
   "id": "5a658b7f",
   "metadata": {},
   "outputs": [],
   "source": [
    "# Instantiate tokenizer\n",
    "tokenizer = BertTokenizer.from_pretrained('bert-base-uncased')"
   ]
  },
  {
   "cell_type": "code",
   "execution_count": null,
   "id": "62ebb758",
   "metadata": {},
   "outputs": [],
   "source": [
    "train_dataset = VQADataset(train_df, text_columns, image_columns, label_columns, mlb, train_columns, tokenizer)\n",
    "test_dataset = VQADataset(test_df, text_columns, image_columns, label_columns, mlb, train_columns, tokenizer)\n",
    "\n",
    "train_loader = DataLoader(train_dataset, batch_size=64, shuffle=True, num_workers=2)\n",
    "test_loader = DataLoader(test_dataset, batch_size=64, shuffle=False, num_workers=2)"
   ]
  },
  {
   "cell_type": "markdown",
   "id": "9506e5ca",
   "metadata": {},
   "source": [
    "### Models"
   ]
  },
  {
   "cell_type": "code",
   "execution_count": null,
   "id": "e389152a",
   "metadata": {},
   "outputs": [],
   "source": [
    "output_size = len(mlb.classes_)\n",
    "multilabel = False"
   ]
  },
  {
   "cell_type": "code",
   "execution_count": null,
   "id": "0b05cdfd",
   "metadata": {},
   "outputs": [],
   "source": [
    "calculate_memory(train_loader, test_loader, output_size)"
   ]
  },
  {
   "cell_type": "code",
   "execution_count": null,
   "id": "79837ef5",
   "metadata": {},
   "outputs": [],
   "source": []
  }
 ],
 "metadata": {
  "kernelspec": {
   "display_name": "Python [conda env:retina_embeddings_v0_0_1]",
   "language": "python",
   "name": "conda-env-retina_embeddings_v0_0_1-py"
  },
  "language_info": {
   "codemirror_mode": {
    "name": "ipython",
    "version": 3
   },
   "file_extension": ".py",
   "mimetype": "text/x-python",
   "name": "python",
   "nbconvert_exporter": "python",
   "pygments_lexer": "ipython3",
   "version": "3.8.17"
  }
 },
 "nbformat": 4,
 "nbformat_minor": 5
}
