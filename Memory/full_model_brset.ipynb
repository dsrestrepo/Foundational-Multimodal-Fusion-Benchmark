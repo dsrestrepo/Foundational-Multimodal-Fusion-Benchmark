{
 "cells": [
  {
   "cell_type": "markdown",
   "id": "74fca168",
   "metadata": {},
   "source": [
    "### BRSET\n",
    "\n",
    "* [Dataset](https://physionet.org/content/brazilian-ophthalmological/1.0.0/)\n",
    "\n",
    "* [Original Paper](https://www.medrxiv.org/content/10.1101/2024.01.23.24301660v1)"
   ]
  },
  {
   "cell_type": "code",
   "execution_count": 1,
   "id": "30b0a9dd",
   "metadata": {},
   "outputs": [
    {
     "name": "stdout",
     "output_type": "stream",
     "text": [
      "/home/datascience/Data Fusion\n"
     ]
    }
   ],
   "source": [
    "%cd .."
   ]
  },
  {
   "cell_type": "markdown",
   "id": "453bbb0f",
   "metadata": {},
   "source": [
    "### Setup Environment:"
   ]
  },
  {
   "cell_type": "code",
   "execution_count": 2,
   "id": "87ad6434",
   "metadata": {},
   "outputs": [],
   "source": [
    "import os\n",
    "import pandas as pd\n",
    "\n",
    "from src.classifiers import process_labels, split_data\n",
    "from src.classifiers_base import preprocess_df\n",
    "\n",
    "from transformers import BertTokenizer\n",
    "\n",
    "from src.multimodal_data_loader import VQADataset\n",
    "from torch.utils.data import DataLoader\n",
    "\n",
    "from src.classifiers_base_cpu_metrics import calculate_memory"
   ]
  },
  {
   "cell_type": "code",
   "execution_count": 3,
   "id": "3b1a0430",
   "metadata": {},
   "outputs": [],
   "source": [
    "PATH = 'datasets/brset/'"
   ]
  },
  {
   "cell_type": "code",
   "execution_count": 4,
   "id": "25d01b06",
   "metadata": {},
   "outputs": [],
   "source": [
    "text_path = os.path.join(PATH, 'labels.csv')\n",
    "images_path = os.path.join(PATH, 'images')"
   ]
  },
  {
   "cell_type": "markdown",
   "id": "138e587b",
   "metadata": {},
   "source": [
    "## Get data"
   ]
  },
  {
   "cell_type": "code",
   "execution_count": 5,
   "id": "9d01f696",
   "metadata": {},
   "outputs": [
    {
     "data": {
      "text/html": [
       "<div>\n",
       "<style scoped>\n",
       "    .dataframe tbody tr th:only-of-type {\n",
       "        vertical-align: middle;\n",
       "    }\n",
       "\n",
       "    .dataframe tbody tr th {\n",
       "        vertical-align: top;\n",
       "    }\n",
       "\n",
       "    .dataframe thead th {\n",
       "        text-align: right;\n",
       "    }\n",
       "</style>\n",
       "<table border=\"1\" class=\"dataframe\">\n",
       "  <thead>\n",
       "    <tr style=\"text-align: right;\">\n",
       "      <th></th>\n",
       "      <th>image_id</th>\n",
       "      <th>DR_ICDR</th>\n",
       "      <th>text</th>\n",
       "      <th>DR_2</th>\n",
       "      <th>DR_3</th>\n",
       "      <th>split</th>\n",
       "    </tr>\n",
       "  </thead>\n",
       "  <tbody>\n",
       "    <tr>\n",
       "      <th>0</th>\n",
       "      <td>img00001</td>\n",
       "      <td>0</td>\n",
       "      <td>An image from the right eye of a male patient,...</td>\n",
       "      <td>0</td>\n",
       "      <td>0</td>\n",
       "      <td>train</td>\n",
       "    </tr>\n",
       "    <tr>\n",
       "      <th>1</th>\n",
       "      <td>img00002</td>\n",
       "      <td>0</td>\n",
       "      <td>An image from the left eye of a male patient, ...</td>\n",
       "      <td>0</td>\n",
       "      <td>0</td>\n",
       "      <td>test</td>\n",
       "    </tr>\n",
       "    <tr>\n",
       "      <th>2</th>\n",
       "      <td>img00003</td>\n",
       "      <td>0</td>\n",
       "      <td>An image from the right eye of a female patien...</td>\n",
       "      <td>0</td>\n",
       "      <td>0</td>\n",
       "      <td>train</td>\n",
       "    </tr>\n",
       "    <tr>\n",
       "      <th>3</th>\n",
       "      <td>img00004</td>\n",
       "      <td>0</td>\n",
       "      <td>An image from the left eye of a female patient...</td>\n",
       "      <td>0</td>\n",
       "      <td>0</td>\n",
       "      <td>train</td>\n",
       "    </tr>\n",
       "    <tr>\n",
       "      <th>4</th>\n",
       "      <td>img00005</td>\n",
       "      <td>0</td>\n",
       "      <td>An image from the right eye of a male patient,...</td>\n",
       "      <td>0</td>\n",
       "      <td>0</td>\n",
       "      <td>test</td>\n",
       "    </tr>\n",
       "    <tr>\n",
       "      <th>...</th>\n",
       "      <td>...</td>\n",
       "      <td>...</td>\n",
       "      <td>...</td>\n",
       "      <td>...</td>\n",
       "      <td>...</td>\n",
       "      <td>...</td>\n",
       "    </tr>\n",
       "    <tr>\n",
       "      <th>16261</th>\n",
       "      <td>img16262</td>\n",
       "      <td>1</td>\n",
       "      <td>An image from the left eye of a male patient, ...</td>\n",
       "      <td>1</td>\n",
       "      <td>1</td>\n",
       "      <td>test</td>\n",
       "    </tr>\n",
       "    <tr>\n",
       "      <th>16262</th>\n",
       "      <td>img16263</td>\n",
       "      <td>0</td>\n",
       "      <td>An image from the right eye of a male patient,...</td>\n",
       "      <td>0</td>\n",
       "      <td>0</td>\n",
       "      <td>train</td>\n",
       "    </tr>\n",
       "    <tr>\n",
       "      <th>16263</th>\n",
       "      <td>img16264</td>\n",
       "      <td>0</td>\n",
       "      <td>An image from the left eye of a male patient, ...</td>\n",
       "      <td>0</td>\n",
       "      <td>0</td>\n",
       "      <td>test</td>\n",
       "    </tr>\n",
       "    <tr>\n",
       "      <th>16264</th>\n",
       "      <td>img16265</td>\n",
       "      <td>0</td>\n",
       "      <td>An image from the right eye of a male patient,...</td>\n",
       "      <td>0</td>\n",
       "      <td>0</td>\n",
       "      <td>train</td>\n",
       "    </tr>\n",
       "    <tr>\n",
       "      <th>16265</th>\n",
       "      <td>img16266</td>\n",
       "      <td>0</td>\n",
       "      <td>An image from the left eye of a male patient, ...</td>\n",
       "      <td>0</td>\n",
       "      <td>0</td>\n",
       "      <td>train</td>\n",
       "    </tr>\n",
       "  </tbody>\n",
       "</table>\n",
       "<p>16266 rows × 6 columns</p>\n",
       "</div>"
      ],
      "text/plain": [
       "       image_id  DR_ICDR                                               text  \\\n",
       "0      img00001        0  An image from the right eye of a male patient,...   \n",
       "1      img00002        0  An image from the left eye of a male patient, ...   \n",
       "2      img00003        0  An image from the right eye of a female patien...   \n",
       "3      img00004        0  An image from the left eye of a female patient...   \n",
       "4      img00005        0  An image from the right eye of a male patient,...   \n",
       "...         ...      ...                                                ...   \n",
       "16261  img16262        1  An image from the left eye of a male patient, ...   \n",
       "16262  img16263        0  An image from the right eye of a male patient,...   \n",
       "16263  img16264        0  An image from the left eye of a male patient, ...   \n",
       "16264  img16265        0  An image from the right eye of a male patient,...   \n",
       "16265  img16266        0  An image from the left eye of a male patient, ...   \n",
       "\n",
       "       DR_2  DR_3  split  \n",
       "0         0     0  train  \n",
       "1         0     0   test  \n",
       "2         0     0  train  \n",
       "3         0     0  train  \n",
       "4         0     0   test  \n",
       "...     ...   ...    ...  \n",
       "16261     1     1   test  \n",
       "16262     0     0  train  \n",
       "16263     0     0   test  \n",
       "16264     0     0  train  \n",
       "16265     0     0  train  \n",
       "\n",
       "[16266 rows x 6 columns]"
      ]
     },
     "execution_count": 5,
     "metadata": {},
     "output_type": "execute_result"
    }
   ],
   "source": [
    "df = pd.read_csv(text_path)\n",
    "df"
   ]
  },
  {
   "cell_type": "markdown",
   "id": "2f065ebb",
   "metadata": {},
   "source": [
    "## Data Perparation"
   ]
  },
  {
   "cell_type": "code",
   "execution_count": 6,
   "id": "39ab6939",
   "metadata": {},
   "outputs": [
    {
     "name": "stderr",
     "output_type": "stream",
     "text": [
      "100%|██████████| 16266/16266 [00:04<00:00, 3964.88it/s]\n",
      "100%|██████████| 16266/16266 [00:24<00:00, 658.89it/s]\n"
     ]
    },
    {
     "name": "stdout",
     "output_type": "stream",
     "text": [
      "Train Shape: (13012, 6)\n",
      "Test Shape: (3254, 6)\n"
     ]
    }
   ],
   "source": [
    "# Select features and labels vectors\n",
    "text_columns = 'text'\n",
    "image_columns = 'image_id'\n",
    "label_columns = 'DR_2'\n",
    "\n",
    "df = preprocess_df(df, image_columns, images_path)\n",
    "\n",
    "# Split the data\n",
    "train_df, test_df = split_data(df)\n",
    "\n",
    "# Process and one-hot encode labels for training set\n",
    "train_labels, mlb, train_columns = process_labels(train_df, col=label_columns)\n",
    "test_labels = process_labels(test_df, col=label_columns, train_columns=train_columns)"
   ]
  },
  {
   "cell_type": "code",
   "execution_count": 7,
   "id": "bb512bca",
   "metadata": {},
   "outputs": [
    {
     "data": {
      "text/html": [
       "<div>\n",
       "<style scoped>\n",
       "    .dataframe tbody tr th:only-of-type {\n",
       "        vertical-align: middle;\n",
       "    }\n",
       "\n",
       "    .dataframe tbody tr th {\n",
       "        vertical-align: top;\n",
       "    }\n",
       "\n",
       "    .dataframe thead th {\n",
       "        text-align: right;\n",
       "    }\n",
       "</style>\n",
       "<table border=\"1\" class=\"dataframe\">\n",
       "  <thead>\n",
       "    <tr style=\"text-align: right;\">\n",
       "      <th></th>\n",
       "      <th>image_id</th>\n",
       "      <th>DR_ICDR</th>\n",
       "      <th>text</th>\n",
       "      <th>DR_2</th>\n",
       "      <th>DR_3</th>\n",
       "      <th>split</th>\n",
       "    </tr>\n",
       "  </thead>\n",
       "  <tbody>\n",
       "    <tr>\n",
       "      <th>0</th>\n",
       "      <td>datasets/brset/images/img00001.jpg</td>\n",
       "      <td>0</td>\n",
       "      <td>An image from the right eye of a male patient,...</td>\n",
       "      <td>0</td>\n",
       "      <td>0</td>\n",
       "      <td>train</td>\n",
       "    </tr>\n",
       "    <tr>\n",
       "      <th>2</th>\n",
       "      <td>datasets/brset/images/img00003.jpg</td>\n",
       "      <td>0</td>\n",
       "      <td>An image from the right eye of a female patien...</td>\n",
       "      <td>0</td>\n",
       "      <td>0</td>\n",
       "      <td>train</td>\n",
       "    </tr>\n",
       "    <tr>\n",
       "      <th>3</th>\n",
       "      <td>datasets/brset/images/img00004.jpg</td>\n",
       "      <td>0</td>\n",
       "      <td>An image from the left eye of a female patient...</td>\n",
       "      <td>0</td>\n",
       "      <td>0</td>\n",
       "      <td>train</td>\n",
       "    </tr>\n",
       "    <tr>\n",
       "      <th>6</th>\n",
       "      <td>datasets/brset/images/img00007.jpg</td>\n",
       "      <td>0</td>\n",
       "      <td>An image from the right eye of a male patient,...</td>\n",
       "      <td>0</td>\n",
       "      <td>0</td>\n",
       "      <td>train</td>\n",
       "    </tr>\n",
       "    <tr>\n",
       "      <th>7</th>\n",
       "      <td>datasets/brset/images/img00008.jpg</td>\n",
       "      <td>0</td>\n",
       "      <td>An image from the left eye of a male patient, ...</td>\n",
       "      <td>0</td>\n",
       "      <td>0</td>\n",
       "      <td>train</td>\n",
       "    </tr>\n",
       "    <tr>\n",
       "      <th>...</th>\n",
       "      <td>...</td>\n",
       "      <td>...</td>\n",
       "      <td>...</td>\n",
       "      <td>...</td>\n",
       "      <td>...</td>\n",
       "      <td>...</td>\n",
       "    </tr>\n",
       "    <tr>\n",
       "      <th>16259</th>\n",
       "      <td>datasets/brset/images/img16260.jpg</td>\n",
       "      <td>0</td>\n",
       "      <td>An image from the left eye of a female patient...</td>\n",
       "      <td>0</td>\n",
       "      <td>0</td>\n",
       "      <td>train</td>\n",
       "    </tr>\n",
       "    <tr>\n",
       "      <th>16260</th>\n",
       "      <td>datasets/brset/images/img16261.jpg</td>\n",
       "      <td>1</td>\n",
       "      <td>An image from the right eye of a male patient,...</td>\n",
       "      <td>1</td>\n",
       "      <td>1</td>\n",
       "      <td>train</td>\n",
       "    </tr>\n",
       "    <tr>\n",
       "      <th>16262</th>\n",
       "      <td>datasets/brset/images/img16263.jpg</td>\n",
       "      <td>0</td>\n",
       "      <td>An image from the right eye of a male patient,...</td>\n",
       "      <td>0</td>\n",
       "      <td>0</td>\n",
       "      <td>train</td>\n",
       "    </tr>\n",
       "    <tr>\n",
       "      <th>16264</th>\n",
       "      <td>datasets/brset/images/img16265.jpg</td>\n",
       "      <td>0</td>\n",
       "      <td>An image from the right eye of a male patient,...</td>\n",
       "      <td>0</td>\n",
       "      <td>0</td>\n",
       "      <td>train</td>\n",
       "    </tr>\n",
       "    <tr>\n",
       "      <th>16265</th>\n",
       "      <td>datasets/brset/images/img16266.jpg</td>\n",
       "      <td>0</td>\n",
       "      <td>An image from the left eye of a male patient, ...</td>\n",
       "      <td>0</td>\n",
       "      <td>0</td>\n",
       "      <td>train</td>\n",
       "    </tr>\n",
       "  </tbody>\n",
       "</table>\n",
       "<p>13012 rows × 6 columns</p>\n",
       "</div>"
      ],
      "text/plain": [
       "                                 image_id  DR_ICDR  \\\n",
       "0      datasets/brset/images/img00001.jpg        0   \n",
       "2      datasets/brset/images/img00003.jpg        0   \n",
       "3      datasets/brset/images/img00004.jpg        0   \n",
       "6      datasets/brset/images/img00007.jpg        0   \n",
       "7      datasets/brset/images/img00008.jpg        0   \n",
       "...                                   ...      ...   \n",
       "16259  datasets/brset/images/img16260.jpg        0   \n",
       "16260  datasets/brset/images/img16261.jpg        1   \n",
       "16262  datasets/brset/images/img16263.jpg        0   \n",
       "16264  datasets/brset/images/img16265.jpg        0   \n",
       "16265  datasets/brset/images/img16266.jpg        0   \n",
       "\n",
       "                                                    text  DR_2  DR_3  split  \n",
       "0      An image from the right eye of a male patient,...     0     0  train  \n",
       "2      An image from the right eye of a female patien...     0     0  train  \n",
       "3      An image from the left eye of a female patient...     0     0  train  \n",
       "6      An image from the right eye of a male patient,...     0     0  train  \n",
       "7      An image from the left eye of a male patient, ...     0     0  train  \n",
       "...                                                  ...   ...   ...    ...  \n",
       "16259  An image from the left eye of a female patient...     0     0  train  \n",
       "16260  An image from the right eye of a male patient,...     1     1  train  \n",
       "16262  An image from the right eye of a male patient,...     0     0  train  \n",
       "16264  An image from the right eye of a male patient,...     0     0  train  \n",
       "16265  An image from the left eye of a male patient, ...     0     0  train  \n",
       "\n",
       "[13012 rows x 6 columns]"
      ]
     },
     "execution_count": 7,
     "metadata": {},
     "output_type": "execute_result"
    }
   ],
   "source": [
    "train_df"
   ]
  },
  {
   "cell_type": "code",
   "execution_count": 8,
   "id": "f46713cb",
   "metadata": {},
   "outputs": [],
   "source": [
    "# Instantiate tokenizer\n",
    "tokenizer = BertTokenizer.from_pretrained('bert-base-uncased')"
   ]
  },
  {
   "cell_type": "code",
   "execution_count": 9,
   "id": "8884ec13",
   "metadata": {},
   "outputs": [],
   "source": [
    "train_dataset = VQADataset(train_df, text_columns, image_columns, label_columns, mlb, train_columns, tokenizer)\n",
    "test_dataset = VQADataset(test_df, text_columns, image_columns, label_columns, mlb, train_columns, tokenizer)\n",
    "\n",
    "train_loader = DataLoader(train_dataset, batch_size=64, shuffle=True, num_workers=2)\n",
    "test_loader = DataLoader(test_dataset, batch_size=64, shuffle=False, num_workers=2)"
   ]
  },
  {
   "cell_type": "markdown",
   "id": "42253b41",
   "metadata": {},
   "source": [
    "### Models"
   ]
  },
  {
   "cell_type": "code",
   "execution_count": 10,
   "id": "5e62795f",
   "metadata": {},
   "outputs": [],
   "source": [
    "if label_columns == 'DR_2':\n",
    "    output_size = 1\n",
    "else:\n",
    "    output_size = len(pd.unique(train_df[label_columns]))\n",
    "multilabel = False"
   ]
  },
  {
   "cell_type": "code",
   "execution_count": 11,
   "id": "3fb8374f",
   "metadata": {},
   "outputs": [
    {
     "name": "stdout",
     "output_type": "stream",
     "text": [
      "Early fusion:\n",
      "Average Memory per Batch in Train: 36.63 MB\n",
      "Total Memory Usage per Epoch Train: 7471.78 MB (excluding model parameters)\n",
      "Test:\n",
      "Average Memory per Batch in Test: 9.16 MB\n",
      "Total Memory Usage per Epoch Test: 467.13 MB (excluding model parameters)\n",
      "Model: \n",
      "Model Memory Usage: 747.94 MB\n",
      "\n",
      "Late fusion:\n",
      "Average Memory per Batch in Train: 36.63 MB\n",
      "Total Memory Usage per Epoch Train: 7471.78 MB (excluding model parameters)\n",
      "Test:\n",
      "Average Memory per Batch in Test: 9.16 MB\n",
      "Total Memory Usage per Epoch Test: 467.13 MB (excluding model parameters)\n",
      "Model: \n",
      "Model Memory Usage: 747.57 MB\n"
     ]
    }
   ],
   "source": [
    "calculate_memory(train_loader, test_loader, output_size)"
   ]
  },
  {
   "cell_type": "code",
   "execution_count": null,
   "id": "c2d35695",
   "metadata": {},
   "outputs": [],
   "source": []
  }
 ],
 "metadata": {
  "kernelspec": {
   "display_name": "Python [conda env:retina_embeddings_v0_0_1]",
   "language": "python",
   "name": "conda-env-retina_embeddings_v0_0_1-py"
  },
  "language_info": {
   "codemirror_mode": {
    "name": "ipython",
    "version": 3
   },
   "file_extension": ".py",
   "mimetype": "text/x-python",
   "name": "python",
   "nbconvert_exporter": "python",
   "pygments_lexer": "ipython3",
   "version": "3.8.17"
  }
 },
 "nbformat": 4,
 "nbformat_minor": 5
}
