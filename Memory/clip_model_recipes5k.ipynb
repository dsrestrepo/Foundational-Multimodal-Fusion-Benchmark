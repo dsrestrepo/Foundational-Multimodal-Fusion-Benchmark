{
 "cells": [
  {
   "cell_type": "markdown",
   "id": "42f23fcc",
   "metadata": {},
   "source": [
    "### Recipes 5k\n",
    "\n",
    "* [Dataset](http://www.ub.edu/cvub/recipes5k/)\n",
    "\n",
    "* [Original Paper](https://www.researchgate.net/publication/318729535_Food_Ingredients_Recognition_through_Multi-label_Learning)"
   ]
  },
  {
   "cell_type": "code",
   "execution_count": 1,
   "id": "b88d334a",
   "metadata": {},
   "outputs": [
    {
     "name": "stdout",
     "output_type": "stream",
     "text": [
      "/home/datascience/Data Fusion\n"
     ]
    }
   ],
   "source": [
    "%cd .."
   ]
  },
  {
   "cell_type": "markdown",
   "id": "4c3cdc12",
   "metadata": {},
   "source": [
    "### Setup Environment:"
   ]
  },
  {
   "cell_type": "code",
   "execution_count": 2,
   "id": "49c95665",
   "metadata": {},
   "outputs": [],
   "source": [
    "import os\n",
    "import pandas as pd\n",
    "\n",
    "from src.classifiers import preprocess_data, process_labels,split_data\n",
    "\n",
    "from src.classifiers import VQADataset\n",
    "from torch.utils.data import DataLoader\n",
    "\n",
    "from src.classifiers_cpu_metrics import calculate_memory"
   ]
  },
  {
   "cell_type": "code",
   "execution_count": 3,
   "id": "82b56c14",
   "metadata": {},
   "outputs": [],
   "source": [
    "PATH = 'Embeddings_vlm/Recipes5k/'\n",
    "FILE = 'embeddings_clip.csv'\n",
    "\n",
    "FILE_PATH = os.path.join(PATH, FILE)"
   ]
  },
  {
   "cell_type": "markdown",
   "id": "caa453a0",
   "metadata": {},
   "source": [
    "## Get data"
   ]
  },
  {
   "cell_type": "code",
   "execution_count": 4,
   "id": "8974e4d9",
   "metadata": {},
   "outputs": [
    {
     "data": {
      "text/html": [
       "<div>\n",
       "<style scoped>\n",
       "    .dataframe tbody tr th:only-of-type {\n",
       "        vertical-align: middle;\n",
       "    }\n",
       "\n",
       "    .dataframe tbody tr th {\n",
       "        vertical-align: top;\n",
       "    }\n",
       "\n",
       "    .dataframe thead th {\n",
       "        text-align: right;\n",
       "    }\n",
       "</style>\n",
       "<table border=\"1\" class=\"dataframe\">\n",
       "  <thead>\n",
       "    <tr style=\"text-align: right;\">\n",
       "      <th></th>\n",
       "      <th>class</th>\n",
       "      <th>split</th>\n",
       "      <th>ingredients</th>\n",
       "      <th>image_embedding_0</th>\n",
       "      <th>image_embedding_1</th>\n",
       "      <th>image_embedding_2</th>\n",
       "      <th>image_embedding_3</th>\n",
       "      <th>image_embedding_4</th>\n",
       "      <th>image_embedding_5</th>\n",
       "      <th>image_embedding_6</th>\n",
       "      <th>...</th>\n",
       "      <th>text_embedding_502</th>\n",
       "      <th>text_embedding_503</th>\n",
       "      <th>text_embedding_504</th>\n",
       "      <th>text_embedding_505</th>\n",
       "      <th>text_embedding_506</th>\n",
       "      <th>text_embedding_507</th>\n",
       "      <th>text_embedding_508</th>\n",
       "      <th>text_embedding_509</th>\n",
       "      <th>text_embedding_510</th>\n",
       "      <th>text_embedding_511</th>\n",
       "    </tr>\n",
       "  </thead>\n",
       "  <tbody>\n",
       "    <tr>\n",
       "      <th>0</th>\n",
       "      <td>onion_rings</td>\n",
       "      <td>val</td>\n",
       "      <td>yellow onion,flour,baking powder,seasoning sal...</td>\n",
       "      <td>-0.019941</td>\n",
       "      <td>0.046292</td>\n",
       "      <td>0.028163</td>\n",
       "      <td>0.013430</td>\n",
       "      <td>0.014544</td>\n",
       "      <td>0.018990</td>\n",
       "      <td>0.053650</td>\n",
       "      <td>...</td>\n",
       "      <td>-0.039769</td>\n",
       "      <td>0.010437</td>\n",
       "      <td>0.027736</td>\n",
       "      <td>0.016436</td>\n",
       "      <td>-0.014798</td>\n",
       "      <td>-0.043962</td>\n",
       "      <td>0.084459</td>\n",
       "      <td>0.100879</td>\n",
       "      <td>-0.040810</td>\n",
       "      <td>-0.026944</td>\n",
       "    </tr>\n",
       "    <tr>\n",
       "      <th>1</th>\n",
       "      <td>onion_rings</td>\n",
       "      <td>train</td>\n",
       "      <td>white onion,panko,cornmeal,ground paprika,onio...</td>\n",
       "      <td>0.020726</td>\n",
       "      <td>0.047324</td>\n",
       "      <td>-0.009278</td>\n",
       "      <td>0.030066</td>\n",
       "      <td>0.009650</td>\n",
       "      <td>-0.022774</td>\n",
       "      <td>-0.009808</td>\n",
       "      <td>...</td>\n",
       "      <td>-0.028915</td>\n",
       "      <td>0.007126</td>\n",
       "      <td>0.033126</td>\n",
       "      <td>0.014813</td>\n",
       "      <td>0.006720</td>\n",
       "      <td>-0.033571</td>\n",
       "      <td>0.069636</td>\n",
       "      <td>0.070107</td>\n",
       "      <td>-0.047277</td>\n",
       "      <td>-0.035330</td>\n",
       "    </tr>\n",
       "    <tr>\n",
       "      <th>2</th>\n",
       "      <td>onion_rings</td>\n",
       "      <td>train</td>\n",
       "      <td>yellow onion,all-purpose flour,baking powder,l...</td>\n",
       "      <td>-0.003352</td>\n",
       "      <td>0.036595</td>\n",
       "      <td>-0.010682</td>\n",
       "      <td>-0.004273</td>\n",
       "      <td>0.002105</td>\n",
       "      <td>0.032441</td>\n",
       "      <td>0.023189</td>\n",
       "      <td>...</td>\n",
       "      <td>0.004127</td>\n",
       "      <td>0.042316</td>\n",
       "      <td>0.007637</td>\n",
       "      <td>0.010198</td>\n",
       "      <td>-0.027701</td>\n",
       "      <td>-0.021962</td>\n",
       "      <td>0.090450</td>\n",
       "      <td>0.056628</td>\n",
       "      <td>-0.020075</td>\n",
       "      <td>-0.020748</td>\n",
       "    </tr>\n",
       "    <tr>\n",
       "      <th>3</th>\n",
       "      <td>onion_rings</td>\n",
       "      <td>train</td>\n",
       "      <td>oil,pancake mix,spanish onion</td>\n",
       "      <td>-0.038810</td>\n",
       "      <td>0.060136</td>\n",
       "      <td>0.016056</td>\n",
       "      <td>0.013183</td>\n",
       "      <td>-0.003867</td>\n",
       "      <td>0.000385</td>\n",
       "      <td>0.018509</td>\n",
       "      <td>...</td>\n",
       "      <td>-0.009147</td>\n",
       "      <td>0.037166</td>\n",
       "      <td>0.001721</td>\n",
       "      <td>-0.013780</td>\n",
       "      <td>-0.009100</td>\n",
       "      <td>-0.031707</td>\n",
       "      <td>0.064553</td>\n",
       "      <td>0.031182</td>\n",
       "      <td>0.002685</td>\n",
       "      <td>-0.022401</td>\n",
       "    </tr>\n",
       "    <tr>\n",
       "      <th>4</th>\n",
       "      <td>onion_rings</td>\n",
       "      <td>train</td>\n",
       "      <td>peanut oil,sweet onion,flour,eggs,celery salt,...</td>\n",
       "      <td>-0.012332</td>\n",
       "      <td>0.064609</td>\n",
       "      <td>-0.033546</td>\n",
       "      <td>-0.007815</td>\n",
       "      <td>0.015096</td>\n",
       "      <td>0.002560</td>\n",
       "      <td>0.014974</td>\n",
       "      <td>...</td>\n",
       "      <td>-0.009159</td>\n",
       "      <td>0.021923</td>\n",
       "      <td>0.001067</td>\n",
       "      <td>0.040090</td>\n",
       "      <td>-0.018709</td>\n",
       "      <td>-0.020262</td>\n",
       "      <td>0.047931</td>\n",
       "      <td>0.071678</td>\n",
       "      <td>-0.000059</td>\n",
       "      <td>-0.041866</td>\n",
       "    </tr>\n",
       "  </tbody>\n",
       "</table>\n",
       "<p>5 rows × 1027 columns</p>\n",
       "</div>"
      ],
      "text/plain": [
       "         class  split                                        ingredients  \\\n",
       "0  onion_rings    val  yellow onion,flour,baking powder,seasoning sal...   \n",
       "1  onion_rings  train  white onion,panko,cornmeal,ground paprika,onio...   \n",
       "2  onion_rings  train  yellow onion,all-purpose flour,baking powder,l...   \n",
       "3  onion_rings  train                      oil,pancake mix,spanish onion   \n",
       "4  onion_rings  train  peanut oil,sweet onion,flour,eggs,celery salt,...   \n",
       "\n",
       "   image_embedding_0  image_embedding_1  image_embedding_2  image_embedding_3  \\\n",
       "0          -0.019941           0.046292           0.028163           0.013430   \n",
       "1           0.020726           0.047324          -0.009278           0.030066   \n",
       "2          -0.003352           0.036595          -0.010682          -0.004273   \n",
       "3          -0.038810           0.060136           0.016056           0.013183   \n",
       "4          -0.012332           0.064609          -0.033546          -0.007815   \n",
       "\n",
       "   image_embedding_4  image_embedding_5  image_embedding_6  ...  \\\n",
       "0           0.014544           0.018990           0.053650  ...   \n",
       "1           0.009650          -0.022774          -0.009808  ...   \n",
       "2           0.002105           0.032441           0.023189  ...   \n",
       "3          -0.003867           0.000385           0.018509  ...   \n",
       "4           0.015096           0.002560           0.014974  ...   \n",
       "\n",
       "   text_embedding_502  text_embedding_503  text_embedding_504  \\\n",
       "0           -0.039769            0.010437            0.027736   \n",
       "1           -0.028915            0.007126            0.033126   \n",
       "2            0.004127            0.042316            0.007637   \n",
       "3           -0.009147            0.037166            0.001721   \n",
       "4           -0.009159            0.021923            0.001067   \n",
       "\n",
       "   text_embedding_505  text_embedding_506  text_embedding_507  \\\n",
       "0            0.016436           -0.014798           -0.043962   \n",
       "1            0.014813            0.006720           -0.033571   \n",
       "2            0.010198           -0.027701           -0.021962   \n",
       "3           -0.013780           -0.009100           -0.031707   \n",
       "4            0.040090           -0.018709           -0.020262   \n",
       "\n",
       "   text_embedding_508  text_embedding_509  text_embedding_510  \\\n",
       "0            0.084459            0.100879           -0.040810   \n",
       "1            0.069636            0.070107           -0.047277   \n",
       "2            0.090450            0.056628           -0.020075   \n",
       "3            0.064553            0.031182            0.002685   \n",
       "4            0.047931            0.071678           -0.000059   \n",
       "\n",
       "   text_embedding_511  \n",
       "0           -0.026944  \n",
       "1           -0.035330  \n",
       "2           -0.020748  \n",
       "3           -0.022401  \n",
       "4           -0.041866  \n",
       "\n",
       "[5 rows x 1027 columns]"
      ]
     },
     "execution_count": 4,
     "metadata": {},
     "output_type": "execute_result"
    }
   ],
   "source": [
    "df = pd.read_csv(FILE_PATH)\n",
    "df.drop(columns=['image'], inplace=True)\n",
    "df.head()"
   ]
  },
  {
   "cell_type": "markdown",
   "id": "8bb134cb",
   "metadata": {},
   "source": [
    "## Data Perparation"
   ]
  },
  {
   "cell_type": "code",
   "execution_count": 5,
   "id": "ae07f38b",
   "metadata": {},
   "outputs": [
    {
     "name": "stdout",
     "output_type": "stream",
     "text": [
      "Train Shape: (3409, 1027)\n",
      "Test Shape: (783, 1027)\n"
     ]
    }
   ],
   "source": [
    "# Split the data\n",
    "train_df, test_df = split_data(df)\n",
    "\n",
    "# Select features and labels vectors\n",
    "text_columns = [column for column in df.columns if 'text' in column] #[f'text_{i}']\n",
    "image_columns = [column for column in df.columns if 'image' in column] #[f'image_{i}']\n",
    "label_columns = 'class'\n",
    "\n",
    "\n",
    "# Process and one-hot encode labels for training set\n",
    "train_labels, mlb, train_columns = process_labels(train_df, col=label_columns)\n",
    "test_labels = process_labels(test_df, col=label_columns, train_columns=train_columns)\n",
    "\n",
    "\n",
    "train_dataset = VQADataset(train_df, text_columns, image_columns, label_columns, mlb, train_columns)\n",
    "test_dataset = VQADataset(test_df, text_columns, image_columns, label_columns, mlb, train_columns)\n",
    "\n",
    "\n",
    "train_loader = DataLoader(train_dataset, batch_size=64, shuffle=True, num_workers=2)\n",
    "test_loader = DataLoader(test_dataset, batch_size=64, shuffle=False, num_workers=2)"
   ]
  },
  {
   "cell_type": "markdown",
   "id": "77e3d1fa",
   "metadata": {},
   "source": [
    "### Models"
   ]
  },
  {
   "cell_type": "code",
   "execution_count": 6,
   "id": "88692dda",
   "metadata": {},
   "outputs": [],
   "source": [
    "text_input_size = len(text_columns)\n",
    "image_input_size = len(image_columns)\n",
    "output_size = len(mlb.classes_)\n",
    "multilabel = False"
   ]
  },
  {
   "cell_type": "code",
   "execution_count": 7,
   "id": "39ffe4db",
   "metadata": {},
   "outputs": [
    {
     "name": "stdout",
     "output_type": "stream",
     "text": [
      "Early fusion:\n",
      "Average Memory per Batch in Train: 0.27 MB\n",
      "Total Memory Usage per Epoch Train: 14.63 MB (excluding model parameters)\n",
      "Test:\n",
      "Average Memory per Batch in Test: 0.06 MB\n",
      "Total Memory Usage per Epoch Test: 0.81 MB (excluding model parameters)\n",
      "Model: \n",
      "Model Memory Usage: 0.55 MB\n",
      "\n",
      "Late fusion:\n",
      "Average Memory per Batch in Train: 0.27 MB\n",
      "Total Memory Usage per Epoch Train: 14.63 MB (excluding model parameters)\n",
      "Test:\n",
      "Average Memory per Batch in Test: 0.06 MB\n",
      "Total Memory Usage per Epoch Test: 0.81 MB (excluding model parameters)\n",
      "Model: \n",
      "Model Memory Usage: 0.30 MB\n"
     ]
    }
   ],
   "source": [
    "calculate_memory(train_loader, test_loader, text_input_size, image_input_size, output_size)"
   ]
  },
  {
   "cell_type": "code",
   "execution_count": null,
   "id": "9e990dfc",
   "metadata": {},
   "outputs": [],
   "source": []
  }
 ],
 "metadata": {
  "kernelspec": {
   "display_name": "Python [conda env:retina_embeddings_v0_0_1]",
   "language": "python",
   "name": "conda-env-retina_embeddings_v0_0_1-py"
  },
  "language_info": {
   "codemirror_mode": {
    "name": "ipython",
    "version": 3
   },
   "file_extension": ".py",
   "mimetype": "text/x-python",
   "name": "python",
   "nbconvert_exporter": "python",
   "pygments_lexer": "ipython3",
   "version": "3.8.17"
  }
 },
 "nbformat": 4,
 "nbformat_minor": 5
}
