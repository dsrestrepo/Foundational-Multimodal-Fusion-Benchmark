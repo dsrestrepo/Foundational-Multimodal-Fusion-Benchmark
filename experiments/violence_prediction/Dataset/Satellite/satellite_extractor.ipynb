{
 "cells": [
  {
   "cell_type": "markdown",
   "metadata": {
    "id": "h4w-mP8UqPcN"
   },
   "source": [
    "# Setup"
   ]
  },
  {
   "cell_type": "code",
   "execution_count": 1,
   "metadata": {
    "id": "vG9uWOLVf1V2"
   },
   "outputs": [],
   "source": [
    "#import shutil\n",
    "#!shutil.rmtree('satellite.extractor')\n",
    "#!git clone https://github.com/sebasmos/satellite.extractor.git\n",
    "\n",
    "# Install dependencies\n",
    "#%cd satellite.extractor/\n",
    "\n",
    "#! python setup.py build\n",
    "#! python setup.py install\n",
    "#! pip install -r requirements.txt\n",
    "\n",
    "#%cd .."
   ]
  },
  {
   "cell_type": "markdown",
   "metadata": {
    "id": "Hgme7DhrqSDC"
   },
   "source": [
    "# Import functions"
   ]
  },
  {
   "cell_type": "code",
   "execution_count": 2,
   "metadata": {
    "colab": {
     "base_uri": "https://localhost:8080/"
    },
    "executionInfo": {
     "elapsed": 13690,
     "status": "ok",
     "timestamp": 1695485318033,
     "user": {
      "displayName": "David Restrepo",
      "userId": "12353262747397966217"
     },
     "user_tz": 300
    },
    "id": "Wj2puvbgpg-q",
    "outputId": "9fabe10c-2ef7-4367-9cfb-2b6b1f626171"
   },
   "outputs": [],
   "source": [
    "import pandas as pd\n",
    "import glob\n",
    "import json\n",
    "import datetime as dt\n",
    "from urllib.parse import unquote\n",
    "from bs4 import BeautifulSoup\n",
    "import os\n",
    "import shutil\n",
    "from sentinelhub import SHConfig\n",
    "import datetime\n",
    "import numpy as np\n",
    "import matplotlib.pyplot as plt\n",
    "import sys\n",
    "from datetime import timedelta\n",
    "sys.path.insert(0,'..')\n",
    "from sentinelhub import MimeType, CRS, BBox, SentinelHubRequest, SentinelHubDownloadClient, DataCollection, bbox_to_dimensions, DownloadRequest\n",
    "from epiweeks import Week, Year\n",
    "import epiweeks\n",
    "from datetime import date\n",
    "import glob, shutil"
   ]
  },
  {
   "cell_type": "code",
   "execution_count": 3,
   "metadata": {
    "colab": {
     "base_uri": "https://localhost:8080/"
    },
    "executionInfo": {
     "elapsed": 14,
     "status": "ok",
     "timestamp": 1695485318035,
     "user": {
      "displayName": "David Restrepo",
      "userId": "12353262747397966217"
     },
     "user_tz": 300
    },
    "id": "uLJcJApxc5-b",
    "outputId": "968a22c2-367f-4a26-abe0-1b879c069a50"
   },
   "outputs": [
    {
     "name": "stdout",
     "output_type": "stream",
     "text": [
      "Coordinates  satellite.extractor  satellite_extractor.ipynb\n"
     ]
    }
   ],
   "source": [
    "!ls"
   ]
  },
  {
   "cell_type": "code",
   "execution_count": 4,
   "metadata": {
    "colab": {
     "base_uri": "https://localhost:8080/"
    },
    "executionInfo": {
     "elapsed": 318,
     "status": "ok",
     "timestamp": 1695485318346,
     "user": {
      "displayName": "David Restrepo",
      "userId": "12353262747397966217"
     },
     "user_tz": 300
    },
    "id": "WJxml9erp-47",
    "outputId": "80b1d417-b7a9-4e64-e5c8-1baf1804ef88"
   },
   "outputs": [
    {
     "name": "stdout",
     "output_type": "stream",
     "text": [
      "/home/datascience/Data Fusion/experiments/violence_prediction/Dataset/Satellite/satellite.extractor\n",
      "data\t distributions.egg-info  linux\t    README.md\t      scripts\tsrc\n",
      "DATASET  __init__.py\t\t notebooks  requirements.txt  setup.py\n"
     ]
    }
   ],
   "source": [
    "%cd satellite.extractor\n",
    "!ls"
   ]
  },
  {
   "cell_type": "code",
   "execution_count": 5,
   "metadata": {
    "id": "KuTZx2dhdEr4"
   },
   "outputs": [],
   "source": [
    "from linux.request_multiple_images_linux import download_multiple_images"
   ]
  },
  {
   "cell_type": "code",
   "execution_count": 6,
   "metadata": {
    "colab": {
     "base_uri": "https://localhost:8080/"
    },
    "executionInfo": {
     "elapsed": 7,
     "status": "ok",
     "timestamp": 1695485318812,
     "user": {
      "displayName": "David Restrepo",
      "userId": "12353262747397966217"
     },
     "user_tz": 300
    },
    "id": "GN8ZmULbGLt7",
    "outputId": "c7e6074f-ab4a-4f45-cd8b-77a243f33119"
   },
   "outputs": [
    {
     "name": "stdout",
     "output_type": "stream",
     "text": [
      "/home/datascience/Data Fusion/experiments/violence_prediction/Dataset/Satellite/satellite.extractor\n"
     ]
    }
   ],
   "source": [
    "!pwd"
   ]
  },
  {
   "cell_type": "code",
   "execution_count": 7,
   "metadata": {
    "colab": {
     "base_uri": "https://localhost:8080/"
    },
    "executionInfo": {
     "elapsed": 9,
     "status": "ok",
     "timestamp": 1695485319043,
     "user": {
      "displayName": "David Restrepo",
      "userId": "12353262747397966217"
     },
     "user_tz": 300
    },
    "id": "Nf5IANjSNvh2",
    "outputId": "6e0ddd79-bd4e-4dc1-df53-e99aed820520"
   },
   "outputs": [
    {
     "name": "stdout",
     "output_type": "stream",
     "text": [
      "data\t distributions.egg-info  linux\t    README.md\t      scripts\tsrc\n",
      "DATASET  __init__.py\t\t notebooks  requirements.txt  setup.py\n"
     ]
    }
   ],
   "source": [
    "!ls"
   ]
  },
  {
   "cell_type": "markdown",
   "metadata": {
    "id": "juc_tnHTNv49"
   },
   "source": [
    "# 10 cities"
   ]
  },
  {
   "cell_type": "code",
   "execution_count": 8,
   "metadata": {
    "id": "xVVeRy0quUHX"
   },
   "outputs": [],
   "source": [
    "from dotenv import load_dotenv\n",
    "\n",
    "load_dotenv()\n",
    "CLIENT_ID = os.getenv('CLIENT_ID')\n",
    "CLIENT_SECRET = os.getenv('CLIENT_SECRET')"
   ]
  },
  {
   "cell_type": "code",
   "execution_count": 9,
   "metadata": {
    "id": "DJcAgaIugnv4"
   },
   "outputs": [],
   "source": [
    "path = '../Coordinates/'"
   ]
  },
  {
   "cell_type": "code",
   "execution_count": 10,
   "metadata": {
    "colab": {
     "base_uri": "https://localhost:8080/"
    },
    "executionInfo": {
     "elapsed": 6,
     "status": "ok",
     "timestamp": 1695485319044,
     "user": {
      "displayName": "David Restrepo",
      "userId": "12353262747397966217"
     },
     "user_tz": 300
    },
    "id": "SxCwW-q_fCTt",
    "outputId": "22aa6ec7-904b-4142-936d-0b2943916566"
   },
   "outputs": [
    {
     "data": {
      "text/plain": [
       "{'Soacha': [-74.23732262397668,\n",
       "  4.55507175585493,\n",
       "  -74.1914044429888,\n",
       "  4.601137096835792],\n",
       " 'Villavicencio': [-73.65230934863477,\n",
       "  4.119471755882142,\n",
       "  -73.60641777661736,\n",
       "  4.165537096835791],\n",
       " 'Bucaramanga': [-73.13912693310193,\n",
       "  7.09557175569546,\n",
       "  -73.09299970745168,\n",
       "  7.141637096835794]}"
      ]
     },
     "execution_count": 10,
     "metadata": {},
     "output_type": "execute_result"
    }
   ],
   "source": [
    "dic = pd.read_csv(path + 'coordinates512_top_10_municipalities.csv')\n",
    "dic = dict(zip(dic['Municipality'], dic.square))\n",
    "# Convert the values to lists\n",
    "dic = {key: [float(x) for x in value.strip('[]').split(', ')] for key, value in dic.items()}\n",
    "\n",
    "# List of cities to remove (Just to test)\n",
    "cities_to_remove = ['Ibagué', 'Cúcuta',      'Medellín', 'Cali', 'Pasto', 'Barranquilla', 'Popayán', 'Soacha', 'Villavicencio', 'Bucaramanga',]\n",
    "\n",
    "# Remove the cities\n",
    "for city in cities_to_remove:\n",
    "    if city in dic:\n",
    "        del dic[city]\n",
    "\n",
    "dic"
   ]
  },
  {
   "cell_type": "code",
   "execution_count": 11,
   "metadata": {
    "colab": {
     "base_uri": "https://localhost:8080/"
    },
    "executionInfo": {
     "elapsed": 269,
     "status": "ok",
     "timestamp": 1695414031505,
     "user": {
      "displayName": "David Restrepo",
      "userId": "12353262747397966217"
     },
     "user_tz": 300
    },
    "id": "XeWvK2orOcN5",
    "outputId": "efb4591d-0be7-4eaa-82c0-5dbb34849a70"
   },
   "outputs": [
    {
     "name": "stdout",
     "output_type": "stream",
     "text": [
      "Number of cities: 3\n",
      "Range: [2016, 2017, 2018, 2019, 2020, 2021, 2022]\n",
      "Weeks 2015: [44, 45, 46, 47, 48, 49, 50, 51, 52]\n"
     ]
    }
   ],
   "source": [
    "img_format = \"tiff\"\n",
    "\n",
    "# Define the range of years\n",
    "initial_year = 2016\n",
    "end_year = 2023\n",
    "years = list(range(initial_year,end_year))\n",
    "first_2015_week = 44\n",
    "\n",
    "start_2015 = Week(initial_year,first_2015_week).startdate()\n",
    "\n",
    "weeks_2015 = list(range(first_2015_week, 53))\n",
    "\n",
    "#weeks = list(range(1,53))\n",
    "weeks = {}\n",
    "# Iterate through the years and calculate the number of epiweeks\n",
    "for year in range(initial_year, end_year):\n",
    "    num_epiweeks = 0\n",
    "    for week_num in range(1, 54):\n",
    "        try:\n",
    "            epiweek = epiweeks.Week(year, week_num)\n",
    "            num_epiweeks += 1\n",
    "        except ValueError:\n",
    "            # This week doesn't exist for this year\n",
    "            pass\n",
    "    weeks[year] = list(range(1, num_epiweeks + 1))\n",
    "\n",
    "root_images = \"/data/\"\n",
    "# Get the absolute path of the current working directory\n",
    "current_directory = os.getcwd()\n",
    "\n",
    "temporal_path = os.path.abspath(os.path.join(current_directory, root_images[1:]))\n",
    "\n",
    "if not os.path.isdir(temporal_path):\n",
    "    os.makedirs(temporal_path)\n",
    "    print(\"Creating temporal data folder\")\n",
    "\n",
    "print(f\"Number of cities: {len(dic)}\")\n",
    "print(f\"Range: {years}\")\n",
    "print(f\"Weeks 2015: {weeks_2015}\")"
   ]
  },
  {
   "cell_type": "code",
   "execution_count": 12,
   "metadata": {
    "id": "EvJ3yi_XmCQl"
   },
   "outputs": [],
   "source": [
    "def get_folder_ID(root_images, img_format):\n",
    "\n",
    "    #print(root_images, img_format)\n",
    "\n",
    "    walker = \".\" + root_images\n",
    "\n",
    "    for root, dirs, files in os.walk(walker, topdown=True):\n",
    "        for name in files:\n",
    "            path = os.path.join(root, name)\n",
    "            if \"response\" in path:\n",
    "\n",
    "                folder_path = path.replace(\"/\" + \"response.\" + img_format, \"\")\n",
    "\n",
    "    return folder_path"
   ]
  },
  {
   "cell_type": "code",
   "execution_count": 13,
   "metadata": {
    "id": "1trklx0ipIPf"
   },
   "outputs": [],
   "source": [
    "def get_request_individual(request_file, img_format):\n",
    "    with open(request_file, 'r') as req:\n",
    "        print(request_file)\n",
    "        json_decode = json.load(req)\n",
    "        dataFilter = json_decode['request'][\"payload\"][\"input\"][\"data\"][0]\n",
    "        timeRanges = dataFilter[\"dataFilter\"][\"timeRange\"]\n",
    "        start = timeRanges[\"from\"].split(\"T\")[0]\n",
    "        end = timeRanges[\"to\"].split(\"T\")[0]\n",
    "        time_stamp = start + \"_to_\" + end # best image calculated on this interval\n",
    "        name_image = \"image_\" +   start\n",
    "        print(name_image)\n",
    "        data = {\n",
    "            \"start\": start,\n",
    "            \"end\": end,\n",
    "            \"time_stamp\": time_stamp,\n",
    "            \"url\": request_file,\n",
    "            }\n",
    "\n",
    "        df = pd.DataFrame(data, index =['date'])\n",
    "\n",
    "        # Update name of files using JSON timestamp filter\n",
    "        response_img = request_file.split(\"request.json\")[0] + \"response.tiff\"# + \".\"+ img_format\n",
    "        image_path = os.path.join(response_img).replace('response', name_image )\n",
    "        print(\"{0} renamed to {1}\".format(response_img, image_path))\n",
    "        shutil.move(response_img, image_path)\n",
    "\n",
    "        return df"
   ]
  },
  {
   "cell_type": "code",
   "execution_count": 14,
   "metadata": {
    "id": "RvELXfQHPpxG"
   },
   "outputs": [],
   "source": [
    "def get_images(coordenates, years, weeks, weeks_2015, img_format, root_images, CLIENT_ID, CLIENT_SECRET):\n",
    "    # Download data\n",
    "    folder_path = \"\"\n",
    "    for year in years:\n",
    "        if year == 2015:\n",
    "            for week in weeks_2015:\n",
    "                print(f\"Year: {year} - week: {week}\")\n",
    "                # Set starting date for given year based on\n",
    "                start = Week(year, week).startdate()\n",
    "                # Download individual images\n",
    "                download_multiple_images(coordenates, start, str(year), CLIENT_ID, CLIENT_SECRET)\n",
    "                # Obtain ID as the last-obtained response.tiff file, \"real-time\"\n",
    "                folder_path = get_folder_ID(root_images, img_format)\n",
    "                # Rename image based on JSON timestamp filter\n",
    "                dates = get_request_individual(folder_path+\"/request.json\", img_format)\n",
    "                # Clean folders which contain black images\n",
    "                path_to_blank_ids  = \".\" + root_images + \"/\" + str(year) + \"/*/*\"\n",
    "                ids = glob.glob(path_to_blank_ids)\n",
    "                for idx in ids:\n",
    "                    if \"response\" in idx:\n",
    "                        folder_path = idx.replace(\"/\" + \"response.\" + img_format, \"\")\n",
    "                        #print(folder_path)\n",
    "                        shutil.rmtree(folder_path)\n",
    "                ids = glob.glob(path_to_blank_ids)\n",
    "                #print(\"ids available: \", ids)\n",
    "\n",
    "                #flag =  [idx if (\"response\" in idx) for idx in ids]\n",
    "        #elif year ==2016:\n",
    "        else:\n",
    "            for week in weeks[year]:\n",
    "                print(f\"Year: {year} - week: {week}\")\n",
    "                # Set starting date for given year based on\n",
    "                start = Week(year, week).startdate()\n",
    "                # Download individual images\n",
    "                download_multiple_images(coordenates, start, str(year), CLIENT_ID, CLIENT_SECRET)\n",
    "                # Obtain ID as the last-obtained response.tiff file, \"real-time\"\n",
    "                folder_path = get_folder_ID(root_images, img_format)\n",
    "                # Rename image based on JSON timestamp filter\n",
    "                dates = get_request_individual(folder_path+\"/request.json\", img_format)\n",
    "                # Clean folders which contain black images\n",
    "                path_to_blank_ids  = \".\" + root_images + \"/\" + str(year) + \"/*/*\"\n",
    "                ids = glob.glob(path_to_blank_ids)\n",
    "                for idx in ids:\n",
    "                    if \"response\" in idx:\n",
    "                        folder_path = idx.replace(\"/\" + \"response.\" + img_format, \"\")\n",
    "                        print(folder_path)\n",
    "                        shutil.rmtree(folder_path)\n",
    "                ids = glob.glob(path_to_blank_ids)\n"
   ]
  },
  {
   "cell_type": "code",
   "execution_count": null,
   "metadata": {
    "colab": {
     "base_uri": "https://localhost:8080/",
     "height": 988
    },
    "executionInfo": {
     "elapsed": 13761,
     "status": "error",
     "timestamp": 1695416896918,
     "user": {
      "displayName": "David Restrepo",
      "userId": "12353262747397966217"
     },
     "user_tz": 300
    },
    "id": "LGm29oz3OiZZ",
    "outputId": "0eb70f35-18bb-4d5f-b0c0-51d0b19cf018"
   },
   "outputs": [
    {
     "name": "stdout",
     "output_type": "stream",
     "text": [
      "Clean the temporal data folder\n",
      "City: Soacha - Coordinates: [-74.23732262397668, 4.55507175585493, -74.1914044429888, 4.601137096835792]\n",
      "Year: 2016 - week: 1\n",
      "Requested week slot: 01/03/2016 - 01/10/2016 \n",
      "Ended downloading\n",
      "./data/2016/51da8e40584bb76d3e4a83162cd2302e/request.json\n",
      "image_2016-01-03\n",
      "./data/2016/51da8e40584bb76d3e4a83162cd2302e/response.tiff renamed to ./data/2016/51da8e40584bb76d3e4a83162cd2302e/image_2016-01-03.tiff\n",
      "Year: 2016 - week: 2\n",
      "Requested week slot: 01/10/2016 - 01/17/2016 \n",
      "Ended downloading\n",
      "./data/2016/3a55c256b892f8d8d70f4157f9db1ba6/request.json\n",
      "image_2016-01-10\n",
      "./data/2016/3a55c256b892f8d8d70f4157f9db1ba6/response.tiff renamed to ./data/2016/3a55c256b892f8d8d70f4157f9db1ba6/image_2016-01-10.tiff\n",
      "Year: 2016 - week: 3\n",
      "Requested week slot: 01/17/2016 - 01/24/2016 \n",
      "Ended downloading\n",
      "./data/2016/c226f6c3acdccd0d564eafcb896610c8/request.json\n",
      "image_2016-01-17\n",
      "./data/2016/c226f6c3acdccd0d564eafcb896610c8/response.tiff renamed to ./data/2016/c226f6c3acdccd0d564eafcb896610c8/image_2016-01-17.tiff\n",
      "Year: 2016 - week: 4\n",
      "Requested week slot: 01/24/2016 - 01/31/2016 \n",
      "Ended downloading\n",
      "./data/2016/5426c9f2d7b38e296e32075e1a4ee4f3/request.json\n",
      "image_2016-01-24\n",
      "./data/2016/5426c9f2d7b38e296e32075e1a4ee4f3/response.tiff renamed to ./data/2016/5426c9f2d7b38e296e32075e1a4ee4f3/image_2016-01-24.tiff\n",
      "Year: 2016 - week: 5\n",
      "Requested week slot: 01/31/2016 - 02/07/2016 \n",
      "Ended downloading\n",
      "Image empty:  0\n",
      "This image is being replaced..\n",
      "This image is being replaced..\n",
      "Slot corrected to:  [(datetime.date(2016, 1, 31), datetime.date(2016, 2, 9))]\n",
      "./data/2016/41b7d5544b72eeffa12bee646fd9047e/request.json\n",
      "image_2016-01-31\n",
      "./data/2016/41b7d5544b72eeffa12bee646fd9047e/response.tiff renamed to ./data/2016/41b7d5544b72eeffa12bee646fd9047e/image_2016-01-31.tiff\n",
      "./data//2016/6d438df49fbcc18bf39f55bf9503a8ee\n",
      "./data//2016/d4f82ff5e3a87b5bce5b015ab20cb2a5\n",
      "Year: 2016 - week: 6\n",
      "Requested week slot: 02/07/2016 - 02/14/2016 \n",
      "Ended downloading\n",
      "./data/2016/24bf60be2e53ad9f8f833d37972430d4/request.json\n",
      "image_2016-02-07\n",
      "./data/2016/24bf60be2e53ad9f8f833d37972430d4/response.tiff renamed to ./data/2016/24bf60be2e53ad9f8f833d37972430d4/image_2016-02-07.tiff\n",
      "Year: 2016 - week: 7\n",
      "Requested week slot: 02/14/2016 - 02/21/2016 \n",
      "Ended downloading\n",
      "./data/2016/2bf2b3d3b25a0fbd03c56e6b457635a5/request.json\n",
      "image_2016-02-14\n",
      "./data/2016/2bf2b3d3b25a0fbd03c56e6b457635a5/response.tiff renamed to ./data/2016/2bf2b3d3b25a0fbd03c56e6b457635a5/image_2016-02-14.tiff\n",
      "Year: 2016 - week: 8\n",
      "Requested week slot: 02/21/2016 - 02/28/2016 \n",
      "Ended downloading\n",
      "Image empty:  0\n",
      "This image is being replaced..\n",
      "Slot corrected to:  [(datetime.date(2016, 2, 21), datetime.date(2016, 2, 29))]\n",
      "./data/2016/6705b014bb3906ba21c49ec35017519f/request.json\n",
      "image_2016-02-21\n",
      "./data/2016/6705b014bb3906ba21c49ec35017519f/response.tiff renamed to ./data/2016/6705b014bb3906ba21c49ec35017519f/image_2016-02-21.tiff\n",
      "./data//2016/397565590689e5b0de348b902597ee02\n",
      "Year: 2016 - week: 9\n",
      "Requested week slot: 02/28/2016 - 03/06/2016 \n",
      "Ended downloading\n",
      "./data/2016/efe44de98068cf8a980ac99e00bee102/request.json\n",
      "image_2016-02-28\n",
      "./data/2016/efe44de98068cf8a980ac99e00bee102/response.tiff renamed to ./data/2016/efe44de98068cf8a980ac99e00bee102/image_2016-02-28.tiff\n",
      "Year: 2016 - week: 10\n",
      "Requested week slot: 03/06/2016 - 03/13/2016 \n",
      "Ended downloading\n",
      "./data/2016/b03d7911d9e1fb81acc3ebafc5378467/request.json\n",
      "image_2016-03-06\n",
      "./data/2016/b03d7911d9e1fb81acc3ebafc5378467/response.tiff renamed to ./data/2016/b03d7911d9e1fb81acc3ebafc5378467/image_2016-03-06.tiff\n",
      "Year: 2016 - week: 11\n",
      "Requested week slot: 03/13/2016 - 03/20/2016 \n",
      "Ended downloading\n",
      "Image empty:  0\n",
      "This image is being replaced..\n",
      "This image is being replaced..\n",
      "This image is being replaced..\n",
      "This image is being replaced..\n",
      "This image is being replaced..\n",
      "This image is being replaced..\n",
      "This image is being replaced..\n",
      "This image is being replaced..\n",
      "This image is being replaced..\n",
      "This image is being replaced..\n",
      "This image is being replaced..\n",
      "This image is being replaced..\n",
      "This image is being replaced..\n",
      "This image is being replaced..\n",
      "This image is being replaced..\n",
      "This image is being replaced..\n",
      "This image is being replaced..\n",
      "This image is being replaced..\n",
      "This image is being replaced..\n",
      "This image is being replaced..\n",
      "Slot corrected to:  [(datetime.date(2016, 3, 13), datetime.date(2016, 4, 9))]\n",
      "./data/2016/35db414cf77c1bb505af5b42651b705b/request.json\n",
      "image_2016-03-13\n",
      "./data/2016/35db414cf77c1bb505af5b42651b705b/response.tiff renamed to ./data/2016/35db414cf77c1bb505af5b42651b705b/image_2016-03-13.tiff\n",
      "./data//2016/61bc164e9694fc398670758f8be83748\n",
      "./data//2016/155eb3ce372910898c6f4d11b1ac5482\n",
      "./data//2016/c7885cbe5f411ca9999b08afd9a3de0a\n",
      "./data//2016/be1f2cc04bac7072fad73799be36033d\n",
      "./data//2016/b47e300bd750c106378a0003198025b7\n",
      "./data//2016/0a702300e310b9f10119379d144a501d\n",
      "./data//2016/e1fb4f48ce6edb4caec2ac649018a9a1\n",
      "./data//2016/330b02836b468de66eba5bb6ab8162cf\n",
      "./data//2016/4d52e7c4aa9d7700450fe39d30d573cd\n",
      "./data//2016/c637451005f8b642faf14c8cc9dda4a8\n",
      "./data//2016/b82d37118084610eda23690a8f376e05\n",
      "./data//2016/a501dd1f0986913cf17c25038e4673fd\n",
      "./data//2016/c7fe0ec5a2ea9416e071b9a69082626b\n",
      "./data//2016/18426f43f4b434269913faffb0fd0b87\n",
      "./data//2016/e10e874fe8230e01a6db050342331b4b\n",
      "./data//2016/17e863f11334a45cfba324e230d12757\n",
      "./data//2016/cd8dbc6c0973a7174360fdad3f35f8f2\n",
      "./data//2016/7128fced2256c335990d67e6fbe9f25b\n",
      "./data//2016/b8863dd4425443af7a4a629f0921b74a\n",
      "./data//2016/8da1757baf851083bde430ac9c7c0376\n",
      "Year: 2016 - week: 12\n",
      "Requested week slot: 03/20/2016 - 03/27/2016 \n",
      "Ended downloading\n",
      "Image empty:  0\n",
      "This image is being replaced..\n",
      "This image is being replaced..\n",
      "This image is being replaced..\n",
      "This image is being replaced..\n",
      "This image is being replaced..\n",
      "This image is being replaced..\n",
      "This image is being replaced..\n",
      "This image is being replaced..\n",
      "This image is being replaced..\n",
      "This image is being replaced..\n",
      "This image is being replaced..\n",
      "This image is being replaced..\n",
      "This image is being replaced..\n",
      "Slot corrected to:  [(datetime.date(2016, 3, 20), datetime.date(2016, 4, 9))]\n",
      "./data/2016/61fdcb31d09dfacb15a76ed5234eb8ee/request.json\n",
      "image_2016-03-20\n",
      "./data/2016/61fdcb31d09dfacb15a76ed5234eb8ee/response.tiff renamed to ./data/2016/61fdcb31d09dfacb15a76ed5234eb8ee/image_2016-03-20.tiff\n",
      "./data//2016/a389e1e9e5289d9453e7182d4308208a\n",
      "./data//2016/29d853fe2427b5ef99a6500be648503c\n",
      "./data//2016/d15174b99370476d255266cedc5704f5\n",
      "./data//2016/8adaafcab34786b6613af1816d1ad5a9\n",
      "./data//2016/3e00e105c973b4a8b1252f0ffc155609\n",
      "./data//2016/3373a34f0974533fe82997521bc2bf96\n",
      "./data//2016/5f1111fc4a3549f41a23d2a50deb34cc\n",
      "./data//2016/952de62b2181fccedc77a56724b66c10\n",
      "./data//2016/a8c826c7aa8e6434befcdb93fb4c3db4\n",
      "./data//2016/b11df518c9d35bd036dfd7e5f887e22e\n",
      "./data//2016/dff0670b78c2b3fcfc18b4483324663b\n",
      "./data//2016/f0b63435a68b552ac1aed1f3166f6479\n",
      "./data//2016/70d3e6287d24c344cd19522d811adeb2\n",
      "Year: 2016 - week: 13\n",
      "Requested week slot: 03/27/2016 - 04/03/2016 \n",
      "Ended downloading\n",
      "Image empty:  0\n",
      "This image is being replaced..\n",
      "This image is being replaced..\n",
      "This image is being replaced..\n",
      "This image is being replaced..\n",
      "This image is being replaced..\n",
      "This image is being replaced..\n",
      "Slot corrected to:  [(datetime.date(2016, 3, 27), datetime.date(2016, 4, 9))]\n",
      "./data/2016/f24f90278bf95364d63656e8885f716f/request.json\n",
      "image_2016-03-27\n",
      "./data/2016/f24f90278bf95364d63656e8885f716f/response.tiff renamed to ./data/2016/f24f90278bf95364d63656e8885f716f/image_2016-03-27.tiff\n",
      "./data//2016/7c718f14ee641b24550cc20e1de58b5d\n",
      "./data//2016/ccd5818153a38d9a04b3b40be071c041\n",
      "./data//2016/98cd8a5bc2dc9dab25b07e4e31aa22d5\n",
      "./data//2016/e76e7aa019541ba9ef3d71de122c91c6\n",
      "./data//2016/2af0695238e65c535887ca1ad26ce2b8\n",
      "./data//2016/8713e59a721ea13af8dc35e177232783\n",
      "Year: 2016 - week: 14\n",
      "Requested week slot: 04/03/2016 - 04/10/2016 \n",
      "Ended downloading\n",
      "./data/2016/e1d2cee3f33696c9a40cd1bb9ad7867f/request.json\n",
      "image_2016-04-03\n",
      "./data/2016/e1d2cee3f33696c9a40cd1bb9ad7867f/response.tiff renamed to ./data/2016/e1d2cee3f33696c9a40cd1bb9ad7867f/image_2016-04-03.tiff\n",
      "Year: 2016 - week: 15\n",
      "Requested week slot: 04/10/2016 - 04/17/2016 \n",
      "Ended downloading\n",
      "Image empty:  0\n",
      "This image is being replaced..\n",
      "This image is being replaced..\n",
      "Slot corrected to:  [(datetime.date(2016, 4, 10), datetime.date(2016, 4, 19))]\n",
      "./data/2016/b876dd05a7355d664222c98b9f3d353c/request.json\n",
      "image_2016-04-10\n",
      "./data/2016/b876dd05a7355d664222c98b9f3d353c/response.tiff renamed to ./data/2016/b876dd05a7355d664222c98b9f3d353c/image_2016-04-10.tiff\n",
      "./data//2016/c7d53776b5533c6b7979d87d699e8892\n",
      "./data//2016/5d0abdf93f71c6be15629773638d968f\n",
      "Year: 2016 - week: 16\n",
      "Requested week slot: 04/17/2016 - 04/24/2016 \n",
      "Ended downloading\n",
      "./data/2016/eda97a80daab78f4a1a932fc3f11e6b9/request.json\n",
      "image_2016-04-17\n",
      "./data/2016/eda97a80daab78f4a1a932fc3f11e6b9/response.tiff renamed to ./data/2016/eda97a80daab78f4a1a932fc3f11e6b9/image_2016-04-17.tiff\n",
      "Year: 2016 - week: 17\n",
      "Requested week slot: 04/24/2016 - 05/01/2016 \n",
      "Ended downloading\n",
      "./data/2016/934cb9831a1f9696cbd19eb0229277b8/request.json\n",
      "image_2016-04-24\n",
      "./data/2016/934cb9831a1f9696cbd19eb0229277b8/response.tiff renamed to ./data/2016/934cb9831a1f9696cbd19eb0229277b8/image_2016-04-24.tiff\n",
      "Year: 2016 - week: 18\n",
      "Requested week slot: 05/01/2016 - 05/08/2016 \n",
      "Ended downloading\n",
      "Image empty:  0\n",
      "This image is being replaced..\n",
      "Slot corrected to:  [(datetime.date(2016, 5, 1), datetime.date(2016, 5, 9))]\n",
      "./data/2016/e7fd4ec125f8450c16bb814232177dcc/request.json\n",
      "image_2016-05-01\n",
      "./data/2016/e7fd4ec125f8450c16bb814232177dcc/response.tiff renamed to ./data/2016/e7fd4ec125f8450c16bb814232177dcc/image_2016-05-01.tiff\n",
      "./data//2016/2c176d1a72d032b6e41fdaf92263155c\n",
      "Year: 2016 - week: 19\n",
      "Requested week slot: 05/08/2016 - 05/15/2016 \n"
     ]
    }
   ],
   "source": [
    "for i in dic:\n",
    "    \n",
    "    print(\"Clean the temporal data folder\")\n",
    "    shutil.rmtree(root_images[1:])\n",
    "    os.makedirs(temporal_path)\n",
    "    \n",
    "    print(f\"City: {i} - Coordinates: {dic[i]}\")\n",
    "\n",
    "    current_coor = dic[i]\n",
    "\n",
    "    city_str = \"DATASET\" + \"/\" + str(i)\n",
    "\n",
    "    if not os.path.exists(city_str):\n",
    "        os.makedirs(city_str)\n",
    "\n",
    "    # Download images on given range\n",
    "    get_images(current_coor, years, weeks, weeks_2015, img_format, root_images, CLIENT_ID, CLIENT_SECRET)\n",
    "\n",
    "    # Move to structured folder in DATASETS\n",
    "    root_images_store = \".\" + root_images\n",
    "    dataset_store = \"./\" + city_str\n",
    "    for root, dirs, files in os.walk(root_images_store, topdown=True):\n",
    "        for name in files:\n",
    "            path = os.path.join(root, name)\n",
    "            #print(path)\n",
    "            if img_format in path and not dataset_store in path:\n",
    "                shutil.copy(path, dataset_store)\n",
    "\n",
    "images = glob.glob(dataset_store+\"/*\")"
   ]
  },
  {
   "cell_type": "code",
   "execution_count": 24,
   "metadata": {
    "id": "12ow6J05yvJJ"
   },
   "outputs": [],
   "source": [
    "#shutil.rmtree(\"DATASET\")\n",
    "#shutil.rmtree(\"data\")"
   ]
  },
  {
   "cell_type": "code",
   "execution_count": null,
   "metadata": {
    "id": "tHidFiNCCqie"
   },
   "outputs": [],
   "source": [
    "def plot_image(image, factor=1.0, clip_range = None, **kwargs):\n",
    "    \"\"\"\n",
    "    Utility function for plotting RGB images.\n",
    "    \"\"\"\n",
    "    fig, ax = plt.subplots(nrows=1, ncols=1, figsize=(15, 15))\n",
    "    if clip_range is not None:\n",
    "        ax.imshow(np.clip(image * factor, *clip_range), **kwargs)\n",
    "    else:\n",
    "        ax.imshow(image * factor, **kwargs)\n",
    "    ax.set_xticks([])\n",
    "    ax.set_yticks([])\n"
   ]
  },
  {
   "cell_type": "code",
   "execution_count": null,
   "metadata": {
    "id": "8cJNgED0Cq9S"
   },
   "outputs": [],
   "source": [
    "images"
   ]
  },
  {
   "cell_type": "code",
   "execution_count": null,
   "metadata": {
    "id": "smkka6k3DA9L"
   },
   "outputs": [],
   "source": [
    "from skimage import io\n",
    "import numpy as np\n",
    "import cv2\n",
    "\n",
    "ncols = 4\n",
    "nrows = 3\n",
    "\n",
    "aspect_ratio = 1#coordinates_size[0] / coordinates_size[1]\n",
    "subplot_kw = {'xticks': [], 'yticks': [], 'frame_on': False}\n",
    "\n",
    "fig, axs = plt.subplots(ncols=ncols, nrows=nrows, figsize=(5 * ncols * aspect_ratio, 5 * nrows),\n",
    "                            subplot_kw=subplot_kw)\n",
    "\n",
    "for idx, path in enumerate(images):\n",
    "        ax = axs[idx // ncols][idx % ncols]\n",
    "        image = io.imread(path)\n",
    "        image = np.array(image)\n",
    "        image = image[:,:,1:4]\n",
    "        ax.imshow(np.clip(image * 2.5/255, 0, 1))\n",
    "\n",
    "plt.tight_layout()\n",
    "\n",
    "\n",
    "\n",
    "# Move to structured folder in DATASETS\n",
    "root_images_store = \".\" + root_images\n",
    "dataset_store = \"./\" + city_str\n",
    "for root, dirs, files in os.walk(root_images_store, topdown=True):\n",
    "        for name in files:\n",
    "          path = os.path.join(root, name)\n",
    "          #print(path)\n",
    "          if img_format in path and not dataset_store in path:\n",
    "              shutil.copy(path, dataset_store)\n",
    "\n",
    "images = glob.glob(dataset_store+\"/*\")"
   ]
  }
 ],
 "metadata": {
  "colab": {
   "provenance": []
  },
  "kernelspec": {
   "display_name": "Python [conda env:data_fusion_vpython=3_9_18]",
   "language": "python",
   "name": "conda-env-data_fusion_vpython_3_9_18-py"
  },
  "language_info": {
   "codemirror_mode": {
    "name": "ipython",
    "version": 3
   },
   "file_extension": ".py",
   "mimetype": "text/x-python",
   "name": "python",
   "nbconvert_exporter": "python",
   "pygments_lexer": "ipython3",
   "version": "3.8.15"
  },
  "vscode": {
   "interpreter": {
    "hash": "916dbcbb3f70747c44a77c7bcd40155683ae19c65e1c03b4aa3499c5328201f1"
   }
  }
 },
 "nbformat": 4,
 "nbformat_minor": 4
}
