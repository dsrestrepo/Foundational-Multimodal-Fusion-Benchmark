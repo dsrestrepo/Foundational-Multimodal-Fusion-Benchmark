{
 "cells": [
  {
   "cell_type": "markdown",
   "metadata": {
    "id": "h4w-mP8UqPcN"
   },
   "source": [
    "# Setup"
   ]
  },
  {
   "cell_type": "code",
   "execution_count": 1,
   "metadata": {
    "id": "vG9uWOLVf1V2"
   },
   "outputs": [],
   "source": [
    "#import shutil\n",
    "#!shutil.rmtree('satellite.extractor')\n",
    "#!git clone https://github.com/sebasmos/satellite.extractor.git\n",
    "\n",
    "# Install dependencies\n",
    "#%cd satellite.extractor/\n",
    "\n",
    "#! python setup.py build\n",
    "#! python setup.py install\n",
    "#! pip install -r requirements.txt\n",
    "\n",
    "#%cd .."
   ]
  },
  {
   "cell_type": "markdown",
   "metadata": {
    "id": "Hgme7DhrqSDC"
   },
   "source": [
    "# Import functions"
   ]
  },
  {
   "cell_type": "code",
   "execution_count": 2,
   "metadata": {
    "colab": {
     "base_uri": "https://localhost:8080/"
    },
    "executionInfo": {
     "elapsed": 13690,
     "status": "ok",
     "timestamp": 1695485318033,
     "user": {
      "displayName": "David Restrepo",
      "userId": "12353262747397966217"
     },
     "user_tz": 300
    },
    "id": "Wj2puvbgpg-q",
    "outputId": "9fabe10c-2ef7-4367-9cfb-2b6b1f626171"
   },
   "outputs": [],
   "source": [
    "import pandas as pd\n",
    "import glob\n",
    "import json\n",
    "import datetime as dt\n",
    "from urllib.parse import unquote\n",
    "from bs4 import BeautifulSoup\n",
    "import os\n",
    "import shutil\n",
    "from sentinelhub import SHConfig\n",
    "import datetime\n",
    "import numpy as np\n",
    "import matplotlib.pyplot as plt\n",
    "import sys\n",
    "from datetime import timedelta\n",
    "sys.path.insert(0,'..')\n",
    "from sentinelhub import MimeType, CRS, BBox, SentinelHubRequest, SentinelHubDownloadClient, DataCollection, bbox_to_dimensions, DownloadRequest\n",
    "from epiweeks import Week, Year\n",
    "import epiweeks\n",
    "from datetime import date\n",
    "import glob, shutil"
   ]
  },
  {
   "cell_type": "code",
   "execution_count": 3,
   "metadata": {
    "colab": {
     "base_uri": "https://localhost:8080/"
    },
    "executionInfo": {
     "elapsed": 14,
     "status": "ok",
     "timestamp": 1695485318035,
     "user": {
      "displayName": "David Restrepo",
      "userId": "12353262747397966217"
     },
     "user_tz": 300
    },
    "id": "uLJcJApxc5-b",
    "outputId": "968a22c2-367f-4a26-abe0-1b879c069a50"
   },
   "outputs": [
    {
     "name": "stdout",
     "output_type": "stream",
     "text": [
      "Coordinates  satellite.extractor  satellite_extractor.ipynb\n"
     ]
    }
   ],
   "source": [
    "!ls"
   ]
  },
  {
   "cell_type": "code",
   "execution_count": 4,
   "metadata": {
    "colab": {
     "base_uri": "https://localhost:8080/"
    },
    "executionInfo": {
     "elapsed": 318,
     "status": "ok",
     "timestamp": 1695485318346,
     "user": {
      "displayName": "David Restrepo",
      "userId": "12353262747397966217"
     },
     "user_tz": 300
    },
    "id": "WJxml9erp-47",
    "outputId": "80b1d417-b7a9-4e64-e5c8-1baf1804ef88"
   },
   "outputs": [
    {
     "name": "stdout",
     "output_type": "stream",
     "text": [
      "/home/datascience/Data Fusion/experiments/violence_prediction/Dataset/Satellite/satellite.extractor\n",
      "distributions.egg-info\tlinux\t   README.md\t     scripts   src\n",
      "__init__.py\t\tnotebooks  requirements.txt  setup.py\n"
     ]
    }
   ],
   "source": [
    "%cd satellite.extractor\n",
    "!ls"
   ]
  },
  {
   "cell_type": "code",
   "execution_count": 5,
   "metadata": {
    "id": "KuTZx2dhdEr4"
   },
   "outputs": [],
   "source": [
    "from linux.request_multiple_images_linux import download_multiple_images"
   ]
  },
  {
   "cell_type": "code",
   "execution_count": 6,
   "metadata": {
    "colab": {
     "base_uri": "https://localhost:8080/"
    },
    "executionInfo": {
     "elapsed": 7,
     "status": "ok",
     "timestamp": 1695485318812,
     "user": {
      "displayName": "David Restrepo",
      "userId": "12353262747397966217"
     },
     "user_tz": 300
    },
    "id": "GN8ZmULbGLt7",
    "outputId": "c7e6074f-ab4a-4f45-cd8b-77a243f33119"
   },
   "outputs": [
    {
     "name": "stdout",
     "output_type": "stream",
     "text": [
      "/home/datascience/Data Fusion/experiments/violence_prediction/Dataset/Satellite/satellite.extractor\n"
     ]
    }
   ],
   "source": [
    "!pwd"
   ]
  },
  {
   "cell_type": "code",
   "execution_count": 7,
   "metadata": {
    "colab": {
     "base_uri": "https://localhost:8080/"
    },
    "executionInfo": {
     "elapsed": 9,
     "status": "ok",
     "timestamp": 1695485319043,
     "user": {
      "displayName": "David Restrepo",
      "userId": "12353262747397966217"
     },
     "user_tz": 300
    },
    "id": "Nf5IANjSNvh2",
    "outputId": "6e0ddd79-bd4e-4dc1-df53-e99aed820520"
   },
   "outputs": [
    {
     "name": "stdout",
     "output_type": "stream",
     "text": [
      "distributions.egg-info\tlinux\t   README.md\t     scripts   src\n",
      "__init__.py\t\tnotebooks  requirements.txt  setup.py\n"
     ]
    }
   ],
   "source": [
    "!ls"
   ]
  },
  {
   "cell_type": "markdown",
   "metadata": {
    "id": "juc_tnHTNv49"
   },
   "source": [
    "# 10 cities"
   ]
  },
  {
   "cell_type": "code",
   "execution_count": 8,
   "metadata": {
    "id": "xVVeRy0quUHX"
   },
   "outputs": [],
   "source": [
    "from dotenv import load_dotenv\n",
    "\n",
    "load_dotenv()\n",
    "CLIENT_ID = os.getenv('CLIENT_ID')\n",
    "CLIENT_SECRET = os.getenv('CLIENT_SECRET')"
   ]
  },
  {
   "cell_type": "code",
   "execution_count": 9,
   "metadata": {
    "id": "DJcAgaIugnv4"
   },
   "outputs": [],
   "source": [
    "path = '../Coordinates/'"
   ]
  },
  {
   "cell_type": "code",
   "execution_count": 10,
   "metadata": {
    "colab": {
     "base_uri": "https://localhost:8080/"
    },
    "executionInfo": {
     "elapsed": 6,
     "status": "ok",
     "timestamp": 1695485319044,
     "user": {
      "displayName": "David Restrepo",
      "userId": "12353262747397966217"
     },
     "user_tz": 300
    },
    "id": "SxCwW-q_fCTt",
    "outputId": "22aa6ec7-904b-4142-936d-0b2943916566"
   },
   "outputs": [
    {
     "data": {
      "text/plain": [
       "{'Medellín': [-75.59778584277811,\n",
       "  6.2216717557504815,\n",
       "  -75.55174096123991,\n",
       "  6.26773709683579],\n",
       " 'Cali': [-76.54259075677969,\n",
       "  3.4169717559259674,\n",
       "  -76.4967364534374,\n",
       "  3.463037096835792],\n",
       " 'Pasto': [-77.30395468398439,\n",
       "  1.1905717560644984,\n",
       "  -77.2581727224403,\n",
       "  1.236637096835792],\n",
       " 'Barranquilla': [-74.81967417403632,\n",
       "  10.940871755450496,\n",
       "  -74.77305153207891,\n",
       "  10.986937096835792],\n",
       " 'Popayán': [-76.62897028622902,\n",
       "  2.4180717559881755,\n",
       "  -76.58315702570543,\n",
       "  2.4641370968357923]}"
      ]
     },
     "execution_count": 10,
     "metadata": {},
     "output_type": "execute_result"
    }
   ],
   "source": [
    "dic = pd.read_csv(path + 'coordinates512_top_10_municipalities.csv')\n",
    "dic = dict(zip(dic['Municipality'], dic.square))\n",
    "# Convert the values to lists\n",
    "dic = {key: [float(x) for x in value.strip('[]').split(', ')] for key, value in dic.items()}\n",
    "\n",
    "# List of cities to remove (Just to test)\n",
    "cities_to_remove = ['Soacha', 'Villavicencio', 'Bucaramanga', 'Ibagué', 'Cúcuta']\n",
    "\n",
    "# Remove the cities\n",
    "for city in cities_to_remove:\n",
    "    if city in dic:\n",
    "        del dic[city]\n",
    "\n",
    "dic"
   ]
  },
  {
   "cell_type": "code",
   "execution_count": 11,
   "metadata": {
    "colab": {
     "base_uri": "https://localhost:8080/"
    },
    "executionInfo": {
     "elapsed": 269,
     "status": "ok",
     "timestamp": 1695414031505,
     "user": {
      "displayName": "David Restrepo",
      "userId": "12353262747397966217"
     },
     "user_tz": 300
    },
    "id": "XeWvK2orOcN5",
    "outputId": "efb4591d-0be7-4eaa-82c0-5dbb34849a70"
   },
   "outputs": [
    {
     "name": "stdout",
     "output_type": "stream",
     "text": [
      "Creating temporal data folder\n",
      "Number of cities: 5\n",
      "Range: [2016, 2017, 2018, 2019, 2020, 2021, 2022]\n",
      "Weeks 2015: [44, 45, 46, 47, 48, 49, 50, 51, 52]\n"
     ]
    }
   ],
   "source": [
    "img_format = \"tiff\"\n",
    "\n",
    "# Define the range of years\n",
    "initial_year = 2016\n",
    "end_year = 2023\n",
    "years = list(range(initial_year,end_year))\n",
    "first_2015_week = 44\n",
    "\n",
    "start_2015 = Week(initial_year,first_2015_week).startdate()\n",
    "\n",
    "weeks_2015 = list(range(first_2015_week, 53))\n",
    "\n",
    "#weeks = list(range(1,53))\n",
    "weeks = {}\n",
    "# Iterate through the years and calculate the number of epiweeks\n",
    "for year in range(initial_year, end_year):\n",
    "    num_epiweeks = 0\n",
    "    for week_num in range(1, 54):\n",
    "        try:\n",
    "            epiweek = epiweeks.Week(year, week_num)\n",
    "            num_epiweeks += 1\n",
    "        except ValueError:\n",
    "            # This week doesn't exist for this year\n",
    "            pass\n",
    "    weeks[year] = list(range(1, num_epiweeks + 1))\n",
    "\n",
    "root_images = \"/data/\"\n",
    "# Get the absolute path of the current working directory\n",
    "current_directory = os.getcwd()\n",
    "\n",
    "temporal_path = os.path.abspath(os.path.join(current_directory, root_images[1:]))\n",
    "\n",
    "if not os.path.isdir(temporal_path):\n",
    "    os.makedirs(temporal_path)\n",
    "    print(\"Creating temporal data folder\")\n",
    "\n",
    "print(f\"Number of cities: {len(dic)}\")\n",
    "print(f\"Range: {years}\")\n",
    "print(f\"Weeks 2015: {weeks_2015}\")"
   ]
  },
  {
   "cell_type": "code",
   "execution_count": 12,
   "metadata": {
    "id": "EvJ3yi_XmCQl"
   },
   "outputs": [],
   "source": [
    "def get_folder_ID(root_images, img_format):\n",
    "\n",
    "    #print(root_images, img_format)\n",
    "\n",
    "    walker = \".\" + root_images\n",
    "\n",
    "    for root, dirs, files in os.walk(walker, topdown=True):\n",
    "        for name in files:\n",
    "            path = os.path.join(root, name)\n",
    "            if \"response\" in path:\n",
    "\n",
    "                folder_path = path.replace(\"/\" + \"response.\" + img_format, \"\")\n",
    "\n",
    "    return folder_path"
   ]
  },
  {
   "cell_type": "code",
   "execution_count": 13,
   "metadata": {
    "id": "1trklx0ipIPf"
   },
   "outputs": [],
   "source": [
    "def get_request_individual(request_file, img_format):\n",
    "    with open(request_file, 'r') as req:\n",
    "        print(request_file)\n",
    "        json_decode = json.load(req)\n",
    "        dataFilter = json_decode['request'][\"payload\"][\"input\"][\"data\"][0]\n",
    "        timeRanges = dataFilter[\"dataFilter\"][\"timeRange\"]\n",
    "        start = timeRanges[\"from\"].split(\"T\")[0]\n",
    "        end = timeRanges[\"to\"].split(\"T\")[0]\n",
    "        time_stamp = start + \"_to_\" + end # best image calculated on this interval\n",
    "        name_image = \"image_\" +   start\n",
    "        print(name_image)\n",
    "        data = {\n",
    "            \"start\": start,\n",
    "            \"end\": end,\n",
    "            \"time_stamp\": time_stamp,\n",
    "            \"url\": request_file,\n",
    "            }\n",
    "\n",
    "        df = pd.DataFrame(data, index =['date'])\n",
    "\n",
    "        # Update name of files using JSON timestamp filter\n",
    "        response_img = request_file.split(\"request.json\")[0] + \"response.tiff\"# + \".\"+ img_format\n",
    "        image_path = os.path.join(response_img).replace('response', name_image )\n",
    "        print(\"{0} renamed to {1}\".format(response_img, image_path))\n",
    "        shutil.move(response_img, image_path)\n",
    "\n",
    "        return df"
   ]
  },
  {
   "cell_type": "code",
   "execution_count": 14,
   "metadata": {
    "id": "RvELXfQHPpxG"
   },
   "outputs": [],
   "source": [
    "def get_images(coordenates, years, weeks, weeks_2015, img_format, root_images, CLIENT_ID, CLIENT_SECRET):\n",
    "    # Download data\n",
    "    folder_path = \"\"\n",
    "    for year in years:\n",
    "        if year == 2015:\n",
    "            for week in weeks_2015:\n",
    "                print(f\"Year: {year} - week: {week}\")\n",
    "                # Set starting date for given year based on\n",
    "                start = Week(year, week).startdate()\n",
    "                # Download individual images\n",
    "                download_multiple_images(coordenates, start, str(year), CLIENT_ID, CLIENT_SECRET)\n",
    "                # Obtain ID as the last-obtained response.tiff file, \"real-time\"\n",
    "                folder_path = get_folder_ID(root_images, img_format)\n",
    "                # Rename image based on JSON timestamp filter\n",
    "                dates = get_request_individual(folder_path+\"/request.json\", img_format)\n",
    "                # Clean folders which contain black images\n",
    "                path_to_blank_ids  = \".\" + root_images + \"/\" + str(year) + \"/*/*\"\n",
    "                ids = glob.glob(path_to_blank_ids)\n",
    "                for idx in ids:\n",
    "                    if \"response\" in idx:\n",
    "                        folder_path = idx.replace(\"/\" + \"response.\" + img_format, \"\")\n",
    "                        #print(folder_path)\n",
    "                        shutil.rmtree(folder_path)\n",
    "                ids = glob.glob(path_to_blank_ids)\n",
    "                #print(\"ids available: \", ids)\n",
    "\n",
    "                #flag =  [idx if (\"response\" in idx) for idx in ids]\n",
    "        #elif year ==2016:\n",
    "        else:\n",
    "            for week in weeks[year]:\n",
    "                print(f\"Year: {year} - week: {week}\")\n",
    "                # Set starting date for given year based on\n",
    "                start = Week(year, week).startdate()\n",
    "                # Download individual images\n",
    "                download_multiple_images(coordenates, start, str(year), CLIENT_ID, CLIENT_SECRET)\n",
    "                # Obtain ID as the last-obtained response.tiff file, \"real-time\"\n",
    "                folder_path = get_folder_ID(root_images, img_format)\n",
    "                # Rename image based on JSON timestamp filter\n",
    "                dates = get_request_individual(folder_path+\"/request.json\", img_format)\n",
    "                # Clean folders which contain black images\n",
    "                path_to_blank_ids  = \".\" + root_images + \"/\" + str(year) + \"/*/*\"\n",
    "                ids = glob.glob(path_to_blank_ids)\n",
    "                for idx in ids:\n",
    "                    if \"response\" in idx:\n",
    "                        folder_path = idx.replace(\"/\" + \"response.\" + img_format, \"\")\n",
    "                        print(folder_path)\n",
    "                        shutil.rmtree(folder_path)\n",
    "                ids = glob.glob(path_to_blank_ids)\n"
   ]
  },
  {
   "cell_type": "code",
   "execution_count": null,
   "metadata": {
    "colab": {
     "base_uri": "https://localhost:8080/",
     "height": 988
    },
    "executionInfo": {
     "elapsed": 13761,
     "status": "error",
     "timestamp": 1695416896918,
     "user": {
      "displayName": "David Restrepo",
      "userId": "12353262747397966217"
     },
     "user_tz": 300
    },
    "id": "LGm29oz3OiZZ",
    "outputId": "0eb70f35-18bb-4d5f-b0c0-51d0b19cf018"
   },
   "outputs": [
    {
     "name": "stdout",
     "output_type": "stream",
     "text": [
      "City: Medellín - Coordinates: [-75.59778584277811, 6.2216717557504815, -75.55174096123991, 6.26773709683579]\n",
      "Year: 2016 - week: 1\n",
      "Requested week slot: 01/03/2016 - 01/10/2016 \n",
      "Ended downloading\n",
      "./data/2016/53fea6c383643089f87b7edb50ae8340/request.json\n",
      "image_2016-01-03\n",
      "./data/2016/53fea6c383643089f87b7edb50ae8340/response.tiff renamed to ./data/2016/53fea6c383643089f87b7edb50ae8340/image_2016-01-03.tiff\n",
      "Year: 2016 - week: 2\n",
      "Requested week slot: 01/10/2016 - 01/17/2016 \n",
      "Ended downloading\n",
      "./data/2016/7af2ba8f95af426fb18dc60b738fb8aa/request.json\n",
      "image_2016-01-10\n",
      "./data/2016/7af2ba8f95af426fb18dc60b738fb8aa/response.tiff renamed to ./data/2016/7af2ba8f95af426fb18dc60b738fb8aa/image_2016-01-10.tiff\n",
      "Year: 2016 - week: 3\n",
      "Requested week slot: 01/17/2016 - 01/24/2016 \n"
     ]
    }
   ],
   "source": [
    "for i in dic:\n",
    "    print(f\"City: {i} - Coordinates: {dic[i]}\")\n",
    "\n",
    "    current_coor = dic[i]\n",
    "\n",
    "    city_str = \"DATASET\" + \"/\" + str(i)\n",
    "\n",
    "    if not os.path.exists(city_str):\n",
    "        os.makedirs(city_str)\n",
    "\n",
    "    # Download images on given range\n",
    "    get_images(current_coor, years, weeks, weeks_2015, img_format, root_images, CLIENT_ID, CLIENT_SECRET)\n",
    "\n",
    "    # Move to structured folder in DATASETS\n",
    "    root_images_store = \".\" + root_images\n",
    "    dataset_store = \"./\" + city_str\n",
    "    for root, dirs, files in os.walk(root_images_store, topdown=True):\n",
    "        for name in files:\n",
    "            path = os.path.join(root, name)\n",
    "            #print(path)\n",
    "            if img_format in path and not dataset_store in path:\n",
    "                shutil.copy(path, dataset_store)\n",
    "\n",
    "images = glob.glob(dataset_store+\"/*\")"
   ]
  },
  {
   "cell_type": "code",
   "execution_count": 24,
   "metadata": {
    "id": "12ow6J05yvJJ"
   },
   "outputs": [],
   "source": [
    "#shutil.rmtree(\"DATASET\")\n",
    "#shutil.rmtree(\"data\")"
   ]
  },
  {
   "cell_type": "code",
   "execution_count": null,
   "metadata": {
    "id": "tHidFiNCCqie"
   },
   "outputs": [],
   "source": [
    "def plot_image(image, factor=1.0, clip_range = None, **kwargs):\n",
    "    \"\"\"\n",
    "    Utility function for plotting RGB images.\n",
    "    \"\"\"\n",
    "    fig, ax = plt.subplots(nrows=1, ncols=1, figsize=(15, 15))\n",
    "    if clip_range is not None:\n",
    "        ax.imshow(np.clip(image * factor, *clip_range), **kwargs)\n",
    "    else:\n",
    "        ax.imshow(image * factor, **kwargs)\n",
    "    ax.set_xticks([])\n",
    "    ax.set_yticks([])\n"
   ]
  },
  {
   "cell_type": "code",
   "execution_count": null,
   "metadata": {
    "id": "8cJNgED0Cq9S"
   },
   "outputs": [],
   "source": [
    "images"
   ]
  },
  {
   "cell_type": "code",
   "execution_count": null,
   "metadata": {
    "id": "smkka6k3DA9L"
   },
   "outputs": [],
   "source": [
    "from skimage import io\n",
    "import numpy as np\n",
    "import cv2\n",
    "\n",
    "ncols = 4\n",
    "nrows = 3\n",
    "\n",
    "aspect_ratio = 1#coordinates_size[0] / coordinates_size[1]\n",
    "subplot_kw = {'xticks': [], 'yticks': [], 'frame_on': False}\n",
    "\n",
    "fig, axs = plt.subplots(ncols=ncols, nrows=nrows, figsize=(5 * ncols * aspect_ratio, 5 * nrows),\n",
    "                            subplot_kw=subplot_kw)\n",
    "\n",
    "for idx, path in enumerate(images):\n",
    "        ax = axs[idx // ncols][idx % ncols]\n",
    "        image = io.imread(path)\n",
    "        image = np.array(image)\n",
    "        image = image[:,:,1:4]\n",
    "        ax.imshow(np.clip(image * 2.5/255, 0, 1))\n",
    "\n",
    "plt.tight_layout()\n",
    "\n",
    "\n",
    "\n",
    "# Move to structured folder in DATASETS\n",
    "root_images_store = \".\" + root_images\n",
    "dataset_store = \"./\" + city_str\n",
    "for root, dirs, files in os.walk(root_images_store, topdown=True):\n",
    "        for name in files:\n",
    "          path = os.path.join(root, name)\n",
    "          #print(path)\n",
    "          if img_format in path and not dataset_store in path:\n",
    "              shutil.copy(path, dataset_store)\n",
    "\n",
    "images = glob.glob(dataset_store+\"/*\")"
   ]
  }
 ],
 "metadata": {
  "colab": {
   "provenance": []
  },
  "kernelspec": {
   "display_name": "Python [conda env:data_fusion_vpython=3_9_18]",
   "language": "python",
   "name": "conda-env-data_fusion_vpython_3_9_18-py"
  },
  "language_info": {
   "codemirror_mode": {
    "name": "ipython",
    "version": 3
   },
   "file_extension": ".py",
   "mimetype": "text/x-python",
   "name": "python",
   "nbconvert_exporter": "python",
   "pygments_lexer": "ipython3",
   "version": "3.8.15"
  },
  "vscode": {
   "interpreter": {
    "hash": "916dbcbb3f70747c44a77c7bcd40155683ae19c65e1c03b4aa3499c5328201f1"
   }
  }
 },
 "nbformat": 4,
 "nbformat_minor": 4
}
