{
 "cells": [
  {
   "cell_type": "markdown",
   "id": "8fd233aa",
   "metadata": {},
   "source": [
    "### Test"
   ]
  },
  {
   "cell_type": "code",
   "execution_count": 9,
   "id": "f83da7c7",
   "metadata": {},
   "outputs": [
    {
     "data": {
      "application/vnd.jupyter.widget-view+json": {
       "model_id": "7ea8b62dd7ca4b2fbc06e5e6399c3b0b",
       "version_major": 2,
       "version_minor": 0
      },
      "text/plain": [
       "Loading checkpoint shards:   0%|          | 0/2 [00:00<?, ?it/s]"
      ]
     },
     "metadata": {},
     "output_type": "display_data"
    }
   ],
   "source": [
    "import torch\n",
    "from PIL import Image\n",
    "import requests\n",
    "from transformers import Blip2Processor, Blip2Model\n",
    "\n",
    "processor = Blip2Processor.from_pretrained(\"Salesforce/blip2-opt-2.7b\")\n",
    "model = Blip2Model.from_pretrained(\"Salesforce/blip2-opt-2.7b\")\n",
    "prompt = \"Question: how many cats are there? Answer:\"\n",
    "\n",
    "url = \"http://images.cocodataset.org/val2017/000000039769.jpg\"\n",
    "image = Image.open(requests.get(url, stream=True).raw)\n",
    "inputs = processor(images=image, text=prompt, return_tensors=\"pt\")"
   ]
  },
  {
   "cell_type": "code",
   "execution_count": 10,
   "id": "49f01a2b",
   "metadata": {},
   "outputs": [],
   "source": [
    "qformer_outputs = model(**inputs)"
   ]
  },
  {
   "cell_type": "code",
   "execution_count": 19,
   "id": "52c4ea6b",
   "metadata": {},
   "outputs": [
    {
     "name": "stdout",
     "output_type": "stream",
     "text": [
      "logits\n",
      "vision_outputs\n",
      "qformer_outputs\n",
      "language_model_outputs\n"
     ]
    }
   ],
   "source": [
    "for key in qformer_outputs: print(key)"
   ]
  },
  {
   "cell_type": "code",
   "execution_count": null,
   "id": "b3663292",
   "metadata": {},
   "outputs": [],
   "source": [
    "for key in qformer_outputs['qformer_outputs']['last_hidden_state']: print(key.shape)"
   ]
  },
  {
   "cell_type": "code",
   "execution_count": 24,
   "id": "f2a40aab",
   "metadata": {},
   "outputs": [
    {
     "data": {
      "text/plain": [
       "torch.Size([1, 768])"
      ]
     },
     "execution_count": 24,
     "metadata": {},
     "output_type": "execute_result"
    }
   ],
   "source": [
    "qformer_outputs['qformer_outputs']['pooler_output'].shape"
   ]
  },
  {
   "cell_type": "code",
   "execution_count": 23,
   "id": "3eb378c6",
   "metadata": {},
   "outputs": [
    {
     "data": {
      "text/plain": [
       "tensor([[ 0.2400,  0.4323,  1.2008,  ..., -1.0685, -0.5133,  0.4215]],\n",
       "       grad_fn=<NativeLayerNormBackward0>)"
      ]
     },
     "execution_count": 23,
     "metadata": {},
     "output_type": "execute_result"
    }
   ],
   "source": [
    "qformer_outputs['vision_outputs']['pooler_output']"
   ]
  },
  {
   "cell_type": "code",
   "execution_count": null,
   "id": "a3895179",
   "metadata": {},
   "outputs": [],
   "source": []
  },
  {
   "cell_type": "code",
   "execution_count": null,
   "id": "49fa4c74",
   "metadata": {},
   "outputs": [],
   "source": []
  },
  {
   "cell_type": "code",
   "execution_count": null,
   "id": "8c4ac632",
   "metadata": {},
   "outputs": [],
   "source": []
  },
  {
   "cell_type": "code",
   "execution_count": 48,
   "id": "86436c09",
   "metadata": {},
   "outputs": [
    {
     "data": {
      "application/vnd.jupyter.widget-view+json": {
       "model_id": "acc3337c96da45a3b11a39dad631e6f1",
       "version_major": 2,
       "version_minor": 0
      },
      "text/plain": [
       "Loading checkpoint shards:   0%|          | 0/3 [00:00<?, ?it/s]"
      ]
     },
     "metadata": {},
     "output_type": "display_data"
    },
    {
     "name": "stderr",
     "output_type": "stream",
     "text": [
      "Special tokens have been added in the vocabulary, make sure the associated word embeddings are fine-tuned or trained.\n"
     ]
    }
   ],
   "source": [
    "from PIL import Image\n",
    "import requests\n",
    "from transformers import AutoProcessor, LlavaForConditionalGeneration\n",
    "\n",
    "model = LlavaForConditionalGeneration.from_pretrained(\"llava-hf/llava-1.5-7b-hf\")\n",
    "processor = AutoProcessor.from_pretrained(\"llava-hf/llava-1.5-7b-hf\")\n",
    "\n",
    "prompt = \"<image>\\nUSER: What's the content of the image?\\nASSISTANT:\"\n",
    "url = \"https://www.ilankelman.org/stopsigns/australia.jpg\"\n",
    "image = Image.open(requests.get(url, stream=True).raw)\n",
    "\n",
    "inputs = processor(text=[prompt, prompt], images=[image, image], return_tensors=\"pt\", truncation=True, max_length=150)"
   ]
  },
  {
   "cell_type": "code",
   "execution_count": 49,
   "id": "e58e4bc3",
   "metadata": {},
   "outputs": [
    {
     "data": {
      "text/plain": [
       "torch.Size([2, 20])"
      ]
     },
     "execution_count": 49,
     "metadata": {},
     "output_type": "execute_result"
    }
   ],
   "source": [
    "inputs['input_ids'].shape"
   ]
  },
  {
   "cell_type": "code",
   "execution_count": 45,
   "id": "9958cc64",
   "metadata": {},
   "outputs": [],
   "source": [
    "# Generate\n",
    "generate_ids = model(**inputs, output_hidden_states=True)"
   ]
  },
  {
   "cell_type": "code",
   "execution_count": 41,
   "id": "f06a9cea",
   "metadata": {},
   "outputs": [
    {
     "data": {
      "text/plain": [
       "torch.Size([2, 4096])"
      ]
     },
     "execution_count": 41,
     "metadata": {},
     "output_type": "execute_result"
    }
   ],
   "source": [
    "generate_ids['hidden_states'][-1].mean(dim=1).shape"
   ]
  },
  {
   "cell_type": "code",
   "execution_count": 31,
   "id": "175281d7",
   "metadata": {},
   "outputs": [
    {
     "data": {
      "text/plain": [
       "torch.Size([2, 595, 32064])"
      ]
     },
     "execution_count": 31,
     "metadata": {},
     "output_type": "execute_result"
    }
   ],
   "source": [
    "generate_ids[1].shape"
   ]
  },
  {
   "cell_type": "code",
   "execution_count": 32,
   "id": "c17ca7d1",
   "metadata": {},
   "outputs": [
    {
     "name": "stdout",
     "output_type": "stream",
     "text": [
      "loss\n",
      "logits\n",
      "past_key_values\n",
      "hidden_states\n"
     ]
    }
   ],
   "source": [
    "for key in generate_ids: print(key)"
   ]
  },
  {
   "cell_type": "code",
   "execution_count": 35,
   "id": "d589d2cb",
   "metadata": {},
   "outputs": [
    {
     "name": "stdout",
     "output_type": "stream",
     "text": [
      "torch.Size([2, 4096])\n",
      "torch.Size([2, 4096])\n",
      "torch.Size([2, 4096])\n",
      "torch.Size([2, 4096])\n",
      "torch.Size([2, 4096])\n",
      "torch.Size([2, 4096])\n",
      "torch.Size([2, 4096])\n",
      "torch.Size([2, 4096])\n",
      "torch.Size([2, 4096])\n",
      "torch.Size([2, 4096])\n",
      "torch.Size([2, 4096])\n",
      "torch.Size([2, 4096])\n",
      "torch.Size([2, 4096])\n",
      "torch.Size([2, 4096])\n",
      "torch.Size([2, 4096])\n",
      "torch.Size([2, 4096])\n",
      "torch.Size([2, 4096])\n",
      "torch.Size([2, 4096])\n",
      "torch.Size([2, 4096])\n",
      "torch.Size([2, 4096])\n",
      "torch.Size([2, 4096])\n",
      "torch.Size([2, 4096])\n",
      "torch.Size([2, 4096])\n",
      "torch.Size([2, 4096])\n",
      "torch.Size([2, 4096])\n",
      "torch.Size([2, 4096])\n",
      "torch.Size([2, 4096])\n",
      "torch.Size([2, 4096])\n",
      "torch.Size([2, 4096])\n",
      "torch.Size([2, 4096])\n",
      "torch.Size([2, 4096])\n",
      "torch.Size([2, 4096])\n",
      "torch.Size([2, 4096])\n"
     ]
    }
   ],
   "source": [
    "for key in generate_ids['hidden_states']: print(key.mean(dim=1).shape)"
   ]
  },
  {
   "cell_type": "code",
   "execution_count": null,
   "id": "2e3f96af",
   "metadata": {},
   "outputs": [],
   "source": []
  }
 ],
 "metadata": {
  "kernelspec": {
   "display_name": "Python [conda env:data_fusion_v0_0_1]",
   "language": "python",
   "name": "conda-env-data_fusion_v0_0_1-py"
  },
  "language_info": {
   "codemirror_mode": {
    "name": "ipython",
    "version": 3
   },
   "file_extension": ".py",
   "mimetype": "text/x-python",
   "name": "python",
   "nbconvert_exporter": "python",
   "pygments_lexer": "ipython3",
   "version": "3.8.17"
  }
 },
 "nbformat": 4,
 "nbformat_minor": 5
}
