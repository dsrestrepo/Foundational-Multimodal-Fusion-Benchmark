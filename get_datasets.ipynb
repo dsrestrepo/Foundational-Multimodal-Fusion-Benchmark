{
 "cells": [
  {
   "cell_type": "markdown",
   "id": "4c07e485",
   "metadata": {},
   "source": [
    "### Setup Environment:"
   ]
  },
  {
   "cell_type": "code",
   "execution_count": 1,
   "id": "1a1d229f",
   "metadata": {},
   "outputs": [],
   "source": [
    "from src.get_data import get_daquar_dataset, preprocess_daquar_dataset\n",
    "from src.get_data import get_cocoqa_dataset, process_cocoqa_data\n",
    "from src.get_data import download_fakeddit_files, create_stratified_subset_fakeddit, download_full_set_images, download_images_from_file\n",
    "from src.get_data import download_recipes5k_dataset, preprocess_recipes5k"
   ]
  },
  {
   "cell_type": "markdown",
   "id": "0bf25459",
   "metadata": {},
   "source": [
    "### Download Datasets:\n",
    "\n",
    "The Fusion Model has been evaluated in 3 different datasets:"
   ]
  },
  {
   "cell_type": "markdown",
   "id": "15bd6e1c",
   "metadata": {},
   "source": [
    "* **Domestic Violence Dataset**:\n",
    "\n",
    "This dataset uses satellite images, social media data and domestic violence reports. The code and files used to generate and extract the dataset can be found in `datasets/violence_prediction`.\n"
   ]
  },
  {
   "cell_type": "markdown",
   "id": "3be2650b",
   "metadata": {},
   "source": [
    "* **[DAQUAR Dataset](https://www.mpi-inf.mpg.de/departments/computer-vision-and-machine-learning/research/vision-and-language/visual-turing-challenge#c7057)**:\n",
    "\n",
    "DAQUAR (Dataset for Question Answering on Real-world images) dataset was created for the purpose of advancing research in visual question answering (VQA). It consists of indoor scene images, each accompanied by sets of questions related to the scene's content. The dataset serves as a benchmark for training and evaluating models in understanding images and answering questions about them.\n",
    "\n",
    "This dataset can be downloaded from the following [link](https://www.mpi-inf.mpg.de/departments/computer-vision-and-machine-learning/research/vision-and-language/visual-turing-challenge#c7057). Or you can download the dataset using the function `get_daquar_dataset`.\n",
    "\n",
    "Once you have the dataset, use the function `preprocess_daquar_dataset` to proprocess the train and test set, and generate the `labes.csv` file.\n",
    "\n",
    "These functions will generate a dataset with the structure:\n",
    "\n",
    "* output_dir/\n",
    "    * labels.csv\n",
    "    * test.txt\n",
    "    * train.txt\n",
    "    * images/\n",
    "        * image1.png\n",
    "        * image2.png\n",
    "        * image3.png\n",
    "        \n",
    "        ...\n",
    "        \n",
    "        * imagen.png"
   ]
  },
  {
   "cell_type": "code",
   "execution_count": 2,
   "id": "016628de",
   "metadata": {},
   "outputs": [
    {
     "name": "stdout",
     "output_type": "stream",
     "text": [
      "Images downloaded and uncompressed successfully.\n",
      "Labels downloaded successfully.\n",
      "Preprocessed data saved to datasets/daquar/labels.csv\n"
     ]
    }
   ],
   "source": [
    "output_dir = 'datasets/daquar/'\n",
    "get_daquar_dataset(output_dir)\n",
    "preprocess_daquar_dataset(output_dir)"
   ]
  },
  {
   "cell_type": "markdown",
   "id": "e10cd246",
   "metadata": {},
   "source": [
    "* **[COCO-QA Dataset](https://www.cs.toronto.edu/~mren/research/imageqa/data/cocoqa/)**:\n",
    "\n",
    "The COCO-QA (COCO Question-Answering) dataset is designed for the task of visual question-answering. It is a subset of the COCO (Common Objects in Context) dataset, which is a large-scale dataset containing images with object annotations. The COCO-QA dataset extends the COCO dataset by including questions and answers associated with the images. Each image in the COCO-QA dataset is accompanied by a set of questions and corresponding answers.\n",
    "\n",
    "You can use the `get_cocoqa_dataset` Function to download the dataset.\n",
    "\n",
    "Example usage of the function:\n",
    "\n",
    "`get_cocoqa_dataset(output_dir=\"datasets/coco-qa/\")`\n",
    "\n",
    "Also run the function to preprocess the dataset:\n",
    "\n",
    "`process_cocoqa_data(output_dir=\"datasets/coco-qa/\")`\n",
    "\n",
    "After executing these functions, you will have the following structure in the \"datasets/coco-qa/\" directory:\n",
    "\n",
    "* datasets/coco-qa/\n",
    "    * labels.csv\n",
    "    * train/\n",
    "    * test/\n",
    "    * images/\n",
    "        * image1.png\n",
    "        * image2.png\n",
    "        * image3.png\n",
    "        \n",
    "        ...\n",
    "        \n",
    "        * imagen.png "
   ]
  },
  {
   "cell_type": "markdown",
   "id": "94765838",
   "metadata": {},
   "source": [
    "#### "
   ]
  },
  {
   "cell_type": "code",
   "execution_count": 3,
   "id": "78dd9be2",
   "metadata": {},
   "outputs": [
    {
     "name": "stdout",
     "output_type": "stream",
     "text": [
      "COCO-QA dataset downloaded and uncompressed successfully.\n",
      "COCO images downloaded and uncompressed successfully.\n",
      "Train and test dataframes saved successfully.\n",
      "Combined dataframe saved successfully.\n",
      "Images removed successfully.\n"
     ]
    }
   ],
   "source": [
    "# Example usage\n",
    "output_dir = 'datasets/coco-qa/'\n",
    "get_cocoqa_dataset(output_dir)\n",
    "process_cocoqa_data(output_dir)"
   ]
  },
  {
   "cell_type": "markdown",
   "id": "1b6e5b37",
   "metadata": {},
   "source": [
    "* **[Fakeddit Dataset](https://fakeddit.netlify.app/)**:\n",
    "\n",
    "Fakeddit is a large-scale multimodal dataset for fine-grained fake news detection. It consists of over 1 million samples from multiple categories of fake news, including satire, misinformation, and fabricated news. The dataset includes text, images, metadata, and comment data, making it a rich resource for developing and evaluating fake news detection models.\n",
    "\n",
    "You can use the se the function `download_fakeddit_files` to download the metadata, and the function `download_full_set_images`to get the full set of Images. \n",
    "\n",
    "Since the full set of images contains 1M images, we'll provide a function to generate a subset, to run the experiments with less resources. Use the function `create_stratified_subset_fakeddit`. This function will generate a `labels.csv` file with the subset.\n",
    "\n",
    "You can also use the `download_images_from_file` to download the images from an specific file\n"
   ]
  },
  {
   "cell_type": "code",
   "execution_count": null,
   "id": "3a255493",
   "metadata": {},
   "outputs": [
    {
     "name": "stderr",
     "output_type": "stream",
     "text": [
      "  0%|          | 4/68078 [00:10<52:11:44,  2.76s/it]"
     ]
    },
    {
     "name": "stdout",
     "output_type": "stream",
     "text": [
      "Failed to download image 'cxiu2qb.jpg' after 5 retries.\n"
     ]
    },
    {
     "name": "stderr",
     "output_type": "stream",
     "text": [
      "  0%|          | 7/68078 [00:20<58:23:33,  3.09s/it]"
     ]
    },
    {
     "name": "stdout",
     "output_type": "stream",
     "text": [
      "Failed to download image 'cfznghq.jpg' after 5 retries.\n"
     ]
    },
    {
     "name": "stderr",
     "output_type": "stream",
     "text": [
      "  0%|          | 8/68078 [00:30<85:11:23,  4.51s/it]"
     ]
    },
    {
     "name": "stdout",
     "output_type": "stream",
     "text": [
      "Failed to download image 'czykq9q.jpg' after 5 retries.\n"
     ]
    },
    {
     "name": "stderr",
     "output_type": "stream",
     "text": [
      "  0%|          | 10/68078 [00:30<54:35:24,  2.89s/it]"
     ]
    }
   ],
   "source": [
    "# Example usage\n",
    "output_dir = 'datasets/fakeddit/'\n",
    "\n",
    "# Metadata:\n",
    "#download_fakeddit_files(output_dir)\n",
    "\n",
    "# Random subset:\n",
    "#subset_size = 0.1  # 10% subset size\n",
    "#create_stratified_subset_fakeddit(output_dir, subset_size)\n",
    "\n",
    "# Images:\n",
    "#download_full_set_images(output_dir)\n",
    "download_images_from_file(output_dir, 'labels.csv')"
   ]
  },
  {
   "cell_type": "markdown",
   "id": "8dba28c8",
   "metadata": {},
   "source": [
    "* **[Recipes5k Dataset](http://www.ub.edu/cvub/recipes5k/)**:\n",
    "\n",
    "The Recipes5k dataset comprises 4,826 recipes featuring images and corresponding ingredient lists, with 3,213 unique ingredients simplified from 1,014 by removing overly-descriptive particles, offering a diverse collection of alternative preparations for each of the 101 food types from Food101, meticulously balanced across training, validation, and test splits. The dataset addresses intra- and inter-class variability, extracted from Yummly with 50 recipes per food type.\n",
    "\n",
    "You can use the se the function `download_recipes5k_dataset` to download the dataset. Use the function `preprocess_recipes5k` to preprocess the dataset. These function will generate the following structure:\n",
    "\n",
    "* preprocess_recipes5k\n",
    "    * labels.csv\n",
    "    * Images/\n",
    "        * class_1/\n",
    "            * img_1\n",
    "            * img_2\n",
    "            ...\n",
    "        * class_2/\n",
    "            * img_1\n",
    "            * img_2\n",
    "            ...\n",
    "        ...\n",
    "        * class_n/\n",
    "            * img_1\n",
    "            * img_2\n",
    "            ..."
   ]
  },
  {
   "cell_type": "code",
   "execution_count": 3,
   "id": "dd52ef02",
   "metadata": {},
   "outputs": [],
   "source": [
    "# Example usage\n",
    "# The function generates the directory 'Recipes5k' by default, so you don't have to specify that.\n",
    "output_dir = 'datasets/'\n",
    "download_recipes5k_dataset(output_dir)\n",
    "preprocess_recipes5k('datasets/Recipes5k/')"
   ]
  },
  {
   "cell_type": "code",
   "execution_count": null,
   "id": "f2e32ca7",
   "metadata": {},
   "outputs": [],
   "source": []
  }
 ],
 "metadata": {
  "kernelspec": {
   "display_name": "Python [conda env:data_fusion_v0_0_1]",
   "language": "python",
   "name": "conda-env-data_fusion_v0_0_1-py"
  },
  "language_info": {
   "codemirror_mode": {
    "name": "ipython",
    "version": 3
   },
   "file_extension": ".py",
   "mimetype": "text/x-python",
   "name": "python",
   "nbconvert_exporter": "python",
   "pygments_lexer": "ipython3",
   "version": "3.8.17"
  }
 },
 "nbformat": 4,
 "nbformat_minor": 5
}
