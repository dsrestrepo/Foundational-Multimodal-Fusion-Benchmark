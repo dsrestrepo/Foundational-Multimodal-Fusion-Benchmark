{
 "cells": [
  {
   "cell_type": "markdown",
   "id": "5f4a1ecd",
   "metadata": {},
   "source": [
    "### Setup Environment:"
   ]
  },
  {
   "cell_type": "code",
   "execution_count": 1,
   "id": "f6b81fbf-0ee8-498b-bceb-c1558c0bef1c",
   "metadata": {
    "collapsed": true,
    "jupyter": {
     "outputs_hidden": true
    },
    "tags": []
   },
   "outputs": [
    {
     "ename": "ImportError",
     "evalue": "cannot import name 'UMAP' from 'umap' (/home/sebastian/anaconda3/lib/python3.11/site-packages/umap/__init__.py)",
     "output_type": "error",
     "traceback": [
      "\u001b[0;31m---------------------------------------------------------------------------\u001b[0m",
      "\u001b[0;31mImportError\u001b[0m                               Traceback (most recent call last)",
      "Cell \u001b[0;32mIn[1], line 1\u001b[0m\n\u001b[0;32m----> 1\u001b[0m \u001b[38;5;28;01mfrom\u001b[39;00m \u001b[38;5;21;01msrc\u001b[39;00m\u001b[38;5;21;01m.\u001b[39;00m\u001b[38;5;21;01membeddings\u001b[39;00m \u001b[38;5;28;01mimport\u001b[39;00m get_embeddings_df\n\u001b[1;32m      2\u001b[0m \u001b[38;5;28;01mimport\u001b[39;00m \u001b[38;5;21;01mpandas\u001b[39;00m \u001b[38;5;28;01mas\u001b[39;00m \u001b[38;5;21;01mpd\u001b[39;00m\n",
      "File \u001b[0;32m/media/enc/vera1/sebastian/codes/Foundational-Multimodal-Fusion-Benchmark/src/embeddings.py:44\u001b[0m\n\u001b[1;32m     42\u001b[0m \u001b[38;5;28;01mfrom\u001b[39;00m \u001b[38;5;21;01msklearn\u001b[39;00m\u001b[38;5;21;01m.\u001b[39;00m\u001b[38;5;21;01mmanifold\u001b[39;00m \u001b[38;5;28;01mimport\u001b[39;00m TSNE\n\u001b[1;32m     43\u001b[0m \u001b[38;5;28;01mfrom\u001b[39;00m \u001b[38;5;21;01msklearn\u001b[39;00m\u001b[38;5;21;01m.\u001b[39;00m\u001b[38;5;21;01mdecomposition\u001b[39;00m \u001b[38;5;28;01mimport\u001b[39;00m PCA\n\u001b[0;32m---> 44\u001b[0m \u001b[38;5;28;01mfrom\u001b[39;00m \u001b[38;5;21;01mumap\u001b[39;00m \u001b[38;5;28;01mimport\u001b[39;00m UMAP\n\u001b[1;32m     45\u001b[0m \u001b[38;5;28;01mimport\u001b[39;00m \u001b[38;5;21;01mplotly\u001b[39;00m\u001b[38;5;21;01m.\u001b[39;00m\u001b[38;5;21;01mgraph_objects\u001b[39;00m \u001b[38;5;28;01mas\u001b[39;00m \u001b[38;5;21;01mgo\u001b[39;00m\n\u001b[1;32m     46\u001b[0m \u001b[38;5;28;01mimport\u001b[39;00m \u001b[38;5;21;01mplotly\u001b[39;00m\u001b[38;5;21;01m.\u001b[39;00m\u001b[38;5;21;01mexpress\u001b[39;00m \u001b[38;5;28;01mas\u001b[39;00m \u001b[38;5;21;01mpx\u001b[39;00m\n",
      "\u001b[0;31mImportError\u001b[0m: cannot import name 'UMAP' from 'umap' (/home/sebastian/anaconda3/lib/python3.11/site-packages/umap/__init__.py)"
     ]
    }
   ],
   "source": [
    "from src.embeddings import get_embeddings_df\n",
    "import pandas as pd"
   ]
  },
  {
   "cell_type": "markdown",
   "id": "41eea893",
   "metadata": {},
   "source": [
    "## Embeddings Generation\n",
    "\n",
    "* **Batch Size:** Images per batch to convert to embeddings (Adjust depending on your memory)\n",
    "\n",
    "* **Path:** Path to the images\n",
    "\n",
    "* **Output Directory:** Directory to save the embeddings\n",
    "\n",
    "* **Backbone:** Select a backbone from the list of possible backbones:\n",
    "    * 'dinov2_small'\n",
    "    * 'dinov2_base'\n",
    "    * 'dinov2_large'\n",
    "    * 'dinov2_giant'\n",
    "    * 'sam_base'\n",
    "    * 'sam_large'\n",
    "    * 'sam_huge'\n",
    "    * 'clip_base',\n",
    "    * 'clip_large',\n",
    "    * 'convnextv2_tiny'\n",
    "    * 'convnextv2_base'\n",
    "    * 'convnextv2_large'\n",
    "    * 'convnext_tiny'\n",
    "    * 'convnext_small'\n",
    "    * 'convnext_base'\n",
    "    * 'convnext_large'\n",
    "    * 'swin_tiny'\n",
    "    * 'swin_small'\n",
    "    * 'swin_base'\n",
    "    * 'vit_base'\n",
    "    * 'vit_large'"
   ]
  },
  {
   "cell_type": "code",
   "execution_count": null,
   "id": "628a2033",
   "metadata": {
    "tags": []
   },
   "outputs": [],
   "source": [
    "# Foundational Models\n",
    "dino_backbone = ['dinov2_small', 'dinov2_base', 'dinov2_large', 'dinov2_giant']\n",
    "\n",
    "sam_backbone = ['sam_base', 'sam_large', 'sam_huge']\n",
    "\n",
    "clip_backbone = ['clip_base', 'clip_large']\n",
    "\n",
    "# ImageNet:\n",
    "\n",
    "### Convnext\n",
    "convnext_backbone = ['convnextv2_tiny', 'convnextv2_base', 'convnextv2_large'] + ['convnext_tiny', 'convnext_small', 'convnext_base', 'convnext_large']\n",
    "\n",
    "### Swin Transformer\n",
    "swin_transformer_backbone = ['swin_tiny', 'swin_small', 'swin_base']\n",
    "\n",
    "### ViT\n",
    "vit_backbone = ['vit_base', 'vit_large']\n",
    "\n",
    "backbones = dino_backbone + clip_backbone + sam_backbone + convnext_backbone + swin_transformer_backbone + vit_backbone\n",
    "\n",
    "backbones"
   ]
  },
  {
   "cell_type": "markdown",
   "id": "7f2853b3",
   "metadata": {},
   "source": [
    "## 1. DAQUAR\n",
    "\n",
    "* **[DAQUAR Dataset](https://www.mpi-inf.mpg.de/departments/computer-vision-and-machine-learning/research/vision-and-language/visual-turing-challenge#c7057)**:\n",
    "\n",
    "DAQUAR (Dataset for Question Answering on Real-world images) dataset was created for the purpose of advancing research in visual question answering (VQA). It consists of indoor scene images, each accompanied by sets of questions related to the scene's content. The dataset serves as a benchmark for training and evaluating models in understanding images and answering questions about them.\n",
    "\n",
    "We'll use the function `get_embeddings_df` to generate the embeddings in `datasets/daquar/images` and store the embeddings in `Embeddings/daquar/Embeddings_Backbone.csv`"
   ]
  },
  {
   "cell_type": "code",
   "execution_count": null,
   "id": "afb6e298",
   "metadata": {},
   "outputs": [],
   "source": [
    "batch_size = 32\n",
    "path = 'datasets/daquar/images'\n",
    "dataset = 'daquar'\n",
    "backbone = 'dinov2_base'\n",
    "out_dir = 'Embeddings'\n",
    "\n",
    "get_embeddings_df(batch_size=batch_size, path=path, dataset_name=dataset, backbone=backbone, directory=out_dir)"
   ]
  },
  {
   "cell_type": "markdown",
   "id": "8f9afc23",
   "metadata": {},
   "source": [
    "## 2. COCO-QA\n",
    "\n",
    "* **[COCO-QA Dataset](https://www.cs.toronto.edu/~mren/research/imageqa/data/cocoqa/)**:\n",
    "\n",
    "The COCO-QA (COCO Question-Answering) dataset is designed for the task of visual question-answering. It is a subset of the COCO (Common Objects in Context) dataset, which is a large-scale dataset containing images with object annotations. The COCO-QA dataset extends the COCO dataset by including questions and answers associated with the images. Each image in the COCO-QA dataset is accompanied by a set of questions and corresponding answers.\n",
    "\n",
    "We'll use the function `get_embeddings_df` to generate the embeddings in `datasets/coco-qa/images` and store the embeddings in `Embeddings/coco-qa/Embeddings_Backbone.csv`"
   ]
  },
  {
   "cell_type": "code",
   "execution_count": null,
   "id": "bd7f760e",
   "metadata": {
    "tags": []
   },
   "outputs": [],
   "source": [
    "batch_size = 32\n",
    "path = 'datasets/coco-qa/images'\n",
    "dataset = 'coco-qa'\n",
    "backbone = 'dinov2_base'\n",
    "out_dir = 'Embeddings'\n",
    "\n",
    "get_embeddings_df(batch_size=batch_size, path=path, dataset_name=dataset, backbone=backbone, directory=out_dir)"
   ]
  },
  {
   "cell_type": "markdown",
   "id": "394bdbd2",
   "metadata": {},
   "source": [
    "#### "
   ]
  },
  {
   "cell_type": "markdown",
   "id": "5d3e5971",
   "metadata": {},
   "source": [
    "## 2. Fakeddit\n",
    "\n",
    "* **[Fakeddit Dataset](https://fakeddit.netlify.app/)**:\n",
    "\n",
    "Fakeddit is a large-scale multimodal dataset for fine-grained fake news detection. It consists of over 1 million samples from multiple categories of fake news, including satire, misinformation, and fabricated news. The dataset includes text, images, metadata, and comment data, making it a rich resource for developing and evaluating fake news detection models.\n",
    "\n",
    "We'll use the function `get_embeddings_df` to generate the embeddings in `datasets/fakeddit/images` and store the embeddings in `Embeddings/fakeddit/Embeddings_Backbone.csv`"
   ]
  },
  {
   "cell_type": "code",
   "execution_count": null,
   "id": "e145187b",
   "metadata": {
    "tags": []
   },
   "outputs": [],
   "source": [
    "batch_size = 32\n",
    "path = 'datasets/fakeddit/images'\n",
    "dataset = 'fakeddit'\n",
    "backbone = 'dinov2_base'\n",
    "out_dir = 'Embeddings'\n",
    "image_files = pd.read_csv('datasets/fakeddit/labels.csv')['id'].tolist()\n",
    "\n",
    "get_embeddings_df(batch_size=batch_size, path=path, dataset_name=dataset, backbone=backbone, directory=out_dir, image_files=image_files)"
   ]
  },
  {
   "cell_type": "markdown",
   "id": "55a18d1e",
   "metadata": {},
   "source": [
    "## 4. Recipes5k\n",
    "\n",
    "* **[Recipes5k Dataset](http://www.ub.edu/cvub/recipes5k/)**:\n",
    "\n",
    "The Recipes5k dataset comprises 4,826 recipes featuring images and corresponding ingredient lists, with 3,213 unique ingredients simplified from 1,014 by removing overly-descriptive particles, offering a diverse collection of alternative preparations for each of the 101 food types from Food101, meticulously balanced across training, validation, and test splits. The dataset addresses intra- and inter-class variability, extracted from Yummly with 50 recipes per food type.\n",
    "\n",
    "\n",
    "We'll use the function `get_embeddings_df` to generate the embeddings in `datasets/Recipes5k/images` and store the embeddings in `Embeddings/Recipes5k/Embeddings_Backbone.csv`"
   ]
  },
  {
   "cell_type": "code",
   "execution_count": null,
   "id": "1a81dadf",
   "metadata": {},
   "outputs": [],
   "source": [
    "batch_size = 32\n",
    "path = 'datasets/Recipes5k/images'\n",
    "dataset = 'Recipes5k'\n",
    "backbone = 'dinov2_base'\n",
    "out_dir = 'Embeddings'\n",
    "image_files = pd.read_csv('datasets/Recipes5k/labels.csv')['image'].tolist()\n",
    "\n",
    "get_embeddings_df(batch_size=batch_size, path=path, dataset_name=dataset, backbone=backbone, directory=out_dir, image_files=image_files)"
   ]
  },
  {
   "cell_type": "markdown",
   "id": "ae16303f",
   "metadata": {},
   "source": [
    "## 5. BRSET\n",
    "* **[BRSET Dataset](https://physionet.org/content/brazilian-ophthalmological/1.0.0/)**:\n",
    "\n",
    "The Brazilian Multilabel Ophthalmological Dataset (BRSET) stands as a pioneering initiative aimed at bridging the gap in ophthalmological datasets, particularly for under-represented populations in low and medium-income countries. This comprehensive dataset encompasses 16,266 images from 8,524 Brazilian patients, incorporating a wide array of data points including demographics, anatomical parameters of the macula, optic disc, and vessels, along with quality control metrics such as focus, illumination, image field, and artifacts."
   ]
  },
  {
   "cell_type": "code",
   "execution_count": null,
   "id": "96005291",
   "metadata": {},
   "outputs": [],
   "source": [
    "batch_size = 32\n",
    "path = 'datasets/brset/images'\n",
    "dataset = 'brset'\n",
    "backbone = 'dinov2_giant'\n",
    "out_dir = 'Embeddings'\n",
    "\n",
    "get_embeddings_df(batch_size=batch_size, path=path, dataset_name=dataset, backbone=backbone, directory=out_dir)"
   ]
  },
  {
   "cell_type": "markdown",
   "id": "18e24a09",
   "metadata": {},
   "source": [
    "### 6. HAM10000 dataset\n",
    "\n",
    "* [HAM10000 dataset](https://dataverse.harvard.edu/dataset.xhtml?persistentId=doi:10.7910/DVN/DBW86T)\n",
    "\n",
    "The MNIST: HAM10000 dataset is a large collection of dermatoscopic images from different populations, acquired and stored by the Department of Dermatology at the Medical University of Vienna, Austria. It consists of 10,015 dermatoscopic images which can serve as a training set for academic machine learning purposes in tasks like skin lesion analysis and classification, specifically focusing on the detection of melanoma."
   ]
  },
  {
   "cell_type": "code",
   "execution_count": null,
   "id": "e1497f9a",
   "metadata": {},
   "outputs": [],
   "source": [
    "batch_size = 32\n",
    "path = 'datasets/ham10000/images'\n",
    "dataset = 'ham10000'\n",
    "backbone = 'dinov2_base'\n",
    "out_dir = 'Embeddings'\n",
    "\n",
    "get_embeddings_df(batch_size=batch_size, path=path, dataset_name=dataset, backbone=backbone, directory=out_dir)"
   ]
  },
  {
   "cell_type": "markdown",
   "id": "ddd2288a",
   "metadata": {},
   "source": [
    "### 7. Colombian Multimodal Satellite dataset\n",
    "* **[A Multi-Modal Satellite Imagery Dataset for Public Health Analysis in Colombia](https://physionet.org/content/multimodal-satellite-data/1.0.0/)**:\n",
    "\n",
    "The Multi-Modal Satellite Imagery Dataset in Colombia integrates economic, demographic, meteorological, and epidemiological data. It comprises 12,636 high-quality satellite images from 81 municipalities between 2016 and 2018, with minimal cloud cover. Its applications include deforestation monitoring, education indices forecasting, water quality assessment, extreme climatic event tracking, epidemic illness addressing, and precision agriculture optimization. We'll use it shortly."
   ]
  },
  {
   "cell_type": "code",
   "execution_count": null,
   "id": "71951501",
   "metadata": {},
   "outputs": [],
   "source": [
    "batch_size = 32\n",
    "path = 'datasets/satellitedata/images'\n",
    "dataset = 'satellitedata'\n",
    "backbone = 'dinov2_base'\n",
    "out_dir = 'Embeddings'\n",
    "\n",
    "get_embeddings_df(batch_size=batch_size, path=path, dataset_name=dataset, backbone=backbone, directory=out_dir)"
   ]
  },
  {
   "cell_type": "markdown",
   "id": "13033069",
   "metadata": {},
   "source": [
    "## 8. MIMIC CXR\n",
    "* **[MIMIC CXR](https://physionet.org/content/mimic-cxr/2.0.0/#files-panel)**:\n",
    "\n",
    "The MIMIC-CXR (Medical Information Mart for Intensive Care, Chest X-Ray) dataset is a large, publicly available collection of chest radiographs with associated radiology reports. It was developed by the MIT Lab for Computational Physiology and provides an extensive resource for training and evaluating machine learning models in the field of medical imaging, particularly in automated radiograph interpretation and natural language processing for clinical narratives."
   ]
  },
  {
   "cell_type": "code",
   "execution_count": null,
   "id": "18b240cd",
   "metadata": {},
   "outputs": [],
   "source": [
    "batch_size = 32\n",
    "path = 'datasets/mimic/images'\n",
    "dataset = 'mimic'\n",
    "backbone = 'dinov2_base'\n",
    "out_dir = 'Embeddings'\n",
    "\n",
    "get_embeddings_df(batch_size=batch_size, path=path, dataset_name=dataset, backbone=backbone, directory=out_dir)"
   ]
  },
  {
   "cell_type": "markdown",
   "id": "fe9ad2e1",
   "metadata": {},
   "source": [
    "# 9. Joslin Center Data"
   ]
  },
  {
   "cell_type": "code",
   "execution_count": null,
   "id": "fdf34902",
   "metadata": {
    "tags": []
   },
   "outputs": [],
   "source": [
    "batch_size = 32\n",
    "path = 'datasets/joslin/images'\n",
    "dataset = 'joslin'\n",
    "backbone = 'dinov2_base'\n",
    "out_dir = 'Embeddings'\n",
    "device = \"cuda\"\n",
    "\n",
    "get_embeddings_df(batch_size=batch_size, path=path, dataset_name=dataset, backbone=backbone, directory=out_dir)"
   ]
  }
 ],
 "metadata": {
  "kernelspec": {
   "display_name": "foundational",
   "language": "python",
   "name": "foundational"
  },
  "language_info": {
   "codemirror_mode": {
    "name": "ipython",
    "version": 3
   },
   "file_extension": ".py",
   "mimetype": "text/x-python",
   "name": "python",
   "nbconvert_exporter": "python",
   "pygments_lexer": "ipython3",
   "version": "3.11.4"
  }
 },
 "nbformat": 4,
 "nbformat_minor": 5
}
