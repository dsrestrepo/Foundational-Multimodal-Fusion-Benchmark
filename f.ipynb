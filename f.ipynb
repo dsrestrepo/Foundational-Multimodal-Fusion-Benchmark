{
 "cells": [
  {
   "cell_type": "markdown",
   "id": "8a505681",
   "metadata": {},
   "source": [
    "### OCI Data Science - Useful Tips\n",
    "<details>\n",
    "<summary><font size=\"2\">Check for Public Internet Access</font></summary>\n",
    "\n",
    "```python\n",
    "import requests\n",
    "response = requests.get(\"https://oracle.com\")\n",
    "assert response.status_code==200, \"Internet connection failed\"\n",
    "```\n",
    "</details>\n",
    "<details>\n",
    "<summary><font size=\"2\">Helpful Documentation </font></summary>\n",
    "<ul><li><a href=\"https://docs.cloud.oracle.com/en-us/iaas/data-science/using/data-science.htm\">Data Science Service Documentation</a></li>\n",
    "<li><a href=\"https://docs.cloud.oracle.com/iaas/tools/ads-sdk/latest/index.html\">ADS documentation</a></li>\n",
    "</ul>\n",
    "</details>\n",
    "<details>\n",
    "<summary><font size=\"2\">Typical Cell Imports and Settings for ADS</font></summary>\n",
    "\n",
    "```python\n",
    "%load_ext autoreload\n",
    "%autoreload 2\n",
    "%matplotlib inline\n",
    "\n",
    "import warnings\n",
    "warnings.filterwarnings('ignore')\n",
    "\n",
    "import logging\n",
    "logging.basicConfig(format='%(levelname)s:%(message)s', level=logging.ERROR)\n",
    "\n",
    "import ads\n",
    "from ads.dataset.factory import DatasetFactory\n",
    "from ads.automl.provider import OracleAutoMLProvider\n",
    "from ads.automl.driver import AutoML\n",
    "from ads.evaluations.evaluator import ADSEvaluator\n",
    "from ads.common.data import ADSData\n",
    "from ads.explanations.explainer import ADSExplainer\n",
    "from ads.explanations.mlx_global_explainer import MLXGlobalExplainer\n",
    "from ads.explanations.mlx_local_explainer import MLXLocalExplainer\n",
    "from ads.catalog.model import ModelCatalog\n",
    "from ads.common.model_artifact import ModelArtifact\n",
    "```\n",
    "</details>\n",
    "<details>\n",
    "<summary><font size=\"2\">Useful Environment Variables</font></summary>\n",
    "\n",
    "```python\n",
    "import os\n",
    "print(os.environ[\"NB_SESSION_COMPARTMENT_OCID\"])\n",
    "print(os.environ[\"PROJECT_OCID\"])\n",
    "print(os.environ[\"USER_OCID\"])\n",
    "print(os.environ[\"TENANCY_OCID\"])\n",
    "print(os.environ[\"NB_REGION\"])\n",
    "```\n",
    "</details>"
   ]
  },
  {
   "cell_type": "code",
   "execution_count": 1,
   "id": "71a3e65c",
   "metadata": {},
   "outputs": [],
   "source": [
    "import os\n",
    "import pandas as pd"
   ]
  },
  {
   "cell_type": "code",
   "execution_count": 8,
   "id": "f42fc3f3",
   "metadata": {},
   "outputs": [
    {
     "data": {
      "text/plain": [
       "69172"
      ]
     },
     "execution_count": 8,
     "metadata": {},
     "output_type": "execute_result"
    }
   ],
   "source": [
    "images = os.listdir('datasets/coco-qa/images/')\n",
    "len(images)"
   ]
  },
  {
   "cell_type": "code",
   "execution_count": 4,
   "id": "0246281a",
   "metadata": {},
   "outputs": [
    {
     "data": {
      "text/plain": [
       "69172"
      ]
     },
     "execution_count": 4,
     "metadata": {},
     "output_type": "execute_result"
    }
   ],
   "source": [
    "image_ids = pd.unique(pd.read_csv('datasets/coco-qa/labels.csv')['image_id']).tolist()\n",
    "len(image_ids)"
   ]
  },
  {
   "cell_type": "code",
   "execution_count": 5,
   "id": "f79169ec",
   "metadata": {},
   "outputs": [],
   "source": [
    "def verify_ids(images, image_ids):\n",
    "    image_id_set = set(image_ids)\n",
    "    \n",
    "    ids_in_images = []\n",
    "    ids_not_in_images = []\n",
    "\n",
    "    for i, image in enumerate(images):\n",
    "        # Extract the numeric part from the image filename\n",
    "        image_number = int(image.split('.')[0])\n",
    "        \n",
    "        if image_number in image_id_set:\n",
    "            ids_in_images.append((image, image_number))\n",
    "        else:\n",
    "            ids_not_in_images.append((image, image_number))\n",
    "    \n",
    "    return ids_in_images, ids_not_in_images"
   ]
  },
  {
   "cell_type": "code",
   "execution_count": 6,
   "id": "a0719045",
   "metadata": {},
   "outputs": [
    {
     "name": "stdout",
     "output_type": "stream",
     "text": [
      "Number of IDs present in images: 69172\n",
      "Number of IDs not present in images: 0\n"
     ]
    }
   ],
   "source": [
    "ids_in_images, ids_not_in_images = verify_ids(images, image_ids)\n",
    "\n",
    "print(f\"Number of IDs present in images: {len(ids_in_images)}\")\n",
    "print(f\"Number of IDs not present in images: {len(ids_not_in_images)}\")"
   ]
  },
  {
   "cell_type": "code",
   "execution_count": null,
   "id": "f9c9ac6c",
   "metadata": {},
   "outputs": [],
   "source": []
  }
 ],
 "metadata": {
  "kernelspec": {
   "display_name": "Python [conda env:data_fusion_v0_0_1]",
   "language": "python",
   "name": "conda-env-data_fusion_v0_0_1-py"
  },
  "language_info": {
   "codemirror_mode": {
    "name": "ipython",
    "version": 3
   },
   "file_extension": ".py",
   "mimetype": "text/x-python",
   "name": "python",
   "nbconvert_exporter": "python",
   "pygments_lexer": "ipython3",
   "version": "3.8.17"
  }
 },
 "nbformat": 4,
 "nbformat_minor": 5
}
