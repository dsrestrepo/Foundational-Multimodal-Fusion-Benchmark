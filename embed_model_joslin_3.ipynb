{
 "cells": [
  {
   "cell_type": "markdown",
   "id": "c0aad289",
   "metadata": {},
   "source": [
    "### Joslin\n",
    "\n",
    "* [Dataset]"
   ]
  },
  {
   "cell_type": "markdown",
   "id": "433a334a",
   "metadata": {},
   "source": [
    "### Setup Environment:"
   ]
  },
  {
   "cell_type": "code",
   "execution_count": 1,
   "id": "b52c9b3f",
   "metadata": {
    "tags": []
   },
   "outputs": [],
   "source": [
    "import os\n",
    "import pandas as pd\n",
    "\n",
    "from src.classifiers import preprocess_data, process_labels,split_data\n",
    "\n",
    "from src.classifiers import VQADataset\n",
    "from torch.utils.data import DataLoader\n",
    "\n",
    "from src.classifiers_cpu_metrics import train_early_fusion, train_late_fusion"
   ]
  },
  {
   "cell_type": "code",
   "execution_count": 2,
   "id": "0c42c014",
   "metadata": {
    "tags": []
   },
   "outputs": [],
   "source": [
    "PATH = 'Embeddings/joslin/'\n",
    "COLUMN = 'embeddings'"
   ]
  },
  {
   "cell_type": "code",
   "execution_count": 3,
   "id": "16e947b5",
   "metadata": {
    "tags": []
   },
   "outputs": [],
   "source": [
    "text_path, images_path = 'text_embeddings.csv', 'Embeddings_dinov2_base.csv' # os.listdir(PATH)"
   ]
  },
  {
   "cell_type": "markdown",
   "id": "a558237e",
   "metadata": {},
   "source": [
    "## Get data"
   ]
  },
  {
   "cell_type": "markdown",
   "id": "c1ee67d4",
   "metadata": {},
   "source": [
    "### Text"
   ]
  },
  {
   "cell_type": "code",
   "execution_count": 4,
   "id": "2d4f262d",
   "metadata": {
    "tags": []
   },
   "outputs": [
    {
     "data": {
      "text/html": [
       "<div>\n",
       "<style scoped>\n",
       "    .dataframe tbody tr th:only-of-type {\n",
       "        vertical-align: middle;\n",
       "    }\n",
       "\n",
       "    .dataframe tbody tr th {\n",
       "        vertical-align: top;\n",
       "    }\n",
       "\n",
       "    .dataframe thead th {\n",
       "        text-align: right;\n",
       "    }\n",
       "</style>\n",
       "<table border=\"1\" class=\"dataframe\">\n",
       "  <thead>\n",
       "    <tr style=\"text-align: right;\">\n",
       "      <th></th>\n",
       "      <th>ID</th>\n",
       "      <th>EYE_DR</th>\n",
       "      <th>text</th>\n",
       "      <th>DR_2</th>\n",
       "      <th>DR_3</th>\n",
       "      <th>split</th>\n",
       "      <th>embeddings</th>\n",
       "    </tr>\n",
       "  </thead>\n",
       "  <tbody>\n",
       "    <tr>\n",
       "      <th>0</th>\n",
       "      <td>67870</td>\n",
       "      <td>2</td>\n",
       "      <td>An image from the left eye of a female  patien...</td>\n",
       "      <td>1</td>\n",
       "      <td>1</td>\n",
       "      <td>train</td>\n",
       "      <td>[0.8949114084243774, 0.6178004741668701, -1.34...</td>\n",
       "    </tr>\n",
       "    <tr>\n",
       "      <th>1</th>\n",
       "      <td>19446</td>\n",
       "      <td>2</td>\n",
       "      <td>An image from the left eye of a female  patien...</td>\n",
       "      <td>1</td>\n",
       "      <td>1</td>\n",
       "      <td>train</td>\n",
       "      <td>[1.0349855422973633, 1.2772152423858643, -1.71...</td>\n",
       "    </tr>\n",
       "    <tr>\n",
       "      <th>2</th>\n",
       "      <td>113968</td>\n",
       "      <td>2</td>\n",
       "      <td>An image from the right eye of a male  patient...</td>\n",
       "      <td>1</td>\n",
       "      <td>1</td>\n",
       "      <td>train</td>\n",
       "      <td>[0.7820802927017212, 0.5888915657997131, -0.89...</td>\n",
       "    </tr>\n",
       "    <tr>\n",
       "      <th>3</th>\n",
       "      <td>50528</td>\n",
       "      <td>1</td>\n",
       "      <td>An image from the right eye of a male  patient...</td>\n",
       "      <td>1</td>\n",
       "      <td>1</td>\n",
       "      <td>train</td>\n",
       "      <td>[0.9266375303268433, 1.2518030405044556, -1.40...</td>\n",
       "    </tr>\n",
       "    <tr>\n",
       "      <th>4</th>\n",
       "      <td>91254</td>\n",
       "      <td>0</td>\n",
       "      <td>An image from the right eye of a male American...</td>\n",
       "      <td>0</td>\n",
       "      <td>0</td>\n",
       "      <td>train</td>\n",
       "      <td>[1.0237936973571777, 1.0459136962890625, -0.75...</td>\n",
       "    </tr>\n",
       "    <tr>\n",
       "      <th>...</th>\n",
       "      <td>...</td>\n",
       "      <td>...</td>\n",
       "      <td>...</td>\n",
       "      <td>...</td>\n",
       "      <td>...</td>\n",
       "      <td>...</td>\n",
       "      <td>...</td>\n",
       "    </tr>\n",
       "    <tr>\n",
       "      <th>24095</th>\n",
       "      <td>148958</td>\n",
       "      <td>1</td>\n",
       "      <td>An image from the left eye of a male  patient,...</td>\n",
       "      <td>1</td>\n",
       "      <td>1</td>\n",
       "      <td>train</td>\n",
       "      <td>[0.9834482073783875, 1.3777140378952026, -1.40...</td>\n",
       "    </tr>\n",
       "    <tr>\n",
       "      <th>24096</th>\n",
       "      <td>96198</td>\n",
       "      <td>0</td>\n",
       "      <td>An image from the right eye of a no sex report...</td>\n",
       "      <td>0</td>\n",
       "      <td>0</td>\n",
       "      <td>train</td>\n",
       "      <td>[1.0272547006607056, 1.4537794589996338, 0.309...</td>\n",
       "    </tr>\n",
       "    <tr>\n",
       "      <th>24097</th>\n",
       "      <td>82724</td>\n",
       "      <td>2</td>\n",
       "      <td>An image from the left eye of a female White p...</td>\n",
       "      <td>1</td>\n",
       "      <td>1</td>\n",
       "      <td>train</td>\n",
       "      <td>[0.5230445861816406, 0.7840505838394165, -1.13...</td>\n",
       "    </tr>\n",
       "    <tr>\n",
       "      <th>24098</th>\n",
       "      <td>173196</td>\n",
       "      <td>1</td>\n",
       "      <td>An image from the left eye of a female  patien...</td>\n",
       "      <td>1</td>\n",
       "      <td>1</td>\n",
       "      <td>train</td>\n",
       "      <td>[0.9105090498924255, 1.2843393087387085, -1.58...</td>\n",
       "    </tr>\n",
       "    <tr>\n",
       "      <th>24099</th>\n",
       "      <td>53818</td>\n",
       "      <td>1</td>\n",
       "      <td>An image from the right eye of a no sex report...</td>\n",
       "      <td>1</td>\n",
       "      <td>1</td>\n",
       "      <td>train</td>\n",
       "      <td>[0.9536399841308594, 1.3582689762115479, 0.423...</td>\n",
       "    </tr>\n",
       "  </tbody>\n",
       "</table>\n",
       "<p>24100 rows × 7 columns</p>\n",
       "</div>"
      ],
      "text/plain": [
       "           ID  EYE_DR                                               text  \\\n",
       "0       67870       2  An image from the left eye of a female  patien...   \n",
       "1       19446       2  An image from the left eye of a female  patien...   \n",
       "2      113968       2  An image from the right eye of a male  patient...   \n",
       "3       50528       1  An image from the right eye of a male  patient...   \n",
       "4       91254       0  An image from the right eye of a male American...   \n",
       "...       ...     ...                                                ...   \n",
       "24095  148958       1  An image from the left eye of a male  patient,...   \n",
       "24096   96198       0  An image from the right eye of a no sex report...   \n",
       "24097   82724       2  An image from the left eye of a female White p...   \n",
       "24098  173196       1  An image from the left eye of a female  patien...   \n",
       "24099   53818       1  An image from the right eye of a no sex report...   \n",
       "\n",
       "       DR_2  DR_3  split                                         embeddings  \n",
       "0         1     1  train  [0.8949114084243774, 0.6178004741668701, -1.34...  \n",
       "1         1     1  train  [1.0349855422973633, 1.2772152423858643, -1.71...  \n",
       "2         1     1  train  [0.7820802927017212, 0.5888915657997131, -0.89...  \n",
       "3         1     1  train  [0.9266375303268433, 1.2518030405044556, -1.40...  \n",
       "4         0     0  train  [1.0237936973571777, 1.0459136962890625, -0.75...  \n",
       "...     ...   ...    ...                                                ...  \n",
       "24095     1     1  train  [0.9834482073783875, 1.3777140378952026, -1.40...  \n",
       "24096     0     0  train  [1.0272547006607056, 1.4537794589996338, 0.309...  \n",
       "24097     1     1  train  [0.5230445861816406, 0.7840505838394165, -1.13...  \n",
       "24098     1     1  train  [0.9105090498924255, 1.2843393087387085, -1.58...  \n",
       "24099     1     1  train  [0.9536399841308594, 1.3582689762115479, 0.423...  \n",
       "\n",
       "[24100 rows x 7 columns]"
      ]
     },
     "execution_count": 4,
     "metadata": {},
     "output_type": "execute_result"
    }
   ],
   "source": [
    "text = pd.read_csv(os.path.join(PATH, text_path))\n",
    "text"
   ]
  },
  {
   "cell_type": "code",
   "execution_count": 17,
   "id": "82b4ec38-d51c-43bd-8322-1a920a0fad86",
   "metadata": {
    "tags": []
   },
   "outputs": [
    {
     "data": {
      "text/html": [
       "<div>\n",
       "<style scoped>\n",
       "    .dataframe tbody tr th:only-of-type {\n",
       "        vertical-align: middle;\n",
       "    }\n",
       "\n",
       "    .dataframe tbody tr th {\n",
       "        vertical-align: top;\n",
       "    }\n",
       "\n",
       "    .dataframe thead th {\n",
       "        text-align: right;\n",
       "    }\n",
       "</style>\n",
       "<table border=\"1\" class=\"dataframe\">\n",
       "  <thead>\n",
       "    <tr style=\"text-align: right;\">\n",
       "      <th></th>\n",
       "      <th>ID</th>\n",
       "      <th>EYE_DR</th>\n",
       "      <th>text</th>\n",
       "      <th>DR_2</th>\n",
       "      <th>DR_3</th>\n",
       "      <th>split</th>\n",
       "      <th>embeddings</th>\n",
       "    </tr>\n",
       "  </thead>\n",
       "  <tbody>\n",
       "    <tr>\n",
       "      <th>0</th>\n",
       "      <td>67870</td>\n",
       "      <td>2</td>\n",
       "      <td>An image from the left eye of a female  patien...</td>\n",
       "      <td>1</td>\n",
       "      <td>1</td>\n",
       "      <td>train</td>\n",
       "      <td>[0.8949114084243774, 0.6178004741668701, -1.34...</td>\n",
       "    </tr>\n",
       "    <tr>\n",
       "      <th>1</th>\n",
       "      <td>19446</td>\n",
       "      <td>2</td>\n",
       "      <td>An image from the left eye of a female  patien...</td>\n",
       "      <td>1</td>\n",
       "      <td>1</td>\n",
       "      <td>train</td>\n",
       "      <td>[1.0349855422973633, 1.2772152423858643, -1.71...</td>\n",
       "    </tr>\n",
       "    <tr>\n",
       "      <th>2</th>\n",
       "      <td>113968</td>\n",
       "      <td>2</td>\n",
       "      <td>An image from the right eye of a male  patient...</td>\n",
       "      <td>1</td>\n",
       "      <td>1</td>\n",
       "      <td>train</td>\n",
       "      <td>[0.7820802927017212, 0.5888915657997131, -0.89...</td>\n",
       "    </tr>\n",
       "    <tr>\n",
       "      <th>3</th>\n",
       "      <td>50528</td>\n",
       "      <td>1</td>\n",
       "      <td>An image from the right eye of a male  patient...</td>\n",
       "      <td>1</td>\n",
       "      <td>1</td>\n",
       "      <td>train</td>\n",
       "      <td>[0.9266375303268433, 1.2518030405044556, -1.40...</td>\n",
       "    </tr>\n",
       "    <tr>\n",
       "      <th>4</th>\n",
       "      <td>91254</td>\n",
       "      <td>0</td>\n",
       "      <td>An image from the right eye of a male American...</td>\n",
       "      <td>0</td>\n",
       "      <td>0</td>\n",
       "      <td>train</td>\n",
       "      <td>[1.0237936973571777, 1.0459136962890625, -0.75...</td>\n",
       "    </tr>\n",
       "    <tr>\n",
       "      <th>...</th>\n",
       "      <td>...</td>\n",
       "      <td>...</td>\n",
       "      <td>...</td>\n",
       "      <td>...</td>\n",
       "      <td>...</td>\n",
       "      <td>...</td>\n",
       "      <td>...</td>\n",
       "    </tr>\n",
       "    <tr>\n",
       "      <th>24095</th>\n",
       "      <td>148958</td>\n",
       "      <td>1</td>\n",
       "      <td>An image from the left eye of a male  patient,...</td>\n",
       "      <td>1</td>\n",
       "      <td>1</td>\n",
       "      <td>train</td>\n",
       "      <td>[0.9834482073783875, 1.3777140378952026, -1.40...</td>\n",
       "    </tr>\n",
       "    <tr>\n",
       "      <th>24096</th>\n",
       "      <td>96198</td>\n",
       "      <td>0</td>\n",
       "      <td>An image from the right eye of a no sex report...</td>\n",
       "      <td>0</td>\n",
       "      <td>0</td>\n",
       "      <td>train</td>\n",
       "      <td>[1.0272547006607056, 1.4537794589996338, 0.309...</td>\n",
       "    </tr>\n",
       "    <tr>\n",
       "      <th>24097</th>\n",
       "      <td>82724</td>\n",
       "      <td>2</td>\n",
       "      <td>An image from the left eye of a female White p...</td>\n",
       "      <td>1</td>\n",
       "      <td>1</td>\n",
       "      <td>train</td>\n",
       "      <td>[0.5230445861816406, 0.7840505838394165, -1.13...</td>\n",
       "    </tr>\n",
       "    <tr>\n",
       "      <th>24098</th>\n",
       "      <td>173196</td>\n",
       "      <td>1</td>\n",
       "      <td>An image from the left eye of a female  patien...</td>\n",
       "      <td>1</td>\n",
       "      <td>1</td>\n",
       "      <td>train</td>\n",
       "      <td>[0.9105090498924255, 1.2843393087387085, -1.58...</td>\n",
       "    </tr>\n",
       "    <tr>\n",
       "      <th>24099</th>\n",
       "      <td>53818</td>\n",
       "      <td>1</td>\n",
       "      <td>An image from the right eye of a no sex report...</td>\n",
       "      <td>1</td>\n",
       "      <td>1</td>\n",
       "      <td>train</td>\n",
       "      <td>[0.9536399841308594, 1.3582689762115479, 0.423...</td>\n",
       "    </tr>\n",
       "  </tbody>\n",
       "</table>\n",
       "<p>24100 rows × 7 columns</p>\n",
       "</div>"
      ],
      "text/plain": [
       "           ID  EYE_DR                                               text  \\\n",
       "0       67870       2  An image from the left eye of a female  patien...   \n",
       "1       19446       2  An image from the left eye of a female  patien...   \n",
       "2      113968       2  An image from the right eye of a male  patient...   \n",
       "3       50528       1  An image from the right eye of a male  patient...   \n",
       "4       91254       0  An image from the right eye of a male American...   \n",
       "...       ...     ...                                                ...   \n",
       "24095  148958       1  An image from the left eye of a male  patient,...   \n",
       "24096   96198       0  An image from the right eye of a no sex report...   \n",
       "24097   82724       2  An image from the left eye of a female White p...   \n",
       "24098  173196       1  An image from the left eye of a female  patien...   \n",
       "24099   53818       1  An image from the right eye of a no sex report...   \n",
       "\n",
       "       DR_2  DR_3  split                                         embeddings  \n",
       "0         1     1  train  [0.8949114084243774, 0.6178004741668701, -1.34...  \n",
       "1         1     1  train  [1.0349855422973633, 1.2772152423858643, -1.71...  \n",
       "2         1     1  train  [0.7820802927017212, 0.5888915657997131, -0.89...  \n",
       "3         1     1  train  [0.9266375303268433, 1.2518030405044556, -1.40...  \n",
       "4         0     0  train  [1.0237936973571777, 1.0459136962890625, -0.75...  \n",
       "...     ...   ...    ...                                                ...  \n",
       "24095     1     1  train  [0.9834482073783875, 1.3777140378952026, -1.40...  \n",
       "24096     0     0  train  [1.0272547006607056, 1.4537794589996338, 0.309...  \n",
       "24097     1     1  train  [0.5230445861816406, 0.7840505838394165, -1.13...  \n",
       "24098     1     1  train  [0.9105090498924255, 1.2843393087387085, -1.58...  \n",
       "24099     1     1  train  [0.9536399841308594, 1.3582689762115479, 0.423...  \n",
       "\n",
       "[24100 rows x 7 columns]"
      ]
     },
     "execution_count": 17,
     "metadata": {},
     "output_type": "execute_result"
    }
   ],
   "source": [
    "df = text\n",
    "df"
   ]
  },
  {
   "cell_type": "markdown",
   "id": "5e68f7d9",
   "metadata": {},
   "source": [
    "### Images"
   ]
  },
  {
   "cell_type": "code",
   "execution_count": 6,
   "id": "88398a85",
   "metadata": {
    "tags": []
   },
   "outputs": [
    {
     "data": {
      "text/html": [
       "<div>\n",
       "<style scoped>\n",
       "    .dataframe tbody tr th:only-of-type {\n",
       "        vertical-align: middle;\n",
       "    }\n",
       "\n",
       "    .dataframe tbody tr th {\n",
       "        vertical-align: top;\n",
       "    }\n",
       "\n",
       "    .dataframe thead th {\n",
       "        text-align: right;\n",
       "    }\n",
       "</style>\n",
       "<table border=\"1\" class=\"dataframe\">\n",
       "  <thead>\n",
       "    <tr style=\"text-align: right;\">\n",
       "      <th></th>\n",
       "      <th>ImageName</th>\n",
       "      <th>0</th>\n",
       "      <th>1</th>\n",
       "      <th>2</th>\n",
       "      <th>3</th>\n",
       "      <th>4</th>\n",
       "      <th>5</th>\n",
       "      <th>6</th>\n",
       "      <th>7</th>\n",
       "      <th>8</th>\n",
       "      <th>...</th>\n",
       "      <th>758</th>\n",
       "      <th>759</th>\n",
       "      <th>760</th>\n",
       "      <th>761</th>\n",
       "      <th>762</th>\n",
       "      <th>763</th>\n",
       "      <th>764</th>\n",
       "      <th>765</th>\n",
       "      <th>766</th>\n",
       "      <th>767</th>\n",
       "    </tr>\n",
       "  </thead>\n",
       "  <tbody>\n",
       "    <tr>\n",
       "      <th>0</th>\n",
       "      <td>122786.jpeg</td>\n",
       "      <td>-1.659120</td>\n",
       "      <td>2.434443</td>\n",
       "      <td>5.408528</td>\n",
       "      <td>-1.473753</td>\n",
       "      <td>-1.231571</td>\n",
       "      <td>-1.579182</td>\n",
       "      <td>0.310355</td>\n",
       "      <td>0.089211</td>\n",
       "      <td>-2.054411</td>\n",
       "      <td>...</td>\n",
       "      <td>-0.834506</td>\n",
       "      <td>-1.625948</td>\n",
       "      <td>-0.832199</td>\n",
       "      <td>0.383083</td>\n",
       "      <td>3.018108</td>\n",
       "      <td>-0.377753</td>\n",
       "      <td>3.330745</td>\n",
       "      <td>-0.877753</td>\n",
       "      <td>0.706453</td>\n",
       "      <td>-0.888934</td>\n",
       "    </tr>\n",
       "    <tr>\n",
       "      <th>1</th>\n",
       "      <td>108083.jpeg</td>\n",
       "      <td>0.649771</td>\n",
       "      <td>2.682362</td>\n",
       "      <td>3.609813</td>\n",
       "      <td>-0.099313</td>\n",
       "      <td>-3.025293</td>\n",
       "      <td>-1.844079</td>\n",
       "      <td>0.110555</td>\n",
       "      <td>1.285531</td>\n",
       "      <td>-3.551425</td>\n",
       "      <td>...</td>\n",
       "      <td>-1.258714</td>\n",
       "      <td>-1.734028</td>\n",
       "      <td>-0.291844</td>\n",
       "      <td>0.766295</td>\n",
       "      <td>3.141811</td>\n",
       "      <td>-0.881183</td>\n",
       "      <td>0.988453</td>\n",
       "      <td>-1.971897</td>\n",
       "      <td>0.635810</td>\n",
       "      <td>-2.960828</td>\n",
       "    </tr>\n",
       "    <tr>\n",
       "      <th>2</th>\n",
       "      <td>139103.jpeg</td>\n",
       "      <td>-0.452875</td>\n",
       "      <td>1.959501</td>\n",
       "      <td>5.043268</td>\n",
       "      <td>-1.375569</td>\n",
       "      <td>-2.404718</td>\n",
       "      <td>-0.326342</td>\n",
       "      <td>0.193852</td>\n",
       "      <td>-1.271304</td>\n",
       "      <td>-2.489283</td>\n",
       "      <td>...</td>\n",
       "      <td>-0.552394</td>\n",
       "      <td>-2.835432</td>\n",
       "      <td>0.370812</td>\n",
       "      <td>-0.378938</td>\n",
       "      <td>3.269454</td>\n",
       "      <td>-0.024993</td>\n",
       "      <td>2.338004</td>\n",
       "      <td>-1.397426</td>\n",
       "      <td>1.011528</td>\n",
       "      <td>-2.073067</td>\n",
       "    </tr>\n",
       "    <tr>\n",
       "      <th>3</th>\n",
       "      <td>104950.jpeg</td>\n",
       "      <td>0.243488</td>\n",
       "      <td>1.284947</td>\n",
       "      <td>3.641525</td>\n",
       "      <td>-1.265688</td>\n",
       "      <td>-1.907023</td>\n",
       "      <td>-1.053229</td>\n",
       "      <td>0.491267</td>\n",
       "      <td>-0.739931</td>\n",
       "      <td>-1.183857</td>\n",
       "      <td>...</td>\n",
       "      <td>-0.259700</td>\n",
       "      <td>-3.011966</td>\n",
       "      <td>-0.380113</td>\n",
       "      <td>0.168580</td>\n",
       "      <td>3.681773</td>\n",
       "      <td>0.684641</td>\n",
       "      <td>3.809679</td>\n",
       "      <td>-1.039821</td>\n",
       "      <td>1.166576</td>\n",
       "      <td>-1.322446</td>\n",
       "    </tr>\n",
       "    <tr>\n",
       "      <th>4</th>\n",
       "      <td>140898.jpeg</td>\n",
       "      <td>0.992673</td>\n",
       "      <td>1.722367</td>\n",
       "      <td>3.338633</td>\n",
       "      <td>-0.978513</td>\n",
       "      <td>-2.407126</td>\n",
       "      <td>-1.316537</td>\n",
       "      <td>1.006404</td>\n",
       "      <td>0.145190</td>\n",
       "      <td>-3.242617</td>\n",
       "      <td>...</td>\n",
       "      <td>-0.961301</td>\n",
       "      <td>-2.410475</td>\n",
       "      <td>0.398771</td>\n",
       "      <td>-1.165674</td>\n",
       "      <td>3.625564</td>\n",
       "      <td>-0.225109</td>\n",
       "      <td>2.984762</td>\n",
       "      <td>-1.122606</td>\n",
       "      <td>-0.683079</td>\n",
       "      <td>-2.567407</td>\n",
       "    </tr>\n",
       "  </tbody>\n",
       "</table>\n",
       "<p>5 rows × 769 columns</p>\n",
       "</div>"
      ],
      "text/plain": [
       "     ImageName         0         1         2         3         4         5  \\\n",
       "0  122786.jpeg -1.659120  2.434443  5.408528 -1.473753 -1.231571 -1.579182   \n",
       "1  108083.jpeg  0.649771  2.682362  3.609813 -0.099313 -3.025293 -1.844079   \n",
       "2  139103.jpeg -0.452875  1.959501  5.043268 -1.375569 -2.404718 -0.326342   \n",
       "3  104950.jpeg  0.243488  1.284947  3.641525 -1.265688 -1.907023 -1.053229   \n",
       "4  140898.jpeg  0.992673  1.722367  3.338633 -0.978513 -2.407126 -1.316537   \n",
       "\n",
       "          6         7         8  ...       758       759       760       761  \\\n",
       "0  0.310355  0.089211 -2.054411  ... -0.834506 -1.625948 -0.832199  0.383083   \n",
       "1  0.110555  1.285531 -3.551425  ... -1.258714 -1.734028 -0.291844  0.766295   \n",
       "2  0.193852 -1.271304 -2.489283  ... -0.552394 -2.835432  0.370812 -0.378938   \n",
       "3  0.491267 -0.739931 -1.183857  ... -0.259700 -3.011966 -0.380113  0.168580   \n",
       "4  1.006404  0.145190 -3.242617  ... -0.961301 -2.410475  0.398771 -1.165674   \n",
       "\n",
       "        762       763       764       765       766       767  \n",
       "0  3.018108 -0.377753  3.330745 -0.877753  0.706453 -0.888934  \n",
       "1  3.141811 -0.881183  0.988453 -1.971897  0.635810 -2.960828  \n",
       "2  3.269454 -0.024993  2.338004 -1.397426  1.011528 -2.073067  \n",
       "3  3.681773  0.684641  3.809679 -1.039821  1.166576 -1.322446  \n",
       "4  3.625564 -0.225109  2.984762 -1.122606 -0.683079 -2.567407  \n",
       "\n",
       "[5 rows x 769 columns]"
      ]
     },
     "execution_count": 6,
     "metadata": {},
     "output_type": "execute_result"
    }
   ],
   "source": [
    "images = pd.read_csv(os.path.join(PATH, images_path))\n",
    "images.head()"
   ]
  },
  {
   "cell_type": "code",
   "execution_count": 7,
   "id": "8d3bce1a-0927-4960-acd1-54d005825f5c",
   "metadata": {
    "tags": []
   },
   "outputs": [
    {
     "data": {
      "text/plain": [
       "Index(['ImageName', '0', '1', '2', '3', '4', '5', '6', '7', '8',\n",
       "       ...\n",
       "       '758', '759', '760', '761', '762', '763', '764', '765', '766', '767'],\n",
       "      dtype='object', length=769)"
      ]
     },
     "execution_count": 7,
     "metadata": {},
     "output_type": "execute_result"
    }
   ],
   "source": [
    "images.columns"
   ]
  },
  {
   "cell_type": "code",
   "execution_count": 8,
   "id": "0bc30514-7f45-485a-8229-37de101b24e2",
   "metadata": {
    "tags": []
   },
   "outputs": [
    {
     "data": {
      "text/plain": [
       "Index(['ID', 'EYE_DR', 'text', 'DR_2', 'DR_3', 'split', 'embeddings'], dtype='object')"
      ]
     },
     "execution_count": 8,
     "metadata": {},
     "output_type": "execute_result"
    }
   ],
   "source": [
    "text.columns"
   ]
  },
  {
   "cell_type": "markdown",
   "id": "855f54d0",
   "metadata": {},
   "source": [
    "### Merge and preprocess the datasets"
   ]
  },
  {
   "cell_type": "code",
   "execution_count": null,
   "id": "c392b73f",
   "metadata": {
    "tags": []
   },
   "outputs": [
    {
     "name": "stdout",
     "output_type": "stream",
     "text": [
      "S: check str\n"
     ]
    }
   ],
   "source": [
    "df = preprocess_data(text, images,text_id= \"ID\", image_id=\"ImageName\")\n",
    "df.drop(columns='text', inplace=True)\n",
    "df.DR_3 = df.DR_3.astype(str)\n",
    "df.to_csv(os.path.join(PATH, 'embeddings.csv'), index=False)\n",
    "df.head()"
   ]
  },
  {
   "cell_type": "markdown",
   "id": "413cf1be",
   "metadata": {},
   "source": [
    "## Data Perparation"
   ]
  },
  {
   "cell_type": "code",
   "execution_count": null,
   "id": "8d394147",
   "metadata": {
    "tags": []
   },
   "outputs": [],
   "source": [
    "# Split the data\n",
    "train_df, test_df = split_data(df)\n",
    "\n",
    "# Select features and labels vectors\n",
    "text_columns = [column for column in df.columns if 'text' in column] #[f'text_{i}']\n",
    "image_columns = [column for column in df.columns if 'image' in column] #[f'image_{i}']\n",
    "label_columns = 'DR_3'\n",
    "\n",
    "\n",
    "# Process and one-hot encode labels for training set\n",
    "train_labels, mlb, train_columns = process_labels(train_df, col=label_columns)\n",
    "test_labels = process_labels(test_df, col=label_columns, train_columns=train_columns)\n",
    "\n",
    "\n",
    "train_dataset = VQADataset(train_df, text_columns, image_columns, label_columns, mlb, train_columns)\n",
    "test_dataset = VQADataset(test_df, text_columns, image_columns, label_columns, mlb, train_columns)\n",
    "\n",
    "\n",
    "train_loader = DataLoader(train_dataset, batch_size=64, shuffle=True, num_workers=2)\n",
    "test_loader = DataLoader(test_dataset, batch_size=64, shuffle=False, num_workers=2)"
   ]
  },
  {
   "cell_type": "code",
   "execution_count": null,
   "id": "bb1e3815-445e-46a0-846c-f84d0129ada2",
   "metadata": {
    "tags": []
   },
   "outputs": [],
   "source": [
    "df"
   ]
  },
  {
   "cell_type": "code",
   "execution_count": null,
   "id": "1d617f7d-4d92-4279-a586-0990aabc1e0d",
   "metadata": {
    "tags": []
   },
   "outputs": [],
   "source": [
    "text_columns"
   ]
  },
  {
   "cell_type": "markdown",
   "id": "4d7147d4",
   "metadata": {},
   "source": [
    "### Models"
   ]
  },
  {
   "cell_type": "code",
   "execution_count": null,
   "id": "76e3c03c",
   "metadata": {
    "tags": []
   },
   "outputs": [],
   "source": [
    "text_input_size = len(text_columns)\n",
    "image_input_size = len(image_columns)\n",
    "if label_columns == 'DR_2':\n",
    "    output_size = 1\n",
    "else:\n",
    "    output_size = len(pd.unique(train_df[label_columns]))\n",
    "multilabel = False"
   ]
  },
  {
   "cell_type": "code",
   "execution_count": null,
   "id": "860f052b",
   "metadata": {
    "tags": []
   },
   "outputs": [],
   "source": [
    "# Train early fusion model\n",
    "print(\"Training Early Fusion Model:\")\n",
    "train_early_fusion(train_loader, test_loader, text_input_size, image_input_size, output_size, num_epochs=50, multilabel=multilabel, report=True)"
   ]
  },
  {
   "cell_type": "code",
   "execution_count": null,
   "id": "6f281550",
   "metadata": {
    "tags": []
   },
   "outputs": [],
   "source": [
    "# Train late fusion model\n",
    "print(\"Training Late Fusion Model:\")\n",
    "train_late_fusion(train_loader, test_loader, text_input_size, image_input_size, output_size, num_epochs=50, multilabel=multilabel, report=True)"
   ]
  },
  {
   "cell_type": "code",
   "execution_count": null,
   "id": "7237678b",
   "metadata": {},
   "outputs": [],
   "source": []
  },
  {
   "cell_type": "code",
   "execution_count": null,
   "id": "0f2e9561-d66d-4ef7-9cba-a5168884274f",
   "metadata": {},
   "outputs": [],
   "source": []
  }
 ],
 "metadata": {
  "kernelspec": {
   "display_name": "foundational",
   "language": "python",
   "name": "foundational"
  },
  "language_info": {
   "codemirror_mode": {
    "name": "ipython",
    "version": 3
   },
   "file_extension": ".py",
   "mimetype": "text/x-python",
   "name": "python",
   "nbconvert_exporter": "python",
   "pygments_lexer": "ipython3",
   "version": "3.11.4"
  }
 },
 "nbformat": 4,
 "nbformat_minor": 5
}
