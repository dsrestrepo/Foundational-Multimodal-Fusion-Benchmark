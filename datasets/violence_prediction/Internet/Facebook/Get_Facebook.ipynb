{
 "cells": [
  {
   "cell_type": "markdown",
   "id": "7cc3212f",
   "metadata": {},
   "source": [
    "## Setup Environment"
   ]
  },
  {
   "cell_type": "code",
   "execution_count": 1,
   "id": "81229c7d",
   "metadata": {},
   "outputs": [],
   "source": [
    "#!pip install facebook-sdk"
   ]
  },
  {
   "cell_type": "code",
   "execution_count": 2,
   "id": "94ceba90",
   "metadata": {},
   "outputs": [
    {
     "name": "stdout",
     "output_type": "stream",
     "text": [
      "{'error': {'message': 'Error validating access token: Session has expired on Saturday, 25-Mar-23 18:00:00 PDT. The current time is Monday, 27-Mar-23 09:35:12 PDT.', 'type': 'OAuthException', 'code': 190, 'error_subcode': 463, 'fbtrace_id': 'AO3r7ViUxj849s8YxOf2yMV'}}\n"
     ]
    }
   ],
   "source": [
    "import requests\n",
    "\n",
    "# Set up the API endpoint and parameters\n",
    "endpoint = \"https://graph.facebook.com/v13.0/search\"\n",
    "params = {\n",
    "    \"q\": \"violencia\",\n",
    "    \"type\": \"post\",\n",
    "    \"center\": \"2.4448,-76.6147\",\n",
    "    \"distance\": \"10000\",\n",
    "    \"access_token\": \"EAAKkTMZACxeEBAFYlLewQydSidqvNg7KX9HOs9ZBkFl57ktUsm0CUZBR4mwhzeQQpy1aK4oQuVm5lqAQ3F0ZAQokr0ek3mwwnxcIXEiV6tJgRD8iq92m67TmB5ZAMJKkeD6DMxXV0GTgyi0t1BA1omjIVtlI9TJf8ZAzShpU4fIFIFW1DXagmAGYXhrZATlYxGRnQyLrCGmJSY1EQsKoPz3AOvZAtVzwWXZB03OfMNkaBBmJruc7C5Evn\"\n",
    "}\n",
    "\n",
    "# Make the API call and print the results\n",
    "response = requests.get(endpoint, params=params)\n",
    "data = response.json()\n",
    "print(data)"
   ]
  },
  {
   "cell_type": "code",
   "execution_count": null,
   "id": "8086e451",
   "metadata": {},
   "outputs": [],
   "source": []
  }
 ],
 "metadata": {
  "kernelspec": {
   "display_name": "Python 3 (ipykernel)",
   "language": "python",
   "name": "python3"
  },
  "language_info": {
   "codemirror_mode": {
    "name": "ipython",
    "version": 3
   },
   "file_extension": ".py",
   "mimetype": "text/x-python",
   "name": "python",
   "nbconvert_exporter": "python",
   "pygments_lexer": "ipython3",
   "version": "3.9.13"
  }
 },
 "nbformat": 4,
 "nbformat_minor": 5
}
