{
 "cells": [
  {
   "cell_type": "markdown",
   "id": "c42ac882",
   "metadata": {},
   "source": [
    "## Setup Environment"
   ]
  },
  {
   "cell_type": "code",
   "execution_count": 4,
   "id": "e938f833",
   "metadata": {},
   "outputs": [],
   "source": [
    "import snscrape.modules.twitter as sntwitter\n",
    "\n",
    "import datetime as dt\n",
    "import pandas as pd\n",
    "import itertools"
   ]
  },
  {
   "cell_type": "code",
   "execution_count": 5,
   "id": "b40f8c84",
   "metadata": {},
   "outputs": [],
   "source": [
    "Out_dir = \"out.csv\""
   ]
  },
  {
   "cell_type": "markdown",
   "id": "0bee585b",
   "metadata": {},
   "source": [
    "## Get tweets\n",
    "\n",
    "**Note:** Given some changes in twitter and their scraping policies, many of the libraries used in Python to do Twitter web scraping may present bugs in the future."
   ]
  },
  {
   "cell_type": "code",
   "execution_count": 6,
   "id": "0e733fdf",
   "metadata": {},
   "outputs": [],
   "source": [
    "begin_date = dt.date(2020,4,14)\n",
    "end_date = dt.date(2022,11,2)\n",
    "limit = 100\n",
    "lang = 'english'\n",
    "loc = '2.4448, -76.6147, 50km'\n",
    "\n",
    "query = f' until:{str(end_date)} since:{str(begin_date)} geocode:\"{loc}\"'\n",
    "tweets = []"
   ]
  },
  {
   "cell_type": "code",
   "execution_count": null,
   "id": "9ec6e3d5",
   "metadata": {},
   "outputs": [],
   "source": [
    "for tweet in sntwitter.TwitterSearchScraper(query).get_items():\n",
    "    \n",
    "    #print(vars(tweet))\n",
    "    \n",
    "    # break\n",
    "    if len(tweets) == limit:\n",
    "        break\n",
    "    else:\n",
    "        tweets.append([tweet.date, tweet.username, tweet.content])\n"
   ]
  },
  {
   "cell_type": "code",
   "execution_count": null,
   "id": "70b1cd32",
   "metadata": {},
   "outputs": [
    {
     "data": {
      "text/html": [
       "<div>\n",
       "<style scoped>\n",
       "    .dataframe tbody tr th:only-of-type {\n",
       "        vertical-align: middle;\n",
       "    }\n",
       "\n",
       "    .dataframe tbody tr th {\n",
       "        vertical-align: top;\n",
       "    }\n",
       "\n",
       "    .dataframe thead th {\n",
       "        text-align: right;\n",
       "    }\n",
       "</style>\n",
       "<table border=\"1\" class=\"dataframe\">\n",
       "  <thead>\n",
       "    <tr style=\"text-align: right;\">\n",
       "      <th></th>\n",
       "      <th>Date</th>\n",
       "      <th>User</th>\n",
       "      <th>Tweet</th>\n",
       "    </tr>\n",
       "  </thead>\n",
       "  <tbody>\n",
       "    <tr>\n",
       "      <th>0</th>\n",
       "      <td>2022-11-01 23:58:32+00:00</td>\n",
       "      <td>JuanFdoGaviriaG</td>\n",
       "      <td>@dimeemane Yo por q no tengo, ni novia ni árbo...</td>\n",
       "    </tr>\n",
       "    <tr>\n",
       "      <th>1</th>\n",
       "      <td>2022-11-01 23:58:31+00:00</td>\n",
       "      <td>Proclama</td>\n",
       "      <td>Apreciado Edgar Guaza: en la vida siempre tend...</td>\n",
       "    </tr>\n",
       "    <tr>\n",
       "      <th>2</th>\n",
       "      <td>2022-11-01 23:49:28+00:00</td>\n",
       "      <td>Isato24</td>\n",
       "      <td>No hay nadie que supere esto. Los amo 💜 @coldplay</td>\n",
       "    </tr>\n",
       "    <tr>\n",
       "      <th>3</th>\n",
       "      <td>2022-11-01 23:46:15+00:00</td>\n",
       "      <td>rstprieto</td>\n",
       "      <td>Tomaré el silencio como un \"gracias pero paso\"</td>\n",
       "    </tr>\n",
       "    <tr>\n",
       "      <th>4</th>\n",
       "      <td>2022-11-01 23:41:27+00:00</td>\n",
       "      <td>EvelynJuli99</td>\n",
       "      <td>Uff🫶🏻</td>\n",
       "    </tr>\n",
       "    <tr>\n",
       "      <th>...</th>\n",
       "      <td>...</td>\n",
       "      <td>...</td>\n",
       "      <td>...</td>\n",
       "    </tr>\n",
       "    <tr>\n",
       "      <th>95</th>\n",
       "      <td>2022-11-01 13:50:50+00:00</td>\n",
       "      <td>lastadk</td>\n",
       "      <td>Cuando se hacen cambios y estás afectan de for...</td>\n",
       "    </tr>\n",
       "    <tr>\n",
       "      <th>96</th>\n",
       "      <td>2022-11-01 13:46:37+00:00</td>\n",
       "      <td>lastadk</td>\n",
       "      <td>@DavidRacero Yo vi este disfraz en una novela....</td>\n",
       "    </tr>\n",
       "    <tr>\n",
       "      <th>97</th>\n",
       "      <td>2022-11-01 13:36:46+00:00</td>\n",
       "      <td>PabloACollazos</td>\n",
       "      <td>¡Veamos a PUBGLATAM en Twitch! https://t.co/J0...</td>\n",
       "    </tr>\n",
       "    <tr>\n",
       "      <th>98</th>\n",
       "      <td>2022-11-01 13:33:48+00:00</td>\n",
       "      <td>efrioss</td>\n",
       "      <td>@LeoPupiales Hace años que no.</td>\n",
       "    </tr>\n",
       "    <tr>\n",
       "      <th>99</th>\n",
       "      <td>2022-11-01 13:31:47+00:00</td>\n",
       "      <td>maritzag_123</td>\n",
       "      <td>😂🤣😂🤣🤣🤣 https://t.co/GjecD51LSZ</td>\n",
       "    </tr>\n",
       "  </tbody>\n",
       "</table>\n",
       "<p>100 rows × 3 columns</p>\n",
       "</div>"
      ],
      "text/plain": [
       "                        Date             User  \\\n",
       "0  2022-11-01 23:58:32+00:00  JuanFdoGaviriaG   \n",
       "1  2022-11-01 23:58:31+00:00         Proclama   \n",
       "2  2022-11-01 23:49:28+00:00          Isato24   \n",
       "3  2022-11-01 23:46:15+00:00        rstprieto   \n",
       "4  2022-11-01 23:41:27+00:00     EvelynJuli99   \n",
       "..                       ...              ...   \n",
       "95 2022-11-01 13:50:50+00:00          lastadk   \n",
       "96 2022-11-01 13:46:37+00:00          lastadk   \n",
       "97 2022-11-01 13:36:46+00:00   PabloACollazos   \n",
       "98 2022-11-01 13:33:48+00:00          efrioss   \n",
       "99 2022-11-01 13:31:47+00:00     maritzag_123   \n",
       "\n",
       "                                                Tweet  \n",
       "0   @dimeemane Yo por q no tengo, ni novia ni árbo...  \n",
       "1   Apreciado Edgar Guaza: en la vida siempre tend...  \n",
       "2   No hay nadie que supere esto. Los amo 💜 @coldplay  \n",
       "3      Tomaré el silencio como un \"gracias pero paso\"  \n",
       "4                                               Uff🫶🏻  \n",
       "..                                                ...  \n",
       "95  Cuando se hacen cambios y estás afectan de for...  \n",
       "96  @DavidRacero Yo vi este disfraz en una novela....  \n",
       "97  ¡Veamos a PUBGLATAM en Twitch! https://t.co/J0...  \n",
       "98                     @LeoPupiales Hace años que no.  \n",
       "99                     😂🤣😂🤣🤣🤣 https://t.co/GjecD51LSZ  \n",
       "\n",
       "[100 rows x 3 columns]"
      ]
     },
     "execution_count": 6,
     "metadata": {},
     "output_type": "execute_result"
    }
   ],
   "source": [
    "df = pd.DataFrame(tweets, columns=['Date', 'User', 'Tweet'])\n",
    "df"
   ]
  },
  {
   "cell_type": "code",
   "execution_count": null,
   "id": "2321d862",
   "metadata": {},
   "outputs": [],
   "source": []
  }
 ],
 "metadata": {
  "kernelspec": {
   "display_name": "Python 3 (ipykernel)",
   "language": "python",
   "name": "python3"
  },
  "language_info": {
   "codemirror_mode": {
    "name": "ipython",
    "version": 3
   },
   "file_extension": ".py",
   "mimetype": "text/x-python",
   "name": "python",
   "nbconvert_exporter": "python",
   "pygments_lexer": "ipython3",
   "version": "3.8.17"
  }
 },
 "nbformat": 4,
 "nbformat_minor": 5
}
