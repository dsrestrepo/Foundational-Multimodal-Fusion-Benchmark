{
 "cells": [
  {
   "cell_type": "markdown",
   "id": "b8cd8368",
   "metadata": {},
   "source": [
    "### Setup Environment"
   ]
  },
  {
   "cell_type": "code",
   "execution_count": 1,
   "id": "2c0861f5",
   "metadata": {},
   "outputs": [],
   "source": [
    "from dotenv import load_dotenv"
   ]
  },
  {
   "cell_type": "code",
   "execution_count": 3,
   "id": "57e56e72",
   "metadata": {},
   "outputs": [],
   "source": [
    "import os\n",
    "from mediacloud import api\n",
    "\n",
    "# Read your personal API key from that .env file \n",
    "my_mc_api_key = os.getenv('MEDIA_CLOUD')"
   ]
  },
  {
   "cell_type": "code",
   "execution_count": 5,
   "id": "d4be87d2",
   "metadata": {},
   "outputs": [
    {
     "ename": "AttributeError",
     "evalue": "module 'mediacloud.api' has no attribute 'MediaCloud'",
     "output_type": "error",
     "traceback": [
      "\u001b[0;31m---------------------------------------------------------------------------\u001b[0m",
      "\u001b[0;31mAttributeError\u001b[0m                            Traceback (most recent call last)",
      "Cell \u001b[0;32mIn[5], line 2\u001b[0m\n\u001b[1;32m      1\u001b[0m \u001b[38;5;66;03m# A convention we use is to name your api client `mc`\u001b[39;00m\n\u001b[0;32m----> 2\u001b[0m mc \u001b[38;5;241m=\u001b[39m \u001b[43mapi\u001b[49m\u001b[38;5;241;43m.\u001b[39;49m\u001b[43mMediaCloud\u001b[49m(my_mc_api_key)\n\u001b[1;32m      3\u001b[0m mediacloud\u001b[38;5;241m.\u001b[39m__version__\n",
      "\u001b[0;31mAttributeError\u001b[0m: module 'mediacloud.api' has no attribute 'MediaCloud'"
     ]
    }
   ],
   "source": [
    "# A convention we use is to name your api client `mc`\n",
    "mc = api.MediaCloud(my_mc_api_key)\n",
    "mediacloud.__version__"
   ]
  },
  {
   "cell_type": "code",
   "execution_count": null,
   "id": "bd5eb280",
   "metadata": {},
   "outputs": [],
   "source": [
    "# make sure your connection and API key work by asking for the high-level system statistics\n",
    "mc.stats()\n",
    "# or print it out as a nice json tree - we'll use this later (only works in Jupyter Lab)\n",
    "from IPython.display import JSON\n",
    "JSON(mc.stats())"
   ]
  }
 ],
 "metadata": {
  "kernelspec": {
   "display_name": "Python [conda env:data_fusion_v0_0_1]",
   "language": "python",
   "name": "conda-env-data_fusion_v0_0_1-py"
  },
  "language_info": {
   "codemirror_mode": {
    "name": "ipython",
    "version": 3
   },
   "file_extension": ".py",
   "mimetype": "text/x-python",
   "name": "python",
   "nbconvert_exporter": "python",
   "pygments_lexer": "ipython3",
   "version": "3.8.17"
  }
 },
 "nbformat": 4,
 "nbformat_minor": 5
}
